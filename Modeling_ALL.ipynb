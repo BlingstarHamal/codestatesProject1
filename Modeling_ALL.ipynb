{
  "cells": [
    {
      "cell_type": "markdown",
      "metadata": {
        "id": "qGbNEydaeFAO"
      },
      "source": [
        "# LIB"
      ]
    },
    {
      "cell_type": "code",
      "execution_count": 1,
      "metadata": {
        "colab": {
          "base_uri": "https://localhost:8080/"
        },
        "id": "qq6b5f7aeFAQ",
        "outputId": "0e082209-19ce-4790-9423-3b53e714bcea"
      },
      "outputs": [
        {
          "name": "stdout",
          "output_type": "stream",
          "text": [
            "Requirement already satisfied: catboost in /Users/sanghyukkim/miniconda3/envs/cp1/lib/python3.8/site-packages (1.0.6)\n",
            "Requirement already satisfied: numpy>=1.16.0 in /Users/sanghyukkim/miniconda3/envs/cp1/lib/python3.8/site-packages (from catboost) (1.23.0)\n",
            "Requirement already satisfied: pandas>=0.24.0 in /Users/sanghyukkim/miniconda3/envs/cp1/lib/python3.8/site-packages (from catboost) (1.4.3)\n",
            "Requirement already satisfied: matplotlib in /Users/sanghyukkim/miniconda3/envs/cp1/lib/python3.8/site-packages (from catboost) (3.5.2)\n",
            "Requirement already satisfied: six in /Users/sanghyukkim/miniconda3/envs/cp1/lib/python3.8/site-packages (from catboost) (1.16.0)\n",
            "Requirement already satisfied: scipy in /Users/sanghyukkim/miniconda3/envs/cp1/lib/python3.8/site-packages (from catboost) (1.8.1)\n",
            "Requirement already satisfied: plotly in /Users/sanghyukkim/miniconda3/envs/cp1/lib/python3.8/site-packages (from catboost) (5.9.0)\n",
            "Requirement already satisfied: graphviz in /Users/sanghyukkim/miniconda3/envs/cp1/lib/python3.8/site-packages (from catboost) (0.20)\n",
            "Requirement already satisfied: pytz>=2020.1 in /Users/sanghyukkim/miniconda3/envs/cp1/lib/python3.8/site-packages (from pandas>=0.24.0->catboost) (2022.1)\n",
            "Requirement already satisfied: python-dateutil>=2.8.1 in /Users/sanghyukkim/miniconda3/envs/cp1/lib/python3.8/site-packages (from pandas>=0.24.0->catboost) (2.8.2)\n",
            "Requirement already satisfied: fonttools>=4.22.0 in /Users/sanghyukkim/miniconda3/envs/cp1/lib/python3.8/site-packages (from matplotlib->catboost) (4.33.3)\n",
            "Requirement already satisfied: pyparsing>=2.2.1 in /Users/sanghyukkim/miniconda3/envs/cp1/lib/python3.8/site-packages (from matplotlib->catboost) (3.0.9)\n",
            "Requirement already satisfied: pillow>=6.2.0 in /Users/sanghyukkim/miniconda3/envs/cp1/lib/python3.8/site-packages (from matplotlib->catboost) (9.1.1)\n",
            "Requirement already satisfied: kiwisolver>=1.0.1 in /Users/sanghyukkim/miniconda3/envs/cp1/lib/python3.8/site-packages (from matplotlib->catboost) (1.4.3)\n",
            "Requirement already satisfied: cycler>=0.10 in /Users/sanghyukkim/miniconda3/envs/cp1/lib/python3.8/site-packages (from matplotlib->catboost) (0.11.0)\n",
            "Requirement already satisfied: packaging>=20.0 in /Users/sanghyukkim/miniconda3/envs/cp1/lib/python3.8/site-packages (from matplotlib->catboost) (21.3)\n",
            "Requirement already satisfied: tenacity>=6.2.0 in /Users/sanghyukkim/miniconda3/envs/cp1/lib/python3.8/site-packages (from plotly->catboost) (8.0.1)\n",
            "Requirement already satisfied: category_encoders in /Users/sanghyukkim/miniconda3/envs/cp1/lib/python3.8/site-packages (2.5.0)\n",
            "Requirement already satisfied: numpy>=1.14.0 in /Users/sanghyukkim/miniconda3/envs/cp1/lib/python3.8/site-packages (from category_encoders) (1.23.0)\n",
            "Requirement already satisfied: scikit-learn>=0.20.0 in /Users/sanghyukkim/miniconda3/envs/cp1/lib/python3.8/site-packages (from category_encoders) (1.1.1)\n",
            "Requirement already satisfied: scipy>=1.0.0 in /Users/sanghyukkim/miniconda3/envs/cp1/lib/python3.8/site-packages (from category_encoders) (1.8.1)\n",
            "Requirement already satisfied: statsmodels>=0.9.0 in /Users/sanghyukkim/miniconda3/envs/cp1/lib/python3.8/site-packages (from category_encoders) (0.13.2)\n",
            "Requirement already satisfied: patsy>=0.5.1 in /Users/sanghyukkim/miniconda3/envs/cp1/lib/python3.8/site-packages (from category_encoders) (0.5.2)\n",
            "Requirement already satisfied: pandas>=1.0.5 in /Users/sanghyukkim/miniconda3/envs/cp1/lib/python3.8/site-packages (from category_encoders) (1.4.3)\n",
            "Requirement already satisfied: python-dateutil>=2.8.1 in /Users/sanghyukkim/miniconda3/envs/cp1/lib/python3.8/site-packages (from pandas>=1.0.5->category_encoders) (2.8.2)\n",
            "Requirement already satisfied: pytz>=2020.1 in /Users/sanghyukkim/miniconda3/envs/cp1/lib/python3.8/site-packages (from pandas>=1.0.5->category_encoders) (2022.1)\n",
            "Requirement already satisfied: six in /Users/sanghyukkim/miniconda3/envs/cp1/lib/python3.8/site-packages (from patsy>=0.5.1->category_encoders) (1.16.0)\n",
            "Requirement already satisfied: joblib>=1.0.0 in /Users/sanghyukkim/miniconda3/envs/cp1/lib/python3.8/site-packages (from scikit-learn>=0.20.0->category_encoders) (1.1.0)\n",
            "Requirement already satisfied: threadpoolctl>=2.0.0 in /Users/sanghyukkim/miniconda3/envs/cp1/lib/python3.8/site-packages (from scikit-learn>=0.20.0->category_encoders) (3.1.0)\n",
            "Requirement already satisfied: packaging>=21.3 in /Users/sanghyukkim/miniconda3/envs/cp1/lib/python3.8/site-packages (from statsmodels>=0.9.0->category_encoders) (21.3)\n",
            "Requirement already satisfied: pyparsing!=3.0.5,>=2.0.2 in /Users/sanghyukkim/miniconda3/envs/cp1/lib/python3.8/site-packages (from packaging>=21.3->statsmodels>=0.9.0->category_encoders) (3.0.9)\n",
            "Requirement already satisfied: optuna in /Users/sanghyukkim/miniconda3/envs/cp1/lib/python3.8/site-packages (2.10.1)\n",
            "Requirement already satisfied: cmaes>=0.8.2 in /Users/sanghyukkim/miniconda3/envs/cp1/lib/python3.8/site-packages (from optuna) (0.8.2)\n",
            "Requirement already satisfied: PyYAML in /Users/sanghyukkim/miniconda3/envs/cp1/lib/python3.8/site-packages (from optuna) (6.0)\n",
            "Requirement already satisfied: cliff in /Users/sanghyukkim/miniconda3/envs/cp1/lib/python3.8/site-packages (from optuna) (3.10.1)\n",
            "Requirement already satisfied: scipy!=1.4.0 in /Users/sanghyukkim/miniconda3/envs/cp1/lib/python3.8/site-packages (from optuna) (1.8.1)\n",
            "Requirement already satisfied: packaging>=20.0 in /Users/sanghyukkim/miniconda3/envs/cp1/lib/python3.8/site-packages (from optuna) (21.3)\n",
            "Requirement already satisfied: colorlog in /Users/sanghyukkim/miniconda3/envs/cp1/lib/python3.8/site-packages (from optuna) (6.6.0)\n",
            "Requirement already satisfied: alembic in /Users/sanghyukkim/miniconda3/envs/cp1/lib/python3.8/site-packages (from optuna) (1.8.0)\n",
            "Requirement already satisfied: tqdm in /Users/sanghyukkim/miniconda3/envs/cp1/lib/python3.8/site-packages (from optuna) (4.64.0)\n",
            "Requirement already satisfied: numpy in /Users/sanghyukkim/miniconda3/envs/cp1/lib/python3.8/site-packages (from optuna) (1.23.0)\n",
            "Requirement already satisfied: sqlalchemy>=1.1.0 in /Users/sanghyukkim/miniconda3/envs/cp1/lib/python3.8/site-packages (from optuna) (1.4.39)\n",
            "Requirement already satisfied: pyparsing!=3.0.5,>=2.0.2 in /Users/sanghyukkim/miniconda3/envs/cp1/lib/python3.8/site-packages (from packaging>=20.0->optuna) (3.0.9)\n",
            "Requirement already satisfied: importlib-metadata in /Users/sanghyukkim/miniconda3/envs/cp1/lib/python3.8/site-packages (from alembic->optuna) (4.12.0)\n",
            "Requirement already satisfied: importlib-resources in /Users/sanghyukkim/miniconda3/envs/cp1/lib/python3.8/site-packages (from alembic->optuna) (5.8.0)\n",
            "Requirement already satisfied: Mako in /Users/sanghyukkim/miniconda3/envs/cp1/lib/python3.8/site-packages (from alembic->optuna) (1.2.1)\n",
            "Requirement already satisfied: autopage>=0.4.0 in /Users/sanghyukkim/miniconda3/envs/cp1/lib/python3.8/site-packages (from cliff->optuna) (0.5.1)\n",
            "Requirement already satisfied: stevedore>=2.0.1 in /Users/sanghyukkim/miniconda3/envs/cp1/lib/python3.8/site-packages (from cliff->optuna) (3.5.0)\n",
            "Requirement already satisfied: pbr!=2.1.0,>=2.0.0 in /Users/sanghyukkim/miniconda3/envs/cp1/lib/python3.8/site-packages (from cliff->optuna) (5.9.0)\n",
            "Requirement already satisfied: PrettyTable>=0.7.2 in /Users/sanghyukkim/miniconda3/envs/cp1/lib/python3.8/site-packages (from cliff->optuna) (3.3.0)\n",
            "Requirement already satisfied: cmd2>=1.0.0 in /Users/sanghyukkim/miniconda3/envs/cp1/lib/python3.8/site-packages (from cliff->optuna) (2.4.1)\n",
            "Requirement already satisfied: attrs>=16.3.0 in /Users/sanghyukkim/miniconda3/envs/cp1/lib/python3.8/site-packages (from cmd2>=1.0.0->cliff->optuna) (21.4.0)\n",
            "Requirement already satisfied: wcwidth>=0.1.7 in /Users/sanghyukkim/miniconda3/envs/cp1/lib/python3.8/site-packages (from cmd2>=1.0.0->cliff->optuna) (0.2.5)\n",
            "Requirement already satisfied: pyperclip>=1.6 in /Users/sanghyukkim/miniconda3/envs/cp1/lib/python3.8/site-packages (from cmd2>=1.0.0->cliff->optuna) (1.8.2)\n",
            "Requirement already satisfied: zipp>=0.5 in /Users/sanghyukkim/miniconda3/envs/cp1/lib/python3.8/site-packages (from importlib-metadata->alembic->optuna) (3.8.0)\n",
            "Requirement already satisfied: MarkupSafe>=0.9.2 in /Users/sanghyukkim/miniconda3/envs/cp1/lib/python3.8/site-packages (from Mako->alembic->optuna) (2.1.1)\n"
          ]
        }
      ],
      "source": [
        "!pip install catboost \n",
        "!pip install category_encoders\n",
        "!pip install optuna"
      ]
    },
    {
      "cell_type": "code",
      "execution_count": 2,
      "metadata": {
        "id": "COyaUo3LeFAP"
      },
      "outputs": [],
      "source": [
        "import pandas as pd\n",
        "import numpy as np\n",
        "import warnings, random\n",
        "warnings.filterwarnings(action='ignore')\n",
        "import matplotlib.pyplot as plt\n",
        "import seaborn as sns\n",
        "\n",
        "from sklearn.metrics import log_loss\n",
        "from sklearn.preprocessing import OneHotEncoder,StandardScaler,PowerTransformer,LabelEncoder\n",
        "from category_encoders.ordinal import OrdinalEncoder\n",
        "from sklearn.model_selection import StratifiedKFold\n",
        "\n",
        "from sklearn.cluster import KMeans\n",
        "from catboost import CatBoostClassifier, Pool\n",
        "\n",
        "from sklearn.model_selection import StratifiedKFold,train_test_split\n",
        "import optuna\n",
        "from optuna.samplers import TPESampler\n",
        "import sklearn.datasets\n",
        "import sklearn.metrics\n",
        "from sklearn.model_selection import train_test_split\n",
        "import xgboost as xgb\n",
        "\n",
        "from sklearn.ensemble import RandomForestClassifier"
      ]
    },
    {
      "cell_type": "markdown",
      "metadata": {
        "id": "xSsGkug2eFAR"
      },
      "source": [
        "# Load Data"
      ]
    },
    {
      "cell_type": "code",
      "execution_count": 3,
      "metadata": {
        "colab": {
          "base_uri": "https://localhost:8080/"
        },
        "id": "s1t0FxraeFAR",
        "outputId": "eb2aa409-fc54-4540-f884-3a218cca8f0d"
      },
      "outputs": [],
      "source": [
        "# from google.colab import drive\n",
        "# drive.mount('/content/drive')\n",
        "# path = '/content/drive/MyDrive/cp1/'\n",
        "# train = pd.read_csv(path + 'train2.csv')\n",
        "# test = pd.read_csv(path + 'test2.csv')"
      ]
    },
    {
      "cell_type": "code",
      "execution_count": 4,
      "metadata": {},
      "outputs": [],
      "source": [
        "train = pd.read_csv('./train2.csv')\n",
        "test = pd.read_csv('./test2.csv')"
      ]
    },
    {
      "cell_type": "code",
      "execution_count": 5,
      "metadata": {
        "colab": {
          "base_uri": "https://localhost:8080/",
          "height": 280
        },
        "id": "GSDOkRJTeFAR",
        "outputId": "3e040060-f9e1-4b23-d92a-9cd651660ca4"
      },
      "outputs": [
        {
          "data": {
            "text/html": [
              "<div>\n",
              "<style scoped>\n",
              "    .dataframe tbody tr th:only-of-type {\n",
              "        vertical-align: middle;\n",
              "    }\n",
              "\n",
              "    .dataframe tbody tr th {\n",
              "        vertical-align: top;\n",
              "    }\n",
              "\n",
              "    .dataframe thead th {\n",
              "        text-align: right;\n",
              "    }\n",
              "</style>\n",
              "<table border=\"1\" class=\"dataframe\">\n",
              "  <thead>\n",
              "    <tr style=\"text-align: right;\">\n",
              "      <th></th>\n",
              "      <th>Unnamed: 0</th>\n",
              "      <th>id</th>\n",
              "      <th>gender</th>\n",
              "      <th>car</th>\n",
              "      <th>reality</th>\n",
              "      <th>child_num</th>\n",
              "      <th>income_total</th>\n",
              "      <th>income_type</th>\n",
              "      <th>edu_type</th>\n",
              "      <th>family_type</th>\n",
              "      <th>...</th>\n",
              "      <th>email</th>\n",
              "      <th>occyp_type</th>\n",
              "      <th>family_size</th>\n",
              "      <th>begin_month</th>\n",
              "      <th>credit</th>\n",
              "      <th>YEARS_BIRTH</th>\n",
              "      <th>Age_group</th>\n",
              "      <th>YEARS_EMPLOYED</th>\n",
              "      <th>EMPLOYED_group</th>\n",
              "      <th>income_avg</th>\n",
              "    </tr>\n",
              "  </thead>\n",
              "  <tbody>\n",
              "    <tr>\n",
              "      <th>0</th>\n",
              "      <td>0</td>\n",
              "      <td>F138994709202500</td>\n",
              "      <td>F</td>\n",
              "      <td>N</td>\n",
              "      <td>N</td>\n",
              "      <td>0</td>\n",
              "      <td>3948.75</td>\n",
              "      <td>Commercial associate</td>\n",
              "      <td>Higher education</td>\n",
              "      <td>Married</td>\n",
              "      <td>...</td>\n",
              "      <td>0</td>\n",
              "      <td>NAN</td>\n",
              "      <td>2.0</td>\n",
              "      <td>6.0</td>\n",
              "      <td>1.0</td>\n",
              "      <td>39</td>\n",
              "      <td>30</td>\n",
              "      <td>12</td>\n",
              "      <td>10~15</td>\n",
              "      <td>1974.375</td>\n",
              "    </tr>\n",
              "    <tr>\n",
              "      <th>1</th>\n",
              "      <td>1</td>\n",
              "      <td>F113801540247500</td>\n",
              "      <td>F</td>\n",
              "      <td>N</td>\n",
              "      <td>Y</td>\n",
              "      <td>1</td>\n",
              "      <td>4826.25</td>\n",
              "      <td>Commercial associate</td>\n",
              "      <td>Secondary / secondary special</td>\n",
              "      <td>Civil marriage</td>\n",
              "      <td>...</td>\n",
              "      <td>1</td>\n",
              "      <td>Laborers</td>\n",
              "      <td>3.0</td>\n",
              "      <td>5.0</td>\n",
              "      <td>1.0</td>\n",
              "      <td>32</td>\n",
              "      <td>30</td>\n",
              "      <td>4</td>\n",
              "      <td>0~5</td>\n",
              "      <td>1608.750</td>\n",
              "    </tr>\n",
              "    <tr>\n",
              "      <th>2</th>\n",
              "      <td>2</td>\n",
              "      <td>M190874434450000</td>\n",
              "      <td>M</td>\n",
              "      <td>Y</td>\n",
              "      <td>Y</td>\n",
              "      <td>0</td>\n",
              "      <td>8775.00</td>\n",
              "      <td>Working</td>\n",
              "      <td>Higher education</td>\n",
              "      <td>Married</td>\n",
              "      <td>...</td>\n",
              "      <td>0</td>\n",
              "      <td>Managers</td>\n",
              "      <td>2.0</td>\n",
              "      <td>22.0</td>\n",
              "      <td>2.0</td>\n",
              "      <td>53</td>\n",
              "      <td>50</td>\n",
              "      <td>12</td>\n",
              "      <td>10~15</td>\n",
              "      <td>4387.500</td>\n",
              "    </tr>\n",
              "    <tr>\n",
              "      <th>3</th>\n",
              "      <td>3</td>\n",
              "      <td>F150882092202500</td>\n",
              "      <td>F</td>\n",
              "      <td>N</td>\n",
              "      <td>Y</td>\n",
              "      <td>0</td>\n",
              "      <td>3948.75</td>\n",
              "      <td>Commercial associate</td>\n",
              "      <td>Secondary / secondary special</td>\n",
              "      <td>Married</td>\n",
              "      <td>...</td>\n",
              "      <td>0</td>\n",
              "      <td>Sales staff</td>\n",
              "      <td>2.0</td>\n",
              "      <td>37.0</td>\n",
              "      <td>0.0</td>\n",
              "      <td>42</td>\n",
              "      <td>40</td>\n",
              "      <td>5</td>\n",
              "      <td>5~10</td>\n",
              "      <td>1974.375</td>\n",
              "    </tr>\n",
              "    <tr>\n",
              "      <th>4</th>\n",
              "      <td>4</td>\n",
              "      <td>F150372105157500</td>\n",
              "      <td>F</td>\n",
              "      <td>Y</td>\n",
              "      <td>Y</td>\n",
              "      <td>0</td>\n",
              "      <td>3071.25</td>\n",
              "      <td>State servant</td>\n",
              "      <td>Higher education</td>\n",
              "      <td>Married</td>\n",
              "      <td>...</td>\n",
              "      <td>0</td>\n",
              "      <td>Managers</td>\n",
              "      <td>2.0</td>\n",
              "      <td>26.0</td>\n",
              "      <td>2.0</td>\n",
              "      <td>42</td>\n",
              "      <td>40</td>\n",
              "      <td>5</td>\n",
              "      <td>5~10</td>\n",
              "      <td>1535.625</td>\n",
              "    </tr>\n",
              "  </tbody>\n",
              "</table>\n",
              "<p>5 rows × 23 columns</p>\n",
              "</div>"
            ],
            "text/plain": [
              "   Unnamed: 0                id gender car reality  child_num  income_total  \\\n",
              "0           0  F138994709202500      F   N       N          0       3948.75   \n",
              "1           1  F113801540247500      F   N       Y          1       4826.25   \n",
              "2           2  M190874434450000      M   Y       Y          0       8775.00   \n",
              "3           3  F150882092202500      F   N       Y          0       3948.75   \n",
              "4           4  F150372105157500      F   Y       Y          0       3071.25   \n",
              "\n",
              "            income_type                       edu_type     family_type  ...  \\\n",
              "0  Commercial associate               Higher education         Married  ...   \n",
              "1  Commercial associate  Secondary / secondary special  Civil marriage  ...   \n",
              "2               Working               Higher education         Married  ...   \n",
              "3  Commercial associate  Secondary / secondary special         Married  ...   \n",
              "4         State servant               Higher education         Married  ...   \n",
              "\n",
              "  email   occyp_type  family_size  begin_month credit  YEARS_BIRTH  Age_group  \\\n",
              "0     0          NAN          2.0          6.0    1.0           39         30   \n",
              "1     1     Laborers          3.0          5.0    1.0           32         30   \n",
              "2     0     Managers          2.0         22.0    2.0           53         50   \n",
              "3     0  Sales staff          2.0         37.0    0.0           42         40   \n",
              "4     0     Managers          2.0         26.0    2.0           42         40   \n",
              "\n",
              "   YEARS_EMPLOYED  EMPLOYED_group  income_avg  \n",
              "0              12           10~15    1974.375  \n",
              "1               4             0~5    1608.750  \n",
              "2              12           10~15    4387.500  \n",
              "3               5            5~10    1974.375  \n",
              "4               5            5~10    1535.625  \n",
              "\n",
              "[5 rows x 23 columns]"
            ]
          },
          "execution_count": 5,
          "metadata": {},
          "output_type": "execute_result"
        }
      ],
      "source": [
        "train.head()"
      ]
    },
    {
      "cell_type": "code",
      "execution_count": 6,
      "metadata": {
        "colab": {
          "base_uri": "https://localhost:8080/",
          "height": 332
        },
        "id": "BdvwwFiJeFAS",
        "outputId": "258fead2-880d-48f9-d601-dc53a4124966"
      },
      "outputs": [
        {
          "data": {
            "text/html": [
              "<div>\n",
              "<style scoped>\n",
              "    .dataframe tbody tr th:only-of-type {\n",
              "        vertical-align: middle;\n",
              "    }\n",
              "\n",
              "    .dataframe tbody tr th {\n",
              "        vertical-align: top;\n",
              "    }\n",
              "\n",
              "    .dataframe thead th {\n",
              "        text-align: right;\n",
              "    }\n",
              "</style>\n",
              "<table border=\"1\" class=\"dataframe\">\n",
              "  <thead>\n",
              "    <tr style=\"text-align: right;\">\n",
              "      <th></th>\n",
              "      <th>id</th>\n",
              "      <th>gender</th>\n",
              "      <th>car</th>\n",
              "      <th>reality</th>\n",
              "      <th>child_num</th>\n",
              "      <th>income_total</th>\n",
              "      <th>income_type</th>\n",
              "      <th>edu_type</th>\n",
              "      <th>family_type</th>\n",
              "      <th>house_type</th>\n",
              "      <th>...</th>\n",
              "      <th>email</th>\n",
              "      <th>occyp_type</th>\n",
              "      <th>family_size</th>\n",
              "      <th>begin_month</th>\n",
              "      <th>credit</th>\n",
              "      <th>YEARS_BIRTH</th>\n",
              "      <th>Age_group</th>\n",
              "      <th>YEARS_EMPLOYED</th>\n",
              "      <th>EMPLOYED_group</th>\n",
              "      <th>income_avg</th>\n",
              "    </tr>\n",
              "  </thead>\n",
              "  <tbody>\n",
              "    <tr>\n",
              "      <th>0</th>\n",
              "      <td>F138994709202500</td>\n",
              "      <td>F</td>\n",
              "      <td>N</td>\n",
              "      <td>N</td>\n",
              "      <td>0</td>\n",
              "      <td>3948.75</td>\n",
              "      <td>Commercial associate</td>\n",
              "      <td>Higher education</td>\n",
              "      <td>Married</td>\n",
              "      <td>Municipal apartment</td>\n",
              "      <td>...</td>\n",
              "      <td>0</td>\n",
              "      <td>NAN</td>\n",
              "      <td>2.0</td>\n",
              "      <td>6.0</td>\n",
              "      <td>1.0</td>\n",
              "      <td>39</td>\n",
              "      <td>30</td>\n",
              "      <td>12</td>\n",
              "      <td>10~15</td>\n",
              "      <td>1974.375</td>\n",
              "    </tr>\n",
              "    <tr>\n",
              "      <th>1</th>\n",
              "      <td>F113801540247500</td>\n",
              "      <td>F</td>\n",
              "      <td>N</td>\n",
              "      <td>Y</td>\n",
              "      <td>1</td>\n",
              "      <td>4826.25</td>\n",
              "      <td>Commercial associate</td>\n",
              "      <td>Secondary / secondary special</td>\n",
              "      <td>Civil marriage</td>\n",
              "      <td>House / apartment</td>\n",
              "      <td>...</td>\n",
              "      <td>1</td>\n",
              "      <td>Laborers</td>\n",
              "      <td>3.0</td>\n",
              "      <td>5.0</td>\n",
              "      <td>1.0</td>\n",
              "      <td>32</td>\n",
              "      <td>30</td>\n",
              "      <td>4</td>\n",
              "      <td>0~5</td>\n",
              "      <td>1608.750</td>\n",
              "    </tr>\n",
              "    <tr>\n",
              "      <th>2</th>\n",
              "      <td>M190874434450000</td>\n",
              "      <td>M</td>\n",
              "      <td>Y</td>\n",
              "      <td>Y</td>\n",
              "      <td>0</td>\n",
              "      <td>8775.00</td>\n",
              "      <td>Working</td>\n",
              "      <td>Higher education</td>\n",
              "      <td>Married</td>\n",
              "      <td>House / apartment</td>\n",
              "      <td>...</td>\n",
              "      <td>0</td>\n",
              "      <td>Managers</td>\n",
              "      <td>2.0</td>\n",
              "      <td>22.0</td>\n",
              "      <td>2.0</td>\n",
              "      <td>53</td>\n",
              "      <td>50</td>\n",
              "      <td>12</td>\n",
              "      <td>10~15</td>\n",
              "      <td>4387.500</td>\n",
              "    </tr>\n",
              "    <tr>\n",
              "      <th>3</th>\n",
              "      <td>F150882092202500</td>\n",
              "      <td>F</td>\n",
              "      <td>N</td>\n",
              "      <td>Y</td>\n",
              "      <td>0</td>\n",
              "      <td>3948.75</td>\n",
              "      <td>Commercial associate</td>\n",
              "      <td>Secondary / secondary special</td>\n",
              "      <td>Married</td>\n",
              "      <td>House / apartment</td>\n",
              "      <td>...</td>\n",
              "      <td>0</td>\n",
              "      <td>Sales staff</td>\n",
              "      <td>2.0</td>\n",
              "      <td>37.0</td>\n",
              "      <td>0.0</td>\n",
              "      <td>42</td>\n",
              "      <td>40</td>\n",
              "      <td>5</td>\n",
              "      <td>5~10</td>\n",
              "      <td>1974.375</td>\n",
              "    </tr>\n",
              "    <tr>\n",
              "      <th>4</th>\n",
              "      <td>F150372105157500</td>\n",
              "      <td>F</td>\n",
              "      <td>Y</td>\n",
              "      <td>Y</td>\n",
              "      <td>0</td>\n",
              "      <td>3071.25</td>\n",
              "      <td>State servant</td>\n",
              "      <td>Higher education</td>\n",
              "      <td>Married</td>\n",
              "      <td>House / apartment</td>\n",
              "      <td>...</td>\n",
              "      <td>0</td>\n",
              "      <td>Managers</td>\n",
              "      <td>2.0</td>\n",
              "      <td>26.0</td>\n",
              "      <td>2.0</td>\n",
              "      <td>42</td>\n",
              "      <td>40</td>\n",
              "      <td>5</td>\n",
              "      <td>5~10</td>\n",
              "      <td>1535.625</td>\n",
              "    </tr>\n",
              "  </tbody>\n",
              "</table>\n",
              "<p>5 rows × 22 columns</p>\n",
              "</div>"
            ],
            "text/plain": [
              "                 id gender car reality  child_num  income_total  \\\n",
              "0  F138994709202500      F   N       N          0       3948.75   \n",
              "1  F113801540247500      F   N       Y          1       4826.25   \n",
              "2  M190874434450000      M   Y       Y          0       8775.00   \n",
              "3  F150882092202500      F   N       Y          0       3948.75   \n",
              "4  F150372105157500      F   Y       Y          0       3071.25   \n",
              "\n",
              "            income_type                       edu_type     family_type  \\\n",
              "0  Commercial associate               Higher education         Married   \n",
              "1  Commercial associate  Secondary / secondary special  Civil marriage   \n",
              "2               Working               Higher education         Married   \n",
              "3  Commercial associate  Secondary / secondary special         Married   \n",
              "4         State servant               Higher education         Married   \n",
              "\n",
              "            house_type  ...  email   occyp_type  family_size begin_month  \\\n",
              "0  Municipal apartment  ...      0          NAN          2.0         6.0   \n",
              "1    House / apartment  ...      1     Laborers          3.0         5.0   \n",
              "2    House / apartment  ...      0     Managers          2.0        22.0   \n",
              "3    House / apartment  ...      0  Sales staff          2.0        37.0   \n",
              "4    House / apartment  ...      0     Managers          2.0        26.0   \n",
              "\n",
              "   credit  YEARS_BIRTH  Age_group  YEARS_EMPLOYED  EMPLOYED_group income_avg  \n",
              "0     1.0           39         30              12           10~15   1974.375  \n",
              "1     1.0           32         30               4             0~5   1608.750  \n",
              "2     2.0           53         50              12           10~15   4387.500  \n",
              "3     0.0           42         40               5            5~10   1974.375  \n",
              "4     2.0           42         40               5            5~10   1535.625  \n",
              "\n",
              "[5 rows x 22 columns]"
            ]
          },
          "execution_count": 6,
          "metadata": {},
          "output_type": "execute_result"
        }
      ],
      "source": [
        "train.drop(['Unnamed: 0'],axis=1,inplace=True)\n",
        "train.head()"
      ]
    },
    {
      "cell_type": "code",
      "execution_count": 7,
      "metadata": {
        "colab": {
          "base_uri": "https://localhost:8080/",
          "height": 366
        },
        "id": "UIozjTRqeFAS",
        "outputId": "788e61e3-0a69-47f4-d700-cef9918c588c"
      },
      "outputs": [
        {
          "data": {
            "text/html": [
              "<div>\n",
              "<style scoped>\n",
              "    .dataframe tbody tr th:only-of-type {\n",
              "        vertical-align: middle;\n",
              "    }\n",
              "\n",
              "    .dataframe tbody tr th {\n",
              "        vertical-align: top;\n",
              "    }\n",
              "\n",
              "    .dataframe thead th {\n",
              "        text-align: right;\n",
              "    }\n",
              "</style>\n",
              "<table border=\"1\" class=\"dataframe\">\n",
              "  <thead>\n",
              "    <tr style=\"text-align: right;\">\n",
              "      <th></th>\n",
              "      <th>id</th>\n",
              "      <th>gender</th>\n",
              "      <th>car</th>\n",
              "      <th>reality</th>\n",
              "      <th>child_num</th>\n",
              "      <th>income_total</th>\n",
              "      <th>income_type</th>\n",
              "      <th>edu_type</th>\n",
              "      <th>family_type</th>\n",
              "      <th>house_type</th>\n",
              "      <th>...</th>\n",
              "      <th>phone</th>\n",
              "      <th>email</th>\n",
              "      <th>occyp_type</th>\n",
              "      <th>family_size</th>\n",
              "      <th>begin_month</th>\n",
              "      <th>YEARS_BIRTH</th>\n",
              "      <th>Age_group</th>\n",
              "      <th>YEARS_EMPLOYED</th>\n",
              "      <th>EMPLOYED_group</th>\n",
              "      <th>income_avg</th>\n",
              "    </tr>\n",
              "  </thead>\n",
              "  <tbody>\n",
              "    <tr>\n",
              "      <th>0</th>\n",
              "      <td>M219900112500</td>\n",
              "      <td>M</td>\n",
              "      <td>Y</td>\n",
              "      <td>N</td>\n",
              "      <td>0</td>\n",
              "      <td>2193.750</td>\n",
              "      <td>Pensioner</td>\n",
              "      <td>Secondary / secondary special</td>\n",
              "      <td>Civil marriage</td>\n",
              "      <td>House / apartment</td>\n",
              "      <td>...</td>\n",
              "      <td>1</td>\n",
              "      <td>0</td>\n",
              "      <td>No work experience</td>\n",
              "      <td>2.0</td>\n",
              "      <td>60.0</td>\n",
              "      <td>61</td>\n",
              "      <td>60</td>\n",
              "      <td>No work experience</td>\n",
              "      <td>0~5</td>\n",
              "      <td>1096.875</td>\n",
              "    </tr>\n",
              "    <tr>\n",
              "      <th>1</th>\n",
              "      <td>F189648671135000</td>\n",
              "      <td>F</td>\n",
              "      <td>N</td>\n",
              "      <td>Y</td>\n",
              "      <td>0</td>\n",
              "      <td>2632.500</td>\n",
              "      <td>State servant</td>\n",
              "      <td>Higher education</td>\n",
              "      <td>Married</td>\n",
              "      <td>House / apartment</td>\n",
              "      <td>...</td>\n",
              "      <td>1</td>\n",
              "      <td>0</td>\n",
              "      <td>Core staff</td>\n",
              "      <td>2.0</td>\n",
              "      <td>36.0</td>\n",
              "      <td>52</td>\n",
              "      <td>50</td>\n",
              "      <td>23</td>\n",
              "      <td>20~25</td>\n",
              "      <td>1316.250</td>\n",
              "    </tr>\n",
              "    <tr>\n",
              "      <th>2</th>\n",
              "      <td>F1588721769372</td>\n",
              "      <td>F</td>\n",
              "      <td>N</td>\n",
              "      <td>Y</td>\n",
              "      <td>0</td>\n",
              "      <td>1352.754</td>\n",
              "      <td>Working</td>\n",
              "      <td>Secondary / secondary special</td>\n",
              "      <td>Married</td>\n",
              "      <td>House / apartment</td>\n",
              "      <td>...</td>\n",
              "      <td>1</td>\n",
              "      <td>0</td>\n",
              "      <td>Laborers</td>\n",
              "      <td>2.0</td>\n",
              "      <td>40.0</td>\n",
              "      <td>44</td>\n",
              "      <td>40</td>\n",
              "      <td>0</td>\n",
              "      <td>0~5</td>\n",
              "      <td>676.377</td>\n",
              "    </tr>\n",
              "    <tr>\n",
              "      <th>3</th>\n",
              "      <td>M192702531112500</td>\n",
              "      <td>M</td>\n",
              "      <td>Y</td>\n",
              "      <td>N</td>\n",
              "      <td>0</td>\n",
              "      <td>2193.750</td>\n",
              "      <td>Commercial associate</td>\n",
              "      <td>Secondary / secondary special</td>\n",
              "      <td>Married</td>\n",
              "      <td>House / apartment</td>\n",
              "      <td>...</td>\n",
              "      <td>0</td>\n",
              "      <td>0</td>\n",
              "      <td>Drivers</td>\n",
              "      <td>2.0</td>\n",
              "      <td>41.0</td>\n",
              "      <td>53</td>\n",
              "      <td>50</td>\n",
              "      <td>6</td>\n",
              "      <td>5~10</td>\n",
              "      <td>1096.875</td>\n",
              "    </tr>\n",
              "    <tr>\n",
              "      <th>4</th>\n",
              "      <td>F178229385225000</td>\n",
              "      <td>F</td>\n",
              "      <td>Y</td>\n",
              "      <td>Y</td>\n",
              "      <td>0</td>\n",
              "      <td>4387.500</td>\n",
              "      <td>State servant</td>\n",
              "      <td>Higher education</td>\n",
              "      <td>Married</td>\n",
              "      <td>House / apartment</td>\n",
              "      <td>...</td>\n",
              "      <td>0</td>\n",
              "      <td>0</td>\n",
              "      <td>Managers</td>\n",
              "      <td>2.0</td>\n",
              "      <td>8.0</td>\n",
              "      <td>49</td>\n",
              "      <td>40</td>\n",
              "      <td>25</td>\n",
              "      <td>25~30</td>\n",
              "      <td>2193.750</td>\n",
              "    </tr>\n",
              "  </tbody>\n",
              "</table>\n",
              "<p>5 rows × 21 columns</p>\n",
              "</div>"
            ],
            "text/plain": [
              "                 id gender car reality  child_num  income_total  \\\n",
              "0     M219900112500      M   Y       N          0      2193.750   \n",
              "1  F189648671135000      F   N       Y          0      2632.500   \n",
              "2    F1588721769372      F   N       Y          0      1352.754   \n",
              "3  M192702531112500      M   Y       N          0      2193.750   \n",
              "4  F178229385225000      F   Y       Y          0      4387.500   \n",
              "\n",
              "            income_type                       edu_type     family_type  \\\n",
              "0             Pensioner  Secondary / secondary special  Civil marriage   \n",
              "1         State servant               Higher education         Married   \n",
              "2               Working  Secondary / secondary special         Married   \n",
              "3  Commercial associate  Secondary / secondary special         Married   \n",
              "4         State servant               Higher education         Married   \n",
              "\n",
              "          house_type  ...  phone  email          occyp_type family_size  \\\n",
              "0  House / apartment  ...      1      0  No work experience         2.0   \n",
              "1  House / apartment  ...      1      0          Core staff         2.0   \n",
              "2  House / apartment  ...      1      0            Laborers         2.0   \n",
              "3  House / apartment  ...      0      0             Drivers         2.0   \n",
              "4  House / apartment  ...      0      0            Managers         2.0   \n",
              "\n",
              "   begin_month  YEARS_BIRTH  Age_group      YEARS_EMPLOYED EMPLOYED_group  \\\n",
              "0         60.0           61         60  No work experience            0~5   \n",
              "1         36.0           52         50                  23          20~25   \n",
              "2         40.0           44         40                   0            0~5   \n",
              "3         41.0           53         50                   6           5~10   \n",
              "4          8.0           49         40                  25          25~30   \n",
              "\n",
              "  income_avg  \n",
              "0   1096.875  \n",
              "1   1316.250  \n",
              "2    676.377  \n",
              "3   1096.875  \n",
              "4   2193.750  \n",
              "\n",
              "[5 rows x 21 columns]"
            ]
          },
          "execution_count": 7,
          "metadata": {},
          "output_type": "execute_result"
        }
      ],
      "source": [
        "test.drop(['Unnamed: 0'],axis=1,inplace=True)\n",
        "test.head()"
      ]
    },
    {
      "cell_type": "code",
      "execution_count": 8,
      "metadata": {
        "colab": {
          "base_uri": "https://localhost:8080/"
        },
        "id": "B3i46NcveFAT",
        "outputId": "763486ce-475f-484e-f761-ead5749e0991"
      },
      "outputs": [
        {
          "name": "stdout",
          "output_type": "stream",
          "text": [
            "<class 'pandas.core.frame.DataFrame'>\n",
            "RangeIndex: 26440 entries, 0 to 26439\n",
            "Data columns (total 22 columns):\n",
            " #   Column          Non-Null Count  Dtype  \n",
            "---  ------          --------------  -----  \n",
            " 0   id              26440 non-null  object \n",
            " 1   gender          26440 non-null  object \n",
            " 2   car             26440 non-null  object \n",
            " 3   reality         26440 non-null  object \n",
            " 4   child_num       26440 non-null  int64  \n",
            " 5   income_total    26440 non-null  float64\n",
            " 6   income_type     26440 non-null  object \n",
            " 7   edu_type        26440 non-null  object \n",
            " 8   family_type     26440 non-null  object \n",
            " 9   house_type      26440 non-null  object \n",
            " 10  work_phone      26440 non-null  int64  \n",
            " 11  phone           26440 non-null  int64  \n",
            " 12  email           26440 non-null  int64  \n",
            " 13  occyp_type      26440 non-null  object \n",
            " 14  family_size     26440 non-null  float64\n",
            " 15  begin_month     26440 non-null  float64\n",
            " 16  credit          26440 non-null  float64\n",
            " 17  YEARS_BIRTH     26440 non-null  int64  \n",
            " 18  Age_group       26440 non-null  int64  \n",
            " 19  YEARS_EMPLOYED  26440 non-null  object \n",
            " 20  EMPLOYED_group  26440 non-null  object \n",
            " 21  income_avg      26440 non-null  float64\n",
            "dtypes: float64(5), int64(6), object(11)\n",
            "memory usage: 4.4+ MB\n"
          ]
        }
      ],
      "source": [
        "train.info()"
      ]
    },
    {
      "cell_type": "markdown",
      "metadata": {
        "id": "m4uyRC8YeFAT"
      },
      "source": [
        "# category / numerical columns"
      ]
    },
    {
      "cell_type": "code",
      "execution_count": 9,
      "metadata": {
        "id": "2ZeNo4noperL"
      },
      "outputs": [],
      "source": [
        "drop_c=['work_phone','phone','email','id','YEARS_EMPLOYED']\n",
        "train.drop(drop_c,axis=1,inplace=True)\n",
        "test.drop(drop_c,axis=1,inplace=True)"
      ]
    },
    {
      "cell_type": "code",
      "execution_count": 10,
      "metadata": {
        "colab": {
          "base_uri": "https://localhost:8080/"
        },
        "id": "NsCL_KICeFAT",
        "outputId": "968c8cf2-826f-4f54-c2e4-57d1cc829fc1"
      },
      "outputs": [
        {
          "name": "stdout",
          "output_type": "stream",
          "text": [
            "Number of Numerical features:  7\n",
            "Number of Categorical features:  9\n"
          ]
        }
      ],
      "source": [
        "numerical_feats = train.dtypes[train.dtypes != \"object\"].index.tolist()\n",
        "numerical_feats.remove('credit')\n",
        "print(\"Number of Numerical features: \", len(numerical_feats))\n",
        "\n",
        "categorical_feats = train.dtypes[train.dtypes == \"object\"].index.tolist()\n",
        "print(\"Number of Categorical features: \", len(categorical_feats))"
      ]
    },
    {
      "cell_type": "code",
      "execution_count": 11,
      "metadata": {
        "colab": {
          "base_uri": "https://localhost:8080/"
        },
        "id": "iOVOkXutv5xQ",
        "outputId": "530c46a8-816b-4545-f30c-06e2e31783c4"
      },
      "outputs": [
        {
          "data": {
            "text/plain": [
              "Index(['gender', 'car', 'reality', 'child_num', 'income_total', 'income_type',\n",
              "       'edu_type', 'family_type', 'house_type', 'occyp_type', 'family_size',\n",
              "       'begin_month', 'credit', 'YEARS_BIRTH', 'Age_group', 'EMPLOYED_group',\n",
              "       'income_avg'],\n",
              "      dtype='object')"
            ]
          },
          "execution_count": 11,
          "metadata": {},
          "output_type": "execute_result"
        }
      ],
      "source": [
        "train.columns"
      ]
    },
    {
      "cell_type": "code",
      "execution_count": 12,
      "metadata": {
        "colab": {
          "base_uri": "https://localhost:8080/"
        },
        "id": "TTv8r3iveFAT",
        "outputId": "9dbea364-1eb2-4cef-f902-1ab0161e119f"
      },
      "outputs": [
        {
          "data": {
            "text/plain": [
              "['child_num',\n",
              " 'income_total',\n",
              " 'family_size',\n",
              " 'begin_month',\n",
              " 'YEARS_BIRTH',\n",
              " 'Age_group',\n",
              " 'income_avg']"
            ]
          },
          "execution_count": 12,
          "metadata": {},
          "output_type": "execute_result"
        }
      ],
      "source": [
        "numerical_feats"
      ]
    },
    {
      "cell_type": "code",
      "execution_count": 13,
      "metadata": {
        "colab": {
          "base_uri": "https://localhost:8080/"
        },
        "id": "QTpFYxRheFAU",
        "outputId": "1f83117c-30ff-453a-e098-526666d716dd"
      },
      "outputs": [
        {
          "data": {
            "text/plain": [
              "['gender',\n",
              " 'car',\n",
              " 'reality',\n",
              " 'income_type',\n",
              " 'edu_type',\n",
              " 'family_type',\n",
              " 'house_type',\n",
              " 'occyp_type',\n",
              " 'EMPLOYED_group']"
            ]
          },
          "execution_count": 13,
          "metadata": {},
          "output_type": "execute_result"
        }
      ],
      "source": [
        "categorical_feats"
      ]
    },
    {
      "cell_type": "code",
      "execution_count": 14,
      "metadata": {
        "colab": {
          "base_uri": "https://localhost:8080/"
        },
        "id": "p1EgebRipjGa",
        "outputId": "5940721a-c7b7-453a-9e80-3a569fd046b1"
      },
      "outputs": [
        {
          "data": {
            "text/plain": [
              "['0~5', '5~10', '10~15', '15~20', '20~25', '25~30', '30~35', '35~40', '40~']"
            ]
          },
          "execution_count": 14,
          "metadata": {},
          "output_type": "execute_result"
        }
      ],
      "source": [
        "list(train['EMPLOYED_group'].value_counts().index)"
      ]
    },
    {
      "cell_type": "code",
      "execution_count": 15,
      "metadata": {
        "colab": {
          "base_uri": "https://localhost:8080/"
        },
        "id": "S4y0E4Btv2ZC",
        "outputId": "a1aa7bb5-42fa-49d4-fd65-cd3d8880b701"
      },
      "outputs": [
        {
          "name": "stdout",
          "output_type": "stream",
          "text": [
            "gender 컬럼 항목은 : ['F', 'M']\n",
            "car 컬럼 항목은 : ['N', 'Y']\n",
            "reality 컬럼 항목은 : ['Y', 'N']\n",
            "income_type 컬럼 항목은 : ['Working', 'Commercial associate', 'Pensioner', 'State servant', 'Student']\n",
            "edu_type 컬럼 항목은 : ['Secondary / secondary special', 'Higher education', 'Incomplete higher', 'Lower secondary', 'Academic degree']\n",
            "family_type 컬럼 항목은 : ['Married', 'Single / not married', 'Civil marriage', 'Separated', 'Widow']\n",
            "house_type 컬럼 항목은 : ['House / apartment', 'With parents', 'Municipal apartment', 'Rented apartment', 'Office apartment', 'Co-op apartment']\n",
            "occyp_type 컬럼 항목은 : ['Laborers', 'No work experience', 'NAN', 'Core staff', 'Sales staff', 'Managers', 'Drivers', 'High skill tech staff', 'Accountants', 'Medicine staff', 'Cooking staff', 'Security staff', 'Cleaning staff', 'Private service staff', 'Low-skill Laborers', 'Waiters/barmen staff', 'Secretaries', 'Realty agents', 'HR staff', 'IT staff']\n",
            "EMPLOYED_group 컬럼 항목은 : ['0~5', '5~10', '10~15', '15~20', '20~25', '25~30', '30~35', '35~40', '40~']\n"
          ]
        }
      ],
      "source": [
        "for i in categorical_feats:\n",
        "    print(f'{i} 컬럼 항목은 : {list(train[i].value_counts().index)}')"
      ]
    },
    {
      "cell_type": "code",
      "execution_count": 16,
      "metadata": {
        "id": "sKttlCc_v3dO"
      },
      "outputs": [],
      "source": [
        "# 수치형 컬럼\n",
        "\n",
        "# 'child_num' = 정수\n",
        "# 'income_total' = 만원단위\n",
        "# 'family_size' = 정수\n",
        "# 'begin_month' = 달단위\n",
        "# 'YEARS_BIRTH' = 나이\n",
        "# 'income_avg' = income_total / famliy_size\n",
        "# 'Age_group' = \n",
        "# def change_category(num):\n",
        "#     return (math.trunc(num)//10)*10\n",
        "\n",
        "# train['Age_group']=train['YEARS_BIRTH'].apply(change_category)\n",
        "# test['Age_group']=test['YEARS_BIRTH'].apply(change_category)"
      ]
    },
    {
      "cell_type": "markdown",
      "metadata": {
        "id": "5LNcDTkAeFAW"
      },
      "source": [
        "# MODELING"
      ]
    },
    {
      "cell_type": "code",
      "execution_count": 17,
      "metadata": {
        "id": "fU8k29IQ3MR3"
      },
      "outputs": [],
      "source": [
        "seed = 42\n",
        "n_fold_list =14\n",
        "n_class = 3\n",
        "\n",
        "target = 'credit'\n",
        "X = train.drop(target, axis=1)\n",
        "y = train[target]\n",
        "X_test = test"
      ]
    },
    {
      "cell_type": "markdown",
      "metadata": {
        "id": "roALK1Y5eFAX"
      },
      "source": [
        "## CatBoostClassifier"
      ]
    },
    {
      "cell_type": "code",
      "execution_count": 19,
      "metadata": {
        "colab": {
          "base_uri": "https://localhost:8080/"
        },
        "id": "8v5I5mYYeFAZ",
        "outputId": "d651f9ea-5c84-4ecd-c336-4ece54385bab"
      },
      "outputs": [
        {
          "name": "stdout",
          "output_type": "stream",
          "text": [
            "*** 14 ***\n",
            "\n",
            "----------------- Fold 0 -----------------\n",
            "\n",
            "0:\tlearn: 1.0892624\ttest: 1.0888253\tbest: 1.0888253 (0)\ttotal: 105ms\tremaining: 5m 16s\n",
            "100:\tlearn: 0.9619043\ttest: 0.9629446\tbest: 0.9629446 (100)\ttotal: 3.95s\tremaining: 1m 53s\n",
            "200:\tlearn: 0.9430534\ttest: 0.9568599\tbest: 0.9568599 (200)\ttotal: 8.09s\tremaining: 1m 52s\n",
            "300:\tlearn: 0.9153855\ttest: 0.9468114\tbest: 0.9468114 (300)\ttotal: 12.3s\tremaining: 1m 49s\n",
            "400:\tlearn: 0.8796654\ttest: 0.9328819\tbest: 0.9328819 (400)\ttotal: 16.4s\tremaining: 1m 46s\n",
            "500:\tlearn: 0.8510514\ttest: 0.9245893\tbest: 0.9245893 (500)\ttotal: 21s\tremaining: 1m 44s\n",
            "600:\tlearn: 0.8241047\ttest: 0.9172954\tbest: 0.9172954 (600)\ttotal: 25.9s\tremaining: 1m 43s\n",
            "700:\tlearn: 0.7977793\ttest: 0.9117716\tbest: 0.9117716 (700)\ttotal: 30s\tremaining: 1m 38s\n",
            "800:\tlearn: 0.7734567\ttest: 0.9079144\tbest: 0.9079144 (800)\ttotal: 33.7s\tremaining: 1m 32s\n",
            "900:\tlearn: 0.7506303\ttest: 0.9031884\tbest: 0.9030773 (898)\ttotal: 38.2s\tremaining: 1m 28s\n",
            "1000:\tlearn: 0.7294773\ttest: 0.8991279\tbest: 0.8991075 (999)\ttotal: 42.6s\tremaining: 1m 24s\n",
            "1100:\tlearn: 0.7072611\ttest: 0.8952110\tbest: 0.8951467 (1095)\ttotal: 46.2s\tremaining: 1m 19s\n",
            "1200:\tlearn: 0.6893506\ttest: 0.8931957\tbest: 0.8931957 (1200)\ttotal: 49.8s\tremaining: 1m 14s\n",
            "1300:\tlearn: 0.6706436\ttest: 0.8902043\tbest: 0.8901247 (1296)\ttotal: 54.1s\tremaining: 1m 10s\n",
            "1400:\tlearn: 0.6531134\ttest: 0.8892276\tbest: 0.8891374 (1352)\ttotal: 58.2s\tremaining: 1m 6s\n",
            "1500:\tlearn: 0.6367000\ttest: 0.8863481\tbest: 0.8863481 (1500)\ttotal: 1m 2s\tremaining: 1m 1s\n",
            "1600:\tlearn: 0.6187496\ttest: 0.8848915\tbest: 0.8848835 (1583)\ttotal: 1m 6s\tremaining: 57.9s\n",
            "1700:\tlearn: 0.6028542\ttest: 0.8840504\tbest: 0.8840476 (1699)\ttotal: 1m 10s\tremaining: 53.9s\n",
            "1800:\tlearn: 0.5879902\ttest: 0.8825965\tbest: 0.8825350 (1792)\ttotal: 1m 14s\tremaining: 49.8s\n",
            "1900:\tlearn: 0.5731667\ttest: 0.8821552\tbest: 0.8818309 (1890)\ttotal: 1m 19s\tremaining: 45.9s\n",
            "Stopped by overfitting detector  (100 iterations wait)\n",
            "\n",
            "bestTest = 0.8818308827\n",
            "bestIteration = 1890\n",
            "\n",
            "Shrink model to first 1891 iterations.\n",
            "CV Log Loss Score: 0.764546\n",
            "\n",
            "----------------- Fold 1 -----------------\n",
            "\n",
            "0:\tlearn: 1.0892023\ttest: 1.0893120\tbest: 1.0893120 (0)\ttotal: 49.8ms\tremaining: 2m 29s\n",
            "100:\tlearn: 0.9620742\ttest: 0.9704514\tbest: 0.9704514 (100)\ttotal: 3.45s\tremaining: 1m 39s\n",
            "200:\tlearn: 0.9430150\ttest: 0.9646533\tbest: 0.9646533 (200)\ttotal: 7.24s\tremaining: 1m 40s\n",
            "300:\tlearn: 0.9148489\ttest: 0.9548828\tbest: 0.9548828 (300)\ttotal: 11.2s\tremaining: 1m 40s\n",
            "400:\tlearn: 0.8795511\ttest: 0.9432203\tbest: 0.9432203 (400)\ttotal: 14.9s\tremaining: 1m 36s\n",
            "500:\tlearn: 0.8505378\ttest: 0.9352465\tbest: 0.9352045 (499)\ttotal: 19.5s\tremaining: 1m 37s\n",
            "600:\tlearn: 0.8252706\ttest: 0.9294833\tbest: 0.9294833 (600)\ttotal: 24.1s\tremaining: 1m 36s\n",
            "700:\tlearn: 0.7985127\ttest: 0.9230272\tbest: 0.9230272 (700)\ttotal: 28.8s\tremaining: 1m 34s\n",
            "800:\tlearn: 0.7735193\ttest: 0.9169326\tbest: 0.9168752 (797)\ttotal: 33.2s\tremaining: 1m 31s\n",
            "900:\tlearn: 0.7511129\ttest: 0.9122214\tbest: 0.9122214 (900)\ttotal: 37.7s\tremaining: 1m 27s\n",
            "1000:\tlearn: 0.7311434\ttest: 0.9084791\tbest: 0.9084791 (1000)\ttotal: 42.1s\tremaining: 1m 24s\n",
            "1100:\tlearn: 0.7127618\ttest: 0.9071858\tbest: 0.9071858 (1100)\ttotal: 46.3s\tremaining: 1m 19s\n",
            "1200:\tlearn: 0.6942580\ttest: 0.9048813\tbest: 0.9048813 (1200)\ttotal: 50.1s\tremaining: 1m 15s\n",
            "1300:\tlearn: 0.6754766\ttest: 0.9003605\tbest: 0.9003605 (1300)\ttotal: 53.7s\tremaining: 1m 10s\n",
            "1400:\tlearn: 0.6585164\ttest: 0.8987980\tbest: 0.8986209 (1397)\ttotal: 58s\tremaining: 1m 6s\n",
            "1500:\tlearn: 0.6416671\ttest: 0.8950384\tbest: 0.8950384 (1500)\ttotal: 1m 1s\tremaining: 1m 1s\n",
            "1600:\tlearn: 0.6254670\ttest: 0.8930800\tbest: 0.8930575 (1593)\ttotal: 1m 5s\tremaining: 57.2s\n"
          ]
        }
      ],
      "source": [
        "print('***',n_fold_list,'***')\n",
        "\n",
        "skfold = StratifiedKFold(n_splits=n_fold_list, shuffle=True, random_state=seed)\n",
        "folds=[]\n",
        "for train_idx, valid_idx in skfold.split(X, y):\n",
        "        folds.append((train_idx, valid_idx))\n",
        "\n",
        "cat_pred = np.zeros((X.shape[0], n_class))\n",
        "cat_pred_test = np.zeros((X_test.shape[0], n_class))\n",
        "cat_cols = ['gender', 'car', 'reality', 'income_type', 'edu_type', 'family_type', 'house_type', 'occyp_type', 'EMPLOYED_group']\n",
        "\n",
        "for fold in range(n_fold_list):\n",
        "    print(f'\\n----------------- Fold {fold} -----------------\\n')\n",
        "    train_idx, valid_idx = folds[fold]\n",
        "    X_train, X_valid, y_train, y_valid = X.iloc[train_idx], X.iloc[valid_idx], y[train_idx], y[valid_idx]\n",
        "    train_data = Pool(data=X_train, label=y_train, cat_features=cat_cols)\n",
        "    valid_data = Pool(data=X_valid, label=y_valid, cat_features=cat_cols)\n",
        "\n",
        "    model_cat = CatBoostClassifier(n_estimators=3000, max_depth=8, random_seed=seed, learning_rate=0.04, \n",
        "                                bootstrap_type ='Bernoulli',auto_class_weights='SqrtBalanced')#,task_type='GPU')\n",
        "    model_cat.fit(train_data, eval_set=valid_data, use_best_model=True, early_stopping_rounds=100, verbose=100)\n",
        "\n",
        "    cat_pred[valid_idx] = model_cat.predict_proba(X_valid)\n",
        "    cat_pred_test += model_cat.predict_proba(X_test) / n_fold_list\n",
        "    print(f'CV Log Loss Score: {log_loss(y_valid, cat_pred[valid_idx]):.6f}')\n",
        "    \n",
        "print(f'\\t<*><*><*><*><*><*>Log Loss: {log_loss(y, cat_pred):.6f}<*><*><*><*><*><*>\\n\\n\\n\\n')"
      ]
    },
    {
      "cell_type": "code",
      "execution_count": null,
      "metadata": {
        "id": "HKtbLr6IeFAa"
      },
      "outputs": [],
      "source": [
        "def plot_feature_importance(importance,names,model_type):\n",
        "    \n",
        "    feature_importance = np.array(importance)\n",
        "    feature_names = np.array(names)\n",
        "    \n",
        "    data={'feature_names':feature_names,'feature_importance':feature_importance}\n",
        "    fi_df = pd.DataFrame(data)\n",
        "    \n",
        "    fi_df.sort_values(by=['feature_importance'], ascending=False,inplace=True)\n",
        "\n",
        "    plt.figure(figsize=(10,8))\n",
        "\n",
        "    sns.barplot(x=fi_df['feature_importance'], y=fi_df['feature_names'])\n",
        "\n",
        "    plt.title(model_type + ' Feature Importance')\n",
        "    plt.xlabel('Feature Importance')\n",
        "    plt.ylabel('Feature Names')"
      ]
    },
    {
      "cell_type": "code",
      "execution_count": null,
      "metadata": {
        "colab": {
          "base_uri": "https://localhost:8080/",
          "height": 513
        },
        "id": "Ry_iFhRVeFAa",
        "outputId": "c42e195f-b7a1-4c7b-d2ca-c9e3e7e7f9fa"
      },
      "outputs": [],
      "source": [
        "plot_feature_importance(model_cat.get_feature_importance(),X_test.columns,'CATBOOST')"
      ]
    },
    {
      "cell_type": "code",
      "execution_count": null,
      "metadata": {
        "colab": {
          "base_uri": "https://localhost:8080/"
        },
        "id": "pHvfGGsNg2PP",
        "outputId": "5655603e-b5f1-4978-d520-7287a7d00fc3"
      },
      "outputs": [],
      "source": [
        "model_cat.save_model('cat_model')\n",
        "\n",
        "model=CatBoostClassifier()\n",
        "\n",
        "model.load_model('cat_model')"
      ]
    },
    {
      "cell_type": "markdown",
      "metadata": {
        "id": "6YLoe-J-eFAa"
      },
      "source": [
        "## XGboost"
      ]
    },
    {
      "cell_type": "markdown",
      "metadata": {
        "id": "42bpCCNHYj-V"
      },
      "source": [
        "### categorical features OrdinalEncoder"
      ]
    },
    {
      "cell_type": "code",
      "execution_count": null,
      "metadata": {
        "colab": {
          "base_uri": "https://localhost:8080/",
          "height": 206
        },
        "id": "AfbTilWDTPsx",
        "outputId": "7411ee55-44a7-4a61-bc4c-706c138ef9e6"
      },
      "outputs": [],
      "source": [
        "train.head()"
      ]
    },
    {
      "cell_type": "code",
      "execution_count": null,
      "metadata": {
        "id": "zdT6MA5LS_0J"
      },
      "outputs": [],
      "source": [
        "encoder = OrdinalEncoder(categorical_feats)\n",
        "train[categorical_feats] = encoder.fit_transform(train[categorical_feats], train['credit'])\n",
        "test[categorical_feats] = encoder.transform(test[categorical_feats])"
      ]
    },
    {
      "cell_type": "code",
      "execution_count": null,
      "metadata": {
        "id": "oLqyEDxxeFAa"
      },
      "outputs": [],
      "source": [
        "target = 'credit'\n",
        "X = train.drop(target, axis=1)\n",
        "y = train[target]\n",
        "X_test = test\n",
        "\n",
        "X_train, X_valid, y_train, y_valid = train_test_split(X,y,test_size=0.2)"
      ]
    },
    {
      "cell_type": "code",
      "execution_count": null,
      "metadata": {
        "id": "PfkcTKQoEhiG"
      },
      "outputs": [],
      "source": [
        "from sklearn.utils import class_weight\n",
        "classes_weights = class_weight.compute_sample_weight(\n",
        "    class_weight='balanced',\n",
        "    y=y\n",
        ")"
      ]
    },
    {
      "cell_type": "markdown",
      "metadata": {
        "id": "HOvDQ-bEeFAa"
      },
      "source": [
        "### XGBoost Optuna"
      ]
    },
    {
      "cell_type": "code",
      "execution_count": null,
      "metadata": {
        "id": "47xsecNceFAb"
      },
      "outputs": [],
      "source": [
        "def objective(trial):\n",
        "    \n",
        "    params = {\n",
        "        \"objective\": \"multi:softprob\",\n",
        "        \"eval_metric\":'mlogloss',\n",
        "        \"booster\": 'gbtree',\n",
        "        'tree_method':'gpu_hist', 'predictor':'gpu_predictor', 'gpu_id': 0, # GPU 사용시\n",
        "        #\"tree_method\": 'exact', 'gpu_id': -1,  # CPU 사용시\n",
        "        \"verbosity\": 0,\n",
        "        'num_class':3,\n",
        "        \"max_depth\": trial.suggest_int(\"max_depth\", 4, 10),\n",
        "        \"learning_rate\": trial.suggest_uniform('learning_rate', 0.0001, 0.99),\n",
        "        'n_estimators': trial.suggest_int(\"n_estimators\", 1000, 10000, step=100),\n",
        "        \"colsample_bytree\": trial.suggest_float(\"colsample_bytree\", 0.5, 1.0),\n",
        "        \"colsample_bylevel\": trial.suggest_float(\"colsample_bylevel\", 0.5, 1.0),\n",
        "        \"colsample_bynode\": trial.suggest_float(\"colsample_bynode\", 0.5, 1.0),\n",
        "        \"reg_lambda\": trial.suggest_loguniform(\"reg_lambda\", 1e-2, 1),\n",
        "        \"reg_alpha\": trial.suggest_loguniform(\"reg_alpha\", 1e-2, 1),\n",
        "        'subsample': trial.suggest_discrete_uniform('subsample', 0.6, 1.0, 0.05),     \n",
        "        'min_child_weight': trial.suggest_int('min_child_weight', 2, 15),\n",
        "        \"gamma\": trial.suggest_float(\"gamma\", 0.1, 1.0, log=True),\n",
        "        # 'num_parallel_tree': trial.suggest_int(\"num_parallel_tree\", 1, 500) 추가하면 느려짐.\n",
        "    }\n",
        "\n",
        "\n",
        "    model = xgb.XGBClassifier(**params,sample_weight=classes_weights, random_state = 42, enable_categorical=False)\n",
        "\n",
        "    bst = model.fit(X_train, y_train,eval_set=[(X_valid,y_valid)], early_stopping_rounds=50, verbose=False)\n",
        "    preds = bst.predict(X_valid)\n",
        "    pred_labels = np.rint(preds)\n",
        "    accuracy = sklearn.metrics.accuracy_score(y_valid, pred_labels)\n",
        "    return accuracy"
      ]
    },
    {
      "cell_type": "code",
      "execution_count": null,
      "metadata": {
        "colab": {
          "base_uri": "https://localhost:8080/"
        },
        "id": "3_Ig0uDUeFAb",
        "outputId": "b6681794-3155-4afc-f9bb-9d1fd39b0dfa"
      },
      "outputs": [],
      "source": [
        "study = optuna.create_study(direction='minimize')\n",
        "study.optimize(objective, n_trials=30)\n",
        "print('Number of finished trials:', len(study.trials))\n",
        "print('Best trial:', study.best_trial.params)"
      ]
    },
    {
      "cell_type": "markdown",
      "metadata": {
        "id": "ic7WngC7eFAb"
      },
      "source": [
        "### XGBModeling"
      ]
    },
    {
      "cell_type": "code",
      "execution_count": null,
      "metadata": {
        "id": "EYE_51caeFAc"
      },
      "outputs": [],
      "source": [
        "xgb_params=study.best_trial.params"
      ]
    },
    {
      "cell_type": "code",
      "execution_count": null,
      "metadata": {
        "colab": {
          "base_uri": "https://localhost:8080/"
        },
        "id": "xpcCsooLeFAc",
        "outputId": "608886ca-8261-45cd-9340-aa25e4becaa2"
      },
      "outputs": [],
      "source": [
        "print('***',n_fold_list,'***')\n",
        "\n",
        "skfold = StratifiedKFold(n_splits=n_fold_list, shuffle=True, random_state=seed)\n",
        "folds=[]\n",
        "for train_idx, valid_idx in skfold.split(X, y):\n",
        "        folds.append((train_idx, valid_idx))\n",
        "\n",
        "cat_pred = np.zeros((X.shape[0], n_class))\n",
        "cat_pred_test = np.zeros((X_test.shape[0], n_class))\n",
        "\n",
        "for fold in range(n_fold_list):\n",
        "    print(f'\\n----------------- Fold {fold} -----------------\\n')\n",
        "    train_idx, valid_idx = folds[fold]\n",
        "    X_train, X_valid, y_train, y_valid = X.iloc[train_idx], X.iloc[valid_idx], y[train_idx], y[valid_idx]\n",
        "    evals=[(X_valid,y_valid)]\n",
        "    model_cat = xgb.XGBClassifier(**xgb_params,sample_weight=classes_weights,random_state=seed)\n",
        "    model_cat.fit(X_train,y_train,eval_set=evals, early_stopping_rounds=100, verbose=100)\n",
        "\n",
        "    cat_pred[valid_idx] = model_cat.predict_proba(X_valid)\n",
        "    cat_pred_test += model_cat.predict_proba(X_test) / n_fold_list\n",
        "    print(f'CV Log Loss Score: {log_loss(y_valid, cat_pred[valid_idx]):.6f}')\n",
        "    \n",
        "print(f'\\t<*><*><*><*><*><*>Log Loss: {log_loss(y, cat_pred):.6f}<*><*><*><*><*><*>\\n\\n\\n\\n')"
      ]
    },
    {
      "cell_type": "code",
      "execution_count": null,
      "metadata": {
        "id": "dJQSsuMGeFAc"
      },
      "outputs": [],
      "source": [
        "def plot_feature_importance(importance,names,model_type):\n",
        "    \n",
        "    feature_importance = np.array(importance)\n",
        "    feature_names = np.array(names)\n",
        "    \n",
        "    data={'feature_names':feature_names,'feature_importance':feature_importance}\n",
        "    fi_df = pd.DataFrame(data)\n",
        "    \n",
        "    fi_df.sort_values(by=['feature_importance'], ascending=False,inplace=True)\n",
        "\n",
        "    plt.figure(figsize=(10,8))\n",
        "\n",
        "    sns.barplot(x=fi_df['feature_importance'], y=fi_df['feature_names'])\n",
        "\n",
        "    plt.title(model_type + ' Feature Importance')\n",
        "    plt.xlabel('Feature Importance')\n",
        "    plt.ylabel('Feature Names')"
      ]
    },
    {
      "cell_type": "code",
      "execution_count": null,
      "metadata": {
        "colab": {
          "base_uri": "https://localhost:8080/",
          "height": 513
        },
        "id": "zRrVZeZNeFAc",
        "outputId": "66e3dd9c-65aa-49a4-c176-20de1a7302a6"
      },
      "outputs": [],
      "source": [
        "plot_feature_importance(model_cat.feature_importances_,X_test.columns,'XGBOOST')"
      ]
    },
    {
      "cell_type": "markdown",
      "metadata": {
        "id": "RB9O-VGBeFAd"
      },
      "source": [
        "## Randomforest"
      ]
    },
    {
      "cell_type": "markdown",
      "metadata": {
        "id": "uMxIkKnPeFAd"
      },
      "source": [
        "### RandomForest Optuna"
      ]
    },
    {
      "cell_type": "code",
      "execution_count": null,
      "metadata": {
        "id": "vle7LUdTeFAd"
      },
      "outputs": [],
      "source": [
        "def objective(trial):\n",
        "    \n",
        "    params = {\n",
        "            'n_estimators': trial.suggest_int('n_estimators', 50, 1000),\n",
        "            'max_depth': trial.suggest_int('max_depth', 1, 50),\n",
        "            #'min_samples_split': trial.suggest_int('min_samples_split', 1, 150),\n",
        "            'min_samples_leaf': trial.suggest_int('min_samples_leaf', 1, 60),\n",
        "            'bootstrap' : trial.suggest_categorical('bootstrap',['True','False']),\n",
        "            'max_features' :trial.suggest_categorical('max_features', ['auto', 'sqrt','log2']),\n",
        "            'max_leaf_nodes' : trial.suggest_int('max_leaf_nodes', 1, 10000)\n",
        "        }\n",
        "\n",
        "    model = RandomForestClassifier(**params, random_state = 42,class_weight='balanced')\n",
        "\n",
        "    bst = model.fit(X_train, y_train)\n",
        "    preds = bst.predict(X_valid)\n",
        "    pred_labels = np.rint(preds)\n",
        "    accuracy = sklearn.metrics.accuracy_score(y_valid, pred_labels)\n",
        "    return accuracy"
      ]
    },
    {
      "cell_type": "code",
      "execution_count": null,
      "metadata": {
        "colab": {
          "base_uri": "https://localhost:8080/"
        },
        "id": "V-4zUrZjeFAd",
        "outputId": "78b7cb06-1932-4a03-c692-33211137cb10"
      },
      "outputs": [],
      "source": [
        "study = optuna.create_study(direction='minimize')\n",
        "study.optimize(objective, n_trials=30)\n",
        "print('Number of finished trials:', len(study.trials))\n",
        "print('Best trial:', study.best_trial.params)"
      ]
    },
    {
      "cell_type": "markdown",
      "metadata": {
        "id": "D-tJNsbbeFAd"
      },
      "source": [
        "### RFModeling"
      ]
    },
    {
      "cell_type": "code",
      "execution_count": null,
      "metadata": {
        "id": "8AJppw-ueFAd"
      },
      "outputs": [],
      "source": [
        "randomforest_params=study.best_trial.params"
      ]
    },
    {
      "cell_type": "code",
      "execution_count": null,
      "metadata": {
        "colab": {
          "base_uri": "https://localhost:8080/"
        },
        "id": "YJerlT6VeFAe",
        "outputId": "6e4b871c-63d6-48ad-b62a-53b38bea610a"
      },
      "outputs": [],
      "source": [
        "print('***',n_fold_list,'***')\n",
        "\n",
        "skfold = StratifiedKFold(n_splits=n_fold_list, shuffle=True, random_state=seed)\n",
        "folds=[]\n",
        "for train_idx, valid_idx in skfold.split(X, y):\n",
        "        folds.append((train_idx, valid_idx))\n",
        "\n",
        "cat_pred = np.zeros((X.shape[0], n_class))\n",
        "cat_pred_test = np.zeros((X_test.shape[0], n_class))\n",
        "for fold in range(n_fold_list):\n",
        "    print(f'\\n----------------- Fold {fold} -----------------\\n')\n",
        "    train_idx, valid_idx = folds[fold]\n",
        "    X_train, X_valid, y_train, y_valid = X.iloc[train_idx], X.iloc[valid_idx], y[train_idx], y[valid_idx]\n",
        "    #evals=[(X_valid,y_valid)]\n",
        "    model_cat = RandomForestClassifier(**randomforest_params,class_weight='balanced',random_state=seed)\n",
        "    model_cat.fit(X_train,y_train)\n",
        "\n",
        "    cat_pred[valid_idx] = model_cat.predict_proba(X_valid)\n",
        "    cat_pred_test += model_cat.predict_proba(X_test) / n_fold_list\n",
        "    print(f'CV Log Loss Score: {log_loss(y_valid, cat_pred[valid_idx]):.6f}')\n",
        "    \n",
        "print(f'\\t<*><*><*><*><*><*>Log Loss: {log_loss(y, cat_pred):.6f}<*><*><*><*><*><*>\\n\\n\\n\\n')"
      ]
    },
    {
      "cell_type": "code",
      "execution_count": null,
      "metadata": {
        "id": "938wz4rKeFAe"
      },
      "outputs": [],
      "source": [
        "def plot_feature_importance(importance,names,model_type):\n",
        "    \n",
        "    feature_importance = np.array(importance)\n",
        "    feature_names = np.array(names)\n",
        "    \n",
        "    data={'feature_names':feature_names,'feature_importance':feature_importance}\n",
        "    fi_df = pd.DataFrame(data)\n",
        "    \n",
        "    fi_df.sort_values(by=['feature_importance'], ascending=False,inplace=True)\n",
        "\n",
        "    plt.figure(figsize=(10,8))\n",
        "\n",
        "    sns.barplot(x=fi_df['feature_importance'], y=fi_df['feature_names'])\n",
        "\n",
        "    plt.title(model_type + ' Feature Importance')\n",
        "    plt.xlabel('Feature Importance')\n",
        "    plt.ylabel('Feature Names')"
      ]
    },
    {
      "cell_type": "code",
      "execution_count": null,
      "metadata": {
        "colab": {
          "base_uri": "https://localhost:8080/",
          "height": 513
        },
        "id": "xg75luILeFAe",
        "outputId": "fbfca252-cecb-46dc-d01c-2fc7e276f9ce"
      },
      "outputs": [],
      "source": [
        "plot_feature_importance(model_cat.feature_importances_,X_test.columns,'RandomForest')"
      ]
    },
    {
      "cell_type": "code",
      "execution_count": null,
      "metadata": {
        "id": "ZdGpOQeGeFAe"
      },
      "outputs": [],
      "source": []
    }
  ],
  "metadata": {
    "accelerator": "GPU",
    "colab": {
      "collapsed_sections": [
        "uMxIkKnPeFAd",
        "D-tJNsbbeFAd"
      ],
      "machine_shape": "hm",
      "name": "Modeling_ALL.ipynb",
      "provenance": []
    },
    "gpuClass": "standard",
    "kernelspec": {
      "display_name": "Python 3.8.13 ('cp1')",
      "language": "python",
      "name": "python3"
    },
    "language_info": {
      "codemirror_mode": {
        "name": "ipython",
        "version": 3
      },
      "file_extension": ".py",
      "mimetype": "text/x-python",
      "name": "python",
      "nbconvert_exporter": "python",
      "pygments_lexer": "ipython3",
      "version": "3.8.13"
    },
    "orig_nbformat": 4,
    "vscode": {
      "interpreter": {
        "hash": "4e20cae8c02cdbfab86f340bcf03db6c207aa5d0f73c59fd22468510bba19095"
      }
    }
  },
  "nbformat": 4,
  "nbformat_minor": 0
}
