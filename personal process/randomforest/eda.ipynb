{
 "cells": [
  {
   "cell_type": "code",
   "execution_count": null,
   "metadata": {},
   "outputs": [],
   "source": [
    "train=pd.read_csv('/Users/namchangseok/cp1/train.csv')\n",
    "test=pd.read_csv('/Users/namchangseok/cp1/test.csv')\n",
    "sub=pd.read_csv('/Users/namchangseok/cp1/sample_submission.csv')\n"
   ]
  },
  {
   "cell_type": "code",
   "execution_count": null,
   "metadata": {},
   "outputs": [],
   "source": [
    "# 데이터 전처리 \n",
    "\n",
    "# 이상치 제거 \n",
    "child_num_cut = 4\n",
    "train.loc[train['child_num'] > child_num_cut, 'child_num'] = child_num_cut # child num의 수가 4 이상이면 이상치라 판단하여 제거 \n",
    "famil_size_cut=6\n",
    "train.loc[train['family_size']> famil_size_cut,'family_size']=famil_size_cut# family size 가 6 이상이면 이상치라 판단하여 제거 \n",
    "\n",
    "# 의미 없는값 제거 \n",
    "#train=train.drop(['FLAG_MOBIL'],axis=1)   # 개수가 전체 행과 같음 즉 의미가 없는 특성임\n",
    "\n",
    "# 전처리 \n",
    "for data in [train,test]:\n",
    "    data['gender']=data['gender'].replace(['F','M'], [0, 1])\n",
    "    data['car']=data['car'].replace(['N','Y'], [0, 1])\n",
    "    data['reality']=data['reality'].replace(['N','Y'], [0, 1])\n",
    "    data['edu_type'] = data['edu_type'].replace(['Higher education', 'Secondary / secondary special', 'Incomplete higher', 'Lower secondary', 'Academic degree'], [4, 2, 3, 1 ,5])\n",
    "    \n",
    "    \n",
    "def DAYS_BIRTH(df):\n",
    "    df['DAYS_BIRTH'] = df['DAYS_BIRTH'].apply(abs) / 365\n",
    "    df['DAYS_BIRTH'] = df['DAYS_BIRTH'].apply(round)\n",
    "    df['DAYS_BIRTH'] = np.select([df['DAYS_BIRTH'] < 10, df['DAYS_BIRTH'] < 20, df['DAYS_BIRTH'] < 30, df['DAYS_BIRTH'] < 40, df['DAYS_BIRTH'] < 50, df['DAYS_BIRTH'] < 60, df['DAYS_BIRTH'] < 70, df['DAYS_BIRTH'] >= 70],\n",
    "                                [0, 10, 20, 30, 40, 50, 60, 70])\n",
    "    return df['DAYS_BIRTH'] #\n",
    "\n",
    "# 데이터 수집 당시 (0)부터 역으로 셈, 즉, -1은 데이터 수집일 하루 전부터 일을 시작함을 의미. 양수 값은 고용되지 않은 상태를 의미함\n",
    "def DAYS_EMPLOYED(df): \n",
    "    condition = (df['DAYS_EMPLOYED'] > 0)\n",
    "    df.loc[condition, 'DAYS_EMPLOYED'] = 0\n",
    "    df['DAYS_EMPLOYED'] = df['DAYS_EMPLOYED'].apply(abs) / 365\n",
    "    df['DAYS_EMPLOYED'] = df['DAYS_EMPLOYED'].apply(round)\n",
    "    return df['DAYS_EMPLOYED'] # 일 시작한지 '몇 년' 됐는지 리턴. 1년 단위로 계산\n",
    "\n",
    "def begin_month(df):\n",
    "    df['begin_month'] = df['begin_month'].apply(abs) / 12\n",
    "    df['begin_month'] = df['begin_month'].apply(round)\n",
    "    return df['begin_month'] # 신용카드 발급한 지 '몇 년' 됐는지 리턴\n",
    "\n",
    "\n",
    "\n",
    "train['DAYS_BIRTH'] = DAYS_BIRTH(train)\n",
    "train['DAYS_EMPLOYED'] = DAYS_EMPLOYED(train)\n",
    "train['begin_month'] = begin_month(train)\n",
    "train= train.rename(columns={'DAYS_BIRTH':'AGE', 'DAYS_EMPLOYED':\"WORKING_YEARS\",'begin_month':'YEAR_USE_CREDIT'})\n",
    "\n",
    "test['DAYS_BIRTH'] = DAYS_BIRTH(test)\n",
    "test['DAYS_EMPLOYED'] = DAYS_EMPLOYED(test)\n",
    "test['begin_month'] = begin_month(test)\n",
    "test= test.rename(columns={'DAYS_BIRTH':'AGE', 'DAYS_EMPLOYED':\"WORKING_YEARS\",'begin_month':'YEAR_USE_CREDIT'})\n"
   ]
  },
  {
   "cell_type": "code",
   "execution_count": null,
   "metadata": {},
   "outputs": [],
   "source": [
    "# 의미 없는값 제거 \n",
    "train=train.drop(['FLAG_MOBIL'],axis=1)   # 개수가 전체 행과 같음 즉 의미가 없는 특성임\n",
    "test=test.drop(['FLAG_MOBIL'],axis=1)\n",
    "# 모델 임시로 돌리기 위해 직업값 제거\n",
    "train = train.drop(\"occyp_type\", axis = 1)\n",
    "test =  test.drop(\"occyp_type\", axis = 1)"
   ]
  },
  {
   "cell_type": "code",
   "execution_count": null,
   "metadata": {},
   "outputs": [],
   "source": [
    "# 새로운 특성 합쳐만들어보기 \n",
    "\n",
    "train['youngrich']=[None for i in range(len(train['reality']))]\n",
    "train[(train['reality']==1)&(train['AGE']<30)&(train['car']==1)]['youngrich']=1\n",
    "train[(train['reality']!=1)|(train['AGE']>=30)|(train['car']!=1)]['youngrich']=0"
   ]
  }
 ],
 "metadata": {
  "language_info": {
   "name": "python"
  },
  "orig_nbformat": 4
 },
 "nbformat": 4,
 "nbformat_minor": 2
}
