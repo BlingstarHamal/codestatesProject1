{
 "cells": [
  {
   "cell_type": "markdown",
   "metadata": {},
   "source": [
    "# Lib"
   ]
  },
  {
   "cell_type": "code",
   "execution_count": 2,
   "metadata": {},
   "outputs": [],
   "source": [
    "import pandas as pd\n",
    "import math\n",
    "import seaborn as sns\n",
    "import matplotlib.pyplot as plt\n",
    "import numpy as np\n"
   ]
  },
  {
   "cell_type": "markdown",
   "metadata": {},
   "source": [
    "# Check Data"
   ]
  },
  {
   "cell_type": "code",
   "execution_count": 3,
   "metadata": {},
   "outputs": [],
   "source": [
    "# index  \n",
    "\n",
    "# gender: 성별  \n",
    "# car: 차량 소유 여부  \n",
    "# reality: 부동산 소유 여부  \n",
    "# child_num: 자녀 수  \n",
    "# income_total: 연간 소득  \n",
    "# income_type: 소득 분류  ['Commercial associate', 'Working', 'State servant', 'Pensioner', 'Student']  \n",
    "# edu_type: 교육 수준  ['Higher education' ,'Secondary / secondary special', 'Incomplete higher', 'Lower secondary', 'Academic degree']  \n",
    "\n",
    "# family_type: 결혼 여부 ['Married', 'Civil marriage', 'Separated', 'Single / not married', 'Widow']  \n",
    "\n",
    "# house_type: 생활 방식 ['Municipal apartment', 'House / apartment', 'With parents',  \n",
    "# \t\t\t\t\t'Co-op apartment', 'Rented apartment', 'Office apartment']  \n",
    "# DAYS_BIRTH: 출생일  \t데이터 수집 당시 (0)부터 역으로 셈, 즉, -1은 데이터 수집일 하루 전에 태어났음을 의미  \n",
    "\n",
    "# DAYS_EMPLOYED: 업무 시작일  \n",
    "# 데이터 수집 당시 (0)부터 역으로 셈, 즉, -1은 데이터 수집일 하루 전부터 일을 시작함을 의미  \n",
    "# 양수 값은 고용되지 않은 상태를 의미함  \n",
    "\n",
    "# FLAG_MOBIL: 핸드폰 소유 여부  \n",
    "# work_phone: 업무용 전화 소유 여부  \n",
    "# phone: 전화 소유 여부  \n",
    "# email: 이메일 소유 여부  \n",
    "# occyp_type: 직업 유형  \n",
    "# family_size: 가족 규모  \n",
    "# begin_month: 신용카드 발급 월  \n",
    "# 데이터 수집 당시 (0)부터 역으로 셈, 즉, -1은 데이터 수집일 한 달 전에 신용카드를 발급함을 의미  \n",
    "# credit: 사용자의 신용카드 대금 연체를 기준으로 한 신용도  \n",
    "# => 낮을 수록 높은 신용의 신용카드 사용자를 의미함  "
   ]
  },
  {
   "cell_type": "code",
   "execution_count": 4,
   "metadata": {},
   "outputs": [],
   "source": [
    "train=pd.read_csv('./data/train.csv')\n",
    "test=pd.read_csv('./data/test.csv')"
   ]
  },
  {
   "cell_type": "code",
   "execution_count": 5,
   "metadata": {},
   "outputs": [
    {
     "data": {
      "text/html": [
       "<div>\n",
       "<style scoped>\n",
       "    .dataframe tbody tr th:only-of-type {\n",
       "        vertical-align: middle;\n",
       "    }\n",
       "\n",
       "    .dataframe tbody tr th {\n",
       "        vertical-align: top;\n",
       "    }\n",
       "\n",
       "    .dataframe thead th {\n",
       "        text-align: right;\n",
       "    }\n",
       "</style>\n",
       "<table border=\"1\" class=\"dataframe\">\n",
       "  <thead>\n",
       "    <tr style=\"text-align: right;\">\n",
       "      <th></th>\n",
       "      <th>index</th>\n",
       "      <th>gender</th>\n",
       "      <th>car</th>\n",
       "      <th>reality</th>\n",
       "      <th>child_num</th>\n",
       "      <th>income_total</th>\n",
       "      <th>income_type</th>\n",
       "      <th>edu_type</th>\n",
       "      <th>family_type</th>\n",
       "      <th>house_type</th>\n",
       "      <th>DAYS_BIRTH</th>\n",
       "      <th>DAYS_EMPLOYED</th>\n",
       "      <th>FLAG_MOBIL</th>\n",
       "      <th>work_phone</th>\n",
       "      <th>phone</th>\n",
       "      <th>email</th>\n",
       "      <th>occyp_type</th>\n",
       "      <th>family_size</th>\n",
       "      <th>begin_month</th>\n",
       "      <th>credit</th>\n",
       "    </tr>\n",
       "  </thead>\n",
       "  <tbody>\n",
       "    <tr>\n",
       "      <th>0</th>\n",
       "      <td>0</td>\n",
       "      <td>F</td>\n",
       "      <td>N</td>\n",
       "      <td>N</td>\n",
       "      <td>0</td>\n",
       "      <td>202500.0</td>\n",
       "      <td>Commercial associate</td>\n",
       "      <td>Higher education</td>\n",
       "      <td>Married</td>\n",
       "      <td>Municipal apartment</td>\n",
       "      <td>-13899</td>\n",
       "      <td>-4709</td>\n",
       "      <td>1</td>\n",
       "      <td>0</td>\n",
       "      <td>0</td>\n",
       "      <td>0</td>\n",
       "      <td>NaN</td>\n",
       "      <td>2.0</td>\n",
       "      <td>-6.0</td>\n",
       "      <td>1.0</td>\n",
       "    </tr>\n",
       "    <tr>\n",
       "      <th>1</th>\n",
       "      <td>1</td>\n",
       "      <td>F</td>\n",
       "      <td>N</td>\n",
       "      <td>Y</td>\n",
       "      <td>1</td>\n",
       "      <td>247500.0</td>\n",
       "      <td>Commercial associate</td>\n",
       "      <td>Secondary / secondary special</td>\n",
       "      <td>Civil marriage</td>\n",
       "      <td>House / apartment</td>\n",
       "      <td>-11380</td>\n",
       "      <td>-1540</td>\n",
       "      <td>1</td>\n",
       "      <td>0</td>\n",
       "      <td>0</td>\n",
       "      <td>1</td>\n",
       "      <td>Laborers</td>\n",
       "      <td>3.0</td>\n",
       "      <td>-5.0</td>\n",
       "      <td>1.0</td>\n",
       "    </tr>\n",
       "    <tr>\n",
       "      <th>2</th>\n",
       "      <td>2</td>\n",
       "      <td>M</td>\n",
       "      <td>Y</td>\n",
       "      <td>Y</td>\n",
       "      <td>0</td>\n",
       "      <td>450000.0</td>\n",
       "      <td>Working</td>\n",
       "      <td>Higher education</td>\n",
       "      <td>Married</td>\n",
       "      <td>House / apartment</td>\n",
       "      <td>-19087</td>\n",
       "      <td>-4434</td>\n",
       "      <td>1</td>\n",
       "      <td>0</td>\n",
       "      <td>1</td>\n",
       "      <td>0</td>\n",
       "      <td>Managers</td>\n",
       "      <td>2.0</td>\n",
       "      <td>-22.0</td>\n",
       "      <td>2.0</td>\n",
       "    </tr>\n",
       "    <tr>\n",
       "      <th>3</th>\n",
       "      <td>3</td>\n",
       "      <td>F</td>\n",
       "      <td>N</td>\n",
       "      <td>Y</td>\n",
       "      <td>0</td>\n",
       "      <td>202500.0</td>\n",
       "      <td>Commercial associate</td>\n",
       "      <td>Secondary / secondary special</td>\n",
       "      <td>Married</td>\n",
       "      <td>House / apartment</td>\n",
       "      <td>-15088</td>\n",
       "      <td>-2092</td>\n",
       "      <td>1</td>\n",
       "      <td>0</td>\n",
       "      <td>1</td>\n",
       "      <td>0</td>\n",
       "      <td>Sales staff</td>\n",
       "      <td>2.0</td>\n",
       "      <td>-37.0</td>\n",
       "      <td>0.0</td>\n",
       "    </tr>\n",
       "    <tr>\n",
       "      <th>4</th>\n",
       "      <td>4</td>\n",
       "      <td>F</td>\n",
       "      <td>Y</td>\n",
       "      <td>Y</td>\n",
       "      <td>0</td>\n",
       "      <td>157500.0</td>\n",
       "      <td>State servant</td>\n",
       "      <td>Higher education</td>\n",
       "      <td>Married</td>\n",
       "      <td>House / apartment</td>\n",
       "      <td>-15037</td>\n",
       "      <td>-2105</td>\n",
       "      <td>1</td>\n",
       "      <td>0</td>\n",
       "      <td>0</td>\n",
       "      <td>0</td>\n",
       "      <td>Managers</td>\n",
       "      <td>2.0</td>\n",
       "      <td>-26.0</td>\n",
       "      <td>2.0</td>\n",
       "    </tr>\n",
       "  </tbody>\n",
       "</table>\n",
       "</div>"
      ],
      "text/plain": [
       "   index gender car reality  child_num  income_total           income_type  \\\n",
       "0      0      F   N       N          0      202500.0  Commercial associate   \n",
       "1      1      F   N       Y          1      247500.0  Commercial associate   \n",
       "2      2      M   Y       Y          0      450000.0               Working   \n",
       "3      3      F   N       Y          0      202500.0  Commercial associate   \n",
       "4      4      F   Y       Y          0      157500.0         State servant   \n",
       "\n",
       "                        edu_type     family_type           house_type  \\\n",
       "0               Higher education         Married  Municipal apartment   \n",
       "1  Secondary / secondary special  Civil marriage    House / apartment   \n",
       "2               Higher education         Married    House / apartment   \n",
       "3  Secondary / secondary special         Married    House / apartment   \n",
       "4               Higher education         Married    House / apartment   \n",
       "\n",
       "   DAYS_BIRTH  DAYS_EMPLOYED  FLAG_MOBIL  work_phone  phone  email  \\\n",
       "0      -13899          -4709           1           0      0      0   \n",
       "1      -11380          -1540           1           0      0      1   \n",
       "2      -19087          -4434           1           0      1      0   \n",
       "3      -15088          -2092           1           0      1      0   \n",
       "4      -15037          -2105           1           0      0      0   \n",
       "\n",
       "    occyp_type  family_size  begin_month  credit  \n",
       "0          NaN          2.0         -6.0     1.0  \n",
       "1     Laborers          3.0         -5.0     1.0  \n",
       "2     Managers          2.0        -22.0     2.0  \n",
       "3  Sales staff          2.0        -37.0     0.0  \n",
       "4     Managers          2.0        -26.0     2.0  "
      ]
     },
     "execution_count": 5,
     "metadata": {},
     "output_type": "execute_result"
    }
   ],
   "source": [
    "train.head(5)"
   ]
  },
  {
   "cell_type": "code",
   "execution_count": 6,
   "metadata": {},
   "outputs": [
    {
     "data": {
      "text/plain": [
       "(26457, 20)"
      ]
     },
     "execution_count": 6,
     "metadata": {},
     "output_type": "execute_result"
    }
   ],
   "source": [
    "train.shape"
   ]
  },
  {
   "cell_type": "code",
   "execution_count": 7,
   "metadata": {},
   "outputs": [
    {
     "data": {
      "text/html": [
       "<div>\n",
       "<style scoped>\n",
       "    .dataframe tbody tr th:only-of-type {\n",
       "        vertical-align: middle;\n",
       "    }\n",
       "\n",
       "    .dataframe tbody tr th {\n",
       "        vertical-align: top;\n",
       "    }\n",
       "\n",
       "    .dataframe thead th {\n",
       "        text-align: right;\n",
       "    }\n",
       "</style>\n",
       "<table border=\"1\" class=\"dataframe\">\n",
       "  <thead>\n",
       "    <tr style=\"text-align: right;\">\n",
       "      <th></th>\n",
       "      <th>index</th>\n",
       "      <th>gender</th>\n",
       "      <th>car</th>\n",
       "      <th>reality</th>\n",
       "      <th>child_num</th>\n",
       "      <th>income_total</th>\n",
       "      <th>income_type</th>\n",
       "      <th>edu_type</th>\n",
       "      <th>family_type</th>\n",
       "      <th>house_type</th>\n",
       "      <th>DAYS_BIRTH</th>\n",
       "      <th>DAYS_EMPLOYED</th>\n",
       "      <th>FLAG_MOBIL</th>\n",
       "      <th>work_phone</th>\n",
       "      <th>phone</th>\n",
       "      <th>email</th>\n",
       "      <th>occyp_type</th>\n",
       "      <th>family_size</th>\n",
       "      <th>begin_month</th>\n",
       "    </tr>\n",
       "  </thead>\n",
       "  <tbody>\n",
       "    <tr>\n",
       "      <th>0</th>\n",
       "      <td>26457</td>\n",
       "      <td>M</td>\n",
       "      <td>Y</td>\n",
       "      <td>N</td>\n",
       "      <td>0</td>\n",
       "      <td>112500.0</td>\n",
       "      <td>Pensioner</td>\n",
       "      <td>Secondary / secondary special</td>\n",
       "      <td>Civil marriage</td>\n",
       "      <td>House / apartment</td>\n",
       "      <td>-21990</td>\n",
       "      <td>365243</td>\n",
       "      <td>1</td>\n",
       "      <td>0</td>\n",
       "      <td>1</td>\n",
       "      <td>0</td>\n",
       "      <td>NaN</td>\n",
       "      <td>2.0</td>\n",
       "      <td>-60.0</td>\n",
       "    </tr>\n",
       "    <tr>\n",
       "      <th>1</th>\n",
       "      <td>26458</td>\n",
       "      <td>F</td>\n",
       "      <td>N</td>\n",
       "      <td>Y</td>\n",
       "      <td>0</td>\n",
       "      <td>135000.0</td>\n",
       "      <td>State servant</td>\n",
       "      <td>Higher education</td>\n",
       "      <td>Married</td>\n",
       "      <td>House / apartment</td>\n",
       "      <td>-18964</td>\n",
       "      <td>-8671</td>\n",
       "      <td>1</td>\n",
       "      <td>0</td>\n",
       "      <td>1</td>\n",
       "      <td>0</td>\n",
       "      <td>Core staff</td>\n",
       "      <td>2.0</td>\n",
       "      <td>-36.0</td>\n",
       "    </tr>\n",
       "    <tr>\n",
       "      <th>2</th>\n",
       "      <td>26459</td>\n",
       "      <td>F</td>\n",
       "      <td>N</td>\n",
       "      <td>Y</td>\n",
       "      <td>0</td>\n",
       "      <td>69372.0</td>\n",
       "      <td>Working</td>\n",
       "      <td>Secondary / secondary special</td>\n",
       "      <td>Married</td>\n",
       "      <td>House / apartment</td>\n",
       "      <td>-15887</td>\n",
       "      <td>-217</td>\n",
       "      <td>1</td>\n",
       "      <td>1</td>\n",
       "      <td>1</td>\n",
       "      <td>0</td>\n",
       "      <td>Laborers</td>\n",
       "      <td>2.0</td>\n",
       "      <td>-40.0</td>\n",
       "    </tr>\n",
       "    <tr>\n",
       "      <th>3</th>\n",
       "      <td>26460</td>\n",
       "      <td>M</td>\n",
       "      <td>Y</td>\n",
       "      <td>N</td>\n",
       "      <td>0</td>\n",
       "      <td>112500.0</td>\n",
       "      <td>Commercial associate</td>\n",
       "      <td>Secondary / secondary special</td>\n",
       "      <td>Married</td>\n",
       "      <td>House / apartment</td>\n",
       "      <td>-19270</td>\n",
       "      <td>-2531</td>\n",
       "      <td>1</td>\n",
       "      <td>1</td>\n",
       "      <td>0</td>\n",
       "      <td>0</td>\n",
       "      <td>Drivers</td>\n",
       "      <td>2.0</td>\n",
       "      <td>-41.0</td>\n",
       "    </tr>\n",
       "    <tr>\n",
       "      <th>4</th>\n",
       "      <td>26461</td>\n",
       "      <td>F</td>\n",
       "      <td>Y</td>\n",
       "      <td>Y</td>\n",
       "      <td>0</td>\n",
       "      <td>225000.0</td>\n",
       "      <td>State servant</td>\n",
       "      <td>Higher education</td>\n",
       "      <td>Married</td>\n",
       "      <td>House / apartment</td>\n",
       "      <td>-17822</td>\n",
       "      <td>-9385</td>\n",
       "      <td>1</td>\n",
       "      <td>1</td>\n",
       "      <td>0</td>\n",
       "      <td>0</td>\n",
       "      <td>Managers</td>\n",
       "      <td>2.0</td>\n",
       "      <td>-8.0</td>\n",
       "    </tr>\n",
       "  </tbody>\n",
       "</table>\n",
       "</div>"
      ],
      "text/plain": [
       "   index gender car reality  child_num  income_total           income_type  \\\n",
       "0  26457      M   Y       N          0      112500.0             Pensioner   \n",
       "1  26458      F   N       Y          0      135000.0         State servant   \n",
       "2  26459      F   N       Y          0       69372.0               Working   \n",
       "3  26460      M   Y       N          0      112500.0  Commercial associate   \n",
       "4  26461      F   Y       Y          0      225000.0         State servant   \n",
       "\n",
       "                        edu_type     family_type         house_type  \\\n",
       "0  Secondary / secondary special  Civil marriage  House / apartment   \n",
       "1               Higher education         Married  House / apartment   \n",
       "2  Secondary / secondary special         Married  House / apartment   \n",
       "3  Secondary / secondary special         Married  House / apartment   \n",
       "4               Higher education         Married  House / apartment   \n",
       "\n",
       "   DAYS_BIRTH  DAYS_EMPLOYED  FLAG_MOBIL  work_phone  phone  email  \\\n",
       "0      -21990         365243           1           0      1      0   \n",
       "1      -18964          -8671           1           0      1      0   \n",
       "2      -15887           -217           1           1      1      0   \n",
       "3      -19270          -2531           1           1      0      0   \n",
       "4      -17822          -9385           1           1      0      0   \n",
       "\n",
       "   occyp_type  family_size  begin_month  \n",
       "0         NaN          2.0        -60.0  \n",
       "1  Core staff          2.0        -36.0  \n",
       "2    Laborers          2.0        -40.0  \n",
       "3     Drivers          2.0        -41.0  \n",
       "4    Managers          2.0         -8.0  "
      ]
     },
     "execution_count": 7,
     "metadata": {},
     "output_type": "execute_result"
    }
   ],
   "source": [
    "test.head(5)"
   ]
  },
  {
   "cell_type": "code",
   "execution_count": 8,
   "metadata": {},
   "outputs": [
    {
     "data": {
      "text/plain": [
       "(10000, 19)"
      ]
     },
     "execution_count": 8,
     "metadata": {},
     "output_type": "execute_result"
    }
   ],
   "source": [
    "test.shape"
   ]
  },
  {
   "cell_type": "code",
   "execution_count": 9,
   "metadata": {},
   "outputs": [
    {
     "name": "stdout",
     "output_type": "stream",
     "text": [
      "<class 'pandas.core.frame.DataFrame'>\n",
      "RangeIndex: 26457 entries, 0 to 26456\n",
      "Data columns (total 20 columns):\n",
      " #   Column         Non-Null Count  Dtype  \n",
      "---  ------         --------------  -----  \n",
      " 0   index          26457 non-null  int64  \n",
      " 1   gender         26457 non-null  object \n",
      " 2   car            26457 non-null  object \n",
      " 3   reality        26457 non-null  object \n",
      " 4   child_num      26457 non-null  int64  \n",
      " 5   income_total   26457 non-null  float64\n",
      " 6   income_type    26457 non-null  object \n",
      " 7   edu_type       26457 non-null  object \n",
      " 8   family_type    26457 non-null  object \n",
      " 9   house_type     26457 non-null  object \n",
      " 10  DAYS_BIRTH     26457 non-null  int64  \n",
      " 11  DAYS_EMPLOYED  26457 non-null  int64  \n",
      " 12  FLAG_MOBIL     26457 non-null  int64  \n",
      " 13  work_phone     26457 non-null  int64  \n",
      " 14  phone          26457 non-null  int64  \n",
      " 15  email          26457 non-null  int64  \n",
      " 16  occyp_type     18286 non-null  object \n",
      " 17  family_size    26457 non-null  float64\n",
      " 18  begin_month    26457 non-null  float64\n",
      " 19  credit         26457 non-null  float64\n",
      "dtypes: float64(4), int64(8), object(8)\n",
      "memory usage: 4.0+ MB\n"
     ]
    }
   ],
   "source": [
    "train.info()"
   ]
  },
  {
   "cell_type": "code",
   "execution_count": 10,
   "metadata": {},
   "outputs": [
    {
     "name": "stdout",
     "output_type": "stream",
     "text": [
      "<class 'pandas.core.frame.DataFrame'>\n",
      "RangeIndex: 10000 entries, 0 to 9999\n",
      "Data columns (total 19 columns):\n",
      " #   Column         Non-Null Count  Dtype  \n",
      "---  ------         --------------  -----  \n",
      " 0   index          10000 non-null  int64  \n",
      " 1   gender         10000 non-null  object \n",
      " 2   car            10000 non-null  object \n",
      " 3   reality        10000 non-null  object \n",
      " 4   child_num      10000 non-null  int64  \n",
      " 5   income_total   10000 non-null  float64\n",
      " 6   income_type    10000 non-null  object \n",
      " 7   edu_type       10000 non-null  object \n",
      " 8   family_type    10000 non-null  object \n",
      " 9   house_type     10000 non-null  object \n",
      " 10  DAYS_BIRTH     10000 non-null  int64  \n",
      " 11  DAYS_EMPLOYED  10000 non-null  int64  \n",
      " 12  FLAG_MOBIL     10000 non-null  int64  \n",
      " 13  work_phone     10000 non-null  int64  \n",
      " 14  phone          10000 non-null  int64  \n",
      " 15  email          10000 non-null  int64  \n",
      " 16  occyp_type     6848 non-null   object \n",
      " 17  family_size    10000 non-null  float64\n",
      " 18  begin_month    10000 non-null  float64\n",
      "dtypes: float64(3), int64(8), object(8)\n",
      "memory usage: 1.4+ MB\n"
     ]
    }
   ],
   "source": [
    "test.info()"
   ]
  },
  {
   "cell_type": "code",
   "execution_count": 11,
   "metadata": {},
   "outputs": [
    {
     "data": {
      "text/plain": [
       "index            26457\n",
       "gender               2\n",
       "car                  2\n",
       "reality              2\n",
       "child_num            9\n",
       "income_total       249\n",
       "income_type          5\n",
       "edu_type             5\n",
       "family_type          5\n",
       "house_type           6\n",
       "DAYS_BIRTH        6621\n",
       "DAYS_EMPLOYED     3470\n",
       "FLAG_MOBIL           1\n",
       "work_phone           2\n",
       "phone                2\n",
       "email                2\n",
       "occyp_type          18\n",
       "family_size         10\n",
       "begin_month         61\n",
       "credit               3\n",
       "dtype: int64"
      ]
     },
     "execution_count": 11,
     "metadata": {},
     "output_type": "execute_result"
    }
   ],
   "source": [
    "train.nunique()"
   ]
  },
  {
   "cell_type": "code",
   "execution_count": 12,
   "metadata": {},
   "outputs": [
    {
     "data": {
      "text/plain": [
       "index            10000\n",
       "gender               2\n",
       "car                  2\n",
       "reality              2\n",
       "child_num            6\n",
       "income_total       208\n",
       "income_type          5\n",
       "edu_type             5\n",
       "family_type          5\n",
       "house_type           6\n",
       "DAYS_BIRTH        4675\n",
       "DAYS_EMPLOYED     2665\n",
       "FLAG_MOBIL           1\n",
       "work_phone           2\n",
       "phone                2\n",
       "email                2\n",
       "occyp_type          18\n",
       "family_size          7\n",
       "begin_month         61\n",
       "dtype: int64"
      ]
     },
     "execution_count": 12,
     "metadata": {},
     "output_type": "execute_result"
    }
   ],
   "source": [
    "test.nunique()"
   ]
  },
  {
   "cell_type": "markdown",
   "metadata": {},
   "source": [
    "# Duplicated dorp 1"
   ]
  },
  {
   "cell_type": "code",
   "execution_count": 13,
   "metadata": {},
   "outputs": [
    {
     "data": {
      "text/plain": [
       "((26457, 20), (10000, 19))"
      ]
     },
     "execution_count": 13,
     "metadata": {},
     "output_type": "execute_result"
    }
   ],
   "source": [
    "train.shape,test.shape"
   ]
  },
  {
   "cell_type": "code",
   "execution_count": 14,
   "metadata": {},
   "outputs": [
    {
     "name": "stdout",
     "output_type": "stream",
     "text": [
      "(0, 20) 신용등급만 다를 수 있는 shape\n",
      "(0, 20) 신용등급만 다를 수 있는 shape\n",
      "(0, 20) 신용 미흡한 중복값들 제거 된 후 shape\n",
      "(26457, 20) 원본데이터에서 중복되는 모든값 삭제한 shape\n",
      "---\n",
      "(26457, 20) 최종적으로 중복값들 중에 우수 고객들과 다시 합친 최종 shape\n"
     ]
    }
   ],
   "source": [
    "def duplicate(df):\n",
    "    condition1 = df.drop('credit', axis=1).duplicated(keep=False) # 신용등급 제외한 중복된 데이터 (더 많은 데이터 수 보유)\n",
    "    duplicated_idx1 = condition1[condition1].index # 신용 등급 제외한 중복 데이터 리스트(인덱스)\n",
    "    print(df.loc[duplicated_idx1].shape, '신용등급만 다를 수 있는 shape')\n",
    "    duplicated_df_idx = df.loc[duplicated_idx1].index # 신용정보 없는 중복 데이터들 > 신용정보 필요함 > 인덱스화해서 df에 대입하기\n",
    "    duplicated_df = df.loc[duplicated_df_idx].sort_values(by='credit') # 중복된 데이터들을 신용 0등급 > 1등급 > 2등급 순으로 배치 후 \n",
    "    # 신용등급만 다를 수 있는 중복 데이터 추출 완료\n",
    "    print(duplicated_df.shape, '신용등급만 다를 수 있는 shape') \n",
    "    duplicated_df.drop_duplicates(keep='first', inplace=True) # 중복된 데이터 삭제(0등급이 먼저 배치되어 있으므로 삭제되는건 0등급보다 뒤에 있는 값들임) \n",
    "    # 중복 데이터 중에 우수 등급의 고객들만 추출완료\n",
    "    print(duplicated_df.shape, '신용 미흡한 중복값들 제거 된 후 shape') # >>> 제거 될 건 다 제거되고 남은 값들임\n",
    "\n",
    "    df.drop(index=duplicated_idx1, inplace=True) # 기존 데이터에서의 (신용정보만 다른 값 포함한) 중복되는 모든 데이터 삭제\n",
    "    print(df.shape, '원본데이터에서 중복되는 모든값 삭제한 shape')\n",
    "    df = pd.concat([df, duplicated_df], axis=0, ignore_index=True) # 기존 데이터에 삭제된 우수 등급 고객들만 다시 추가\n",
    "    print('---')\n",
    "    print(df.shape, '최종적으로 중복값들 중에 우수 고객들과 다시 합친 최종 shape')\n",
    "    return df\n",
    "\n",
    "train = duplicate(train) \n",
    "#display(duplicated_train.head(3))"
   ]
  },
  {
   "cell_type": "code",
   "execution_count": 15,
   "metadata": {},
   "outputs": [],
   "source": [
    "#test.drop_duplicates(test.columns[1:],keep='first',inplace=True)\n",
    "\n",
    "train.reset_index(inplace=True,drop=True)\n",
    "# test.reset_index(inplace=True,drop=True)"
   ]
  },
  {
   "cell_type": "code",
   "execution_count": 16,
   "metadata": {},
   "outputs": [
    {
     "data": {
      "text/plain": [
       "((26457, 20), (10000, 19))"
      ]
     },
     "execution_count": 16,
     "metadata": {},
     "output_type": "execute_result"
    }
   ],
   "source": [
    "train.shape,test.shape"
   ]
  },
  {
   "cell_type": "code",
   "execution_count": 17,
   "metadata": {},
   "outputs": [
    {
     "data": {
      "text/html": [
       "<div>\n",
       "<style scoped>\n",
       "    .dataframe tbody tr th:only-of-type {\n",
       "        vertical-align: middle;\n",
       "    }\n",
       "\n",
       "    .dataframe tbody tr th {\n",
       "        vertical-align: top;\n",
       "    }\n",
       "\n",
       "    .dataframe thead th {\n",
       "        text-align: right;\n",
       "    }\n",
       "</style>\n",
       "<table border=\"1\" class=\"dataframe\">\n",
       "  <thead>\n",
       "    <tr style=\"text-align: right;\">\n",
       "      <th></th>\n",
       "      <th>index</th>\n",
       "      <th>gender</th>\n",
       "      <th>car</th>\n",
       "      <th>reality</th>\n",
       "      <th>child_num</th>\n",
       "      <th>income_total</th>\n",
       "      <th>income_type</th>\n",
       "      <th>edu_type</th>\n",
       "      <th>family_type</th>\n",
       "      <th>house_type</th>\n",
       "      <th>DAYS_BIRTH</th>\n",
       "      <th>DAYS_EMPLOYED</th>\n",
       "      <th>FLAG_MOBIL</th>\n",
       "      <th>work_phone</th>\n",
       "      <th>phone</th>\n",
       "      <th>email</th>\n",
       "      <th>occyp_type</th>\n",
       "      <th>family_size</th>\n",
       "      <th>begin_month</th>\n",
       "      <th>credit</th>\n",
       "    </tr>\n",
       "  </thead>\n",
       "  <tbody>\n",
       "    <tr>\n",
       "      <th>0</th>\n",
       "      <td>0</td>\n",
       "      <td>F</td>\n",
       "      <td>N</td>\n",
       "      <td>N</td>\n",
       "      <td>0</td>\n",
       "      <td>202500.0</td>\n",
       "      <td>Commercial associate</td>\n",
       "      <td>Higher education</td>\n",
       "      <td>Married</td>\n",
       "      <td>Municipal apartment</td>\n",
       "      <td>-13899</td>\n",
       "      <td>-4709</td>\n",
       "      <td>1</td>\n",
       "      <td>0</td>\n",
       "      <td>0</td>\n",
       "      <td>0</td>\n",
       "      <td>NaN</td>\n",
       "      <td>2.0</td>\n",
       "      <td>-6.0</td>\n",
       "      <td>1.0</td>\n",
       "    </tr>\n",
       "    <tr>\n",
       "      <th>1</th>\n",
       "      <td>1</td>\n",
       "      <td>F</td>\n",
       "      <td>N</td>\n",
       "      <td>Y</td>\n",
       "      <td>1</td>\n",
       "      <td>247500.0</td>\n",
       "      <td>Commercial associate</td>\n",
       "      <td>Secondary / secondary special</td>\n",
       "      <td>Civil marriage</td>\n",
       "      <td>House / apartment</td>\n",
       "      <td>-11380</td>\n",
       "      <td>-1540</td>\n",
       "      <td>1</td>\n",
       "      <td>0</td>\n",
       "      <td>0</td>\n",
       "      <td>1</td>\n",
       "      <td>Laborers</td>\n",
       "      <td>3.0</td>\n",
       "      <td>-5.0</td>\n",
       "      <td>1.0</td>\n",
       "    </tr>\n",
       "    <tr>\n",
       "      <th>2</th>\n",
       "      <td>2</td>\n",
       "      <td>M</td>\n",
       "      <td>Y</td>\n",
       "      <td>Y</td>\n",
       "      <td>0</td>\n",
       "      <td>450000.0</td>\n",
       "      <td>Working</td>\n",
       "      <td>Higher education</td>\n",
       "      <td>Married</td>\n",
       "      <td>House / apartment</td>\n",
       "      <td>-19087</td>\n",
       "      <td>-4434</td>\n",
       "      <td>1</td>\n",
       "      <td>0</td>\n",
       "      <td>1</td>\n",
       "      <td>0</td>\n",
       "      <td>Managers</td>\n",
       "      <td>2.0</td>\n",
       "      <td>-22.0</td>\n",
       "      <td>2.0</td>\n",
       "    </tr>\n",
       "    <tr>\n",
       "      <th>3</th>\n",
       "      <td>3</td>\n",
       "      <td>F</td>\n",
       "      <td>N</td>\n",
       "      <td>Y</td>\n",
       "      <td>0</td>\n",
       "      <td>202500.0</td>\n",
       "      <td>Commercial associate</td>\n",
       "      <td>Secondary / secondary special</td>\n",
       "      <td>Married</td>\n",
       "      <td>House / apartment</td>\n",
       "      <td>-15088</td>\n",
       "      <td>-2092</td>\n",
       "      <td>1</td>\n",
       "      <td>0</td>\n",
       "      <td>1</td>\n",
       "      <td>0</td>\n",
       "      <td>Sales staff</td>\n",
       "      <td>2.0</td>\n",
       "      <td>-37.0</td>\n",
       "      <td>0.0</td>\n",
       "    </tr>\n",
       "    <tr>\n",
       "      <th>4</th>\n",
       "      <td>4</td>\n",
       "      <td>F</td>\n",
       "      <td>Y</td>\n",
       "      <td>Y</td>\n",
       "      <td>0</td>\n",
       "      <td>157500.0</td>\n",
       "      <td>State servant</td>\n",
       "      <td>Higher education</td>\n",
       "      <td>Married</td>\n",
       "      <td>House / apartment</td>\n",
       "      <td>-15037</td>\n",
       "      <td>-2105</td>\n",
       "      <td>1</td>\n",
       "      <td>0</td>\n",
       "      <td>0</td>\n",
       "      <td>0</td>\n",
       "      <td>Managers</td>\n",
       "      <td>2.0</td>\n",
       "      <td>-26.0</td>\n",
       "      <td>2.0</td>\n",
       "    </tr>\n",
       "  </tbody>\n",
       "</table>\n",
       "</div>"
      ],
      "text/plain": [
       "   index gender car reality  child_num  income_total           income_type  \\\n",
       "0      0      F   N       N          0      202500.0  Commercial associate   \n",
       "1      1      F   N       Y          1      247500.0  Commercial associate   \n",
       "2      2      M   Y       Y          0      450000.0               Working   \n",
       "3      3      F   N       Y          0      202500.0  Commercial associate   \n",
       "4      4      F   Y       Y          0      157500.0         State servant   \n",
       "\n",
       "                        edu_type     family_type           house_type  \\\n",
       "0               Higher education         Married  Municipal apartment   \n",
       "1  Secondary / secondary special  Civil marriage    House / apartment   \n",
       "2               Higher education         Married    House / apartment   \n",
       "3  Secondary / secondary special         Married    House / apartment   \n",
       "4               Higher education         Married    House / apartment   \n",
       "\n",
       "   DAYS_BIRTH  DAYS_EMPLOYED  FLAG_MOBIL  work_phone  phone  email  \\\n",
       "0      -13899          -4709           1           0      0      0   \n",
       "1      -11380          -1540           1           0      0      1   \n",
       "2      -19087          -4434           1           0      1      0   \n",
       "3      -15088          -2092           1           0      1      0   \n",
       "4      -15037          -2105           1           0      0      0   \n",
       "\n",
       "    occyp_type  family_size  begin_month  credit  \n",
       "0          NaN          2.0         -6.0     1.0  \n",
       "1     Laborers          3.0         -5.0     1.0  \n",
       "2     Managers          2.0        -22.0     2.0  \n",
       "3  Sales staff          2.0        -37.0     0.0  \n",
       "4     Managers          2.0        -26.0     2.0  "
      ]
     },
     "execution_count": 17,
     "metadata": {},
     "output_type": "execute_result"
    }
   ],
   "source": [
    "train.head()"
   ]
  },
  {
   "cell_type": "code",
   "execution_count": 18,
   "metadata": {},
   "outputs": [
    {
     "data": {
      "text/html": [
       "<div>\n",
       "<style scoped>\n",
       "    .dataframe tbody tr th:only-of-type {\n",
       "        vertical-align: middle;\n",
       "    }\n",
       "\n",
       "    .dataframe tbody tr th {\n",
       "        vertical-align: top;\n",
       "    }\n",
       "\n",
       "    .dataframe thead th {\n",
       "        text-align: right;\n",
       "    }\n",
       "</style>\n",
       "<table border=\"1\" class=\"dataframe\">\n",
       "  <thead>\n",
       "    <tr style=\"text-align: right;\">\n",
       "      <th></th>\n",
       "      <th>index</th>\n",
       "      <th>gender</th>\n",
       "      <th>car</th>\n",
       "      <th>reality</th>\n",
       "      <th>child_num</th>\n",
       "      <th>income_total</th>\n",
       "      <th>income_type</th>\n",
       "      <th>edu_type</th>\n",
       "      <th>family_type</th>\n",
       "      <th>house_type</th>\n",
       "      <th>DAYS_BIRTH</th>\n",
       "      <th>DAYS_EMPLOYED</th>\n",
       "      <th>FLAG_MOBIL</th>\n",
       "      <th>work_phone</th>\n",
       "      <th>phone</th>\n",
       "      <th>email</th>\n",
       "      <th>occyp_type</th>\n",
       "      <th>family_size</th>\n",
       "      <th>begin_month</th>\n",
       "    </tr>\n",
       "  </thead>\n",
       "  <tbody>\n",
       "    <tr>\n",
       "      <th>0</th>\n",
       "      <td>26457</td>\n",
       "      <td>M</td>\n",
       "      <td>Y</td>\n",
       "      <td>N</td>\n",
       "      <td>0</td>\n",
       "      <td>112500.0</td>\n",
       "      <td>Pensioner</td>\n",
       "      <td>Secondary / secondary special</td>\n",
       "      <td>Civil marriage</td>\n",
       "      <td>House / apartment</td>\n",
       "      <td>-21990</td>\n",
       "      <td>365243</td>\n",
       "      <td>1</td>\n",
       "      <td>0</td>\n",
       "      <td>1</td>\n",
       "      <td>0</td>\n",
       "      <td>NaN</td>\n",
       "      <td>2.0</td>\n",
       "      <td>-60.0</td>\n",
       "    </tr>\n",
       "    <tr>\n",
       "      <th>1</th>\n",
       "      <td>26458</td>\n",
       "      <td>F</td>\n",
       "      <td>N</td>\n",
       "      <td>Y</td>\n",
       "      <td>0</td>\n",
       "      <td>135000.0</td>\n",
       "      <td>State servant</td>\n",
       "      <td>Higher education</td>\n",
       "      <td>Married</td>\n",
       "      <td>House / apartment</td>\n",
       "      <td>-18964</td>\n",
       "      <td>-8671</td>\n",
       "      <td>1</td>\n",
       "      <td>0</td>\n",
       "      <td>1</td>\n",
       "      <td>0</td>\n",
       "      <td>Core staff</td>\n",
       "      <td>2.0</td>\n",
       "      <td>-36.0</td>\n",
       "    </tr>\n",
       "    <tr>\n",
       "      <th>2</th>\n",
       "      <td>26459</td>\n",
       "      <td>F</td>\n",
       "      <td>N</td>\n",
       "      <td>Y</td>\n",
       "      <td>0</td>\n",
       "      <td>69372.0</td>\n",
       "      <td>Working</td>\n",
       "      <td>Secondary / secondary special</td>\n",
       "      <td>Married</td>\n",
       "      <td>House / apartment</td>\n",
       "      <td>-15887</td>\n",
       "      <td>-217</td>\n",
       "      <td>1</td>\n",
       "      <td>1</td>\n",
       "      <td>1</td>\n",
       "      <td>0</td>\n",
       "      <td>Laborers</td>\n",
       "      <td>2.0</td>\n",
       "      <td>-40.0</td>\n",
       "    </tr>\n",
       "    <tr>\n",
       "      <th>3</th>\n",
       "      <td>26460</td>\n",
       "      <td>M</td>\n",
       "      <td>Y</td>\n",
       "      <td>N</td>\n",
       "      <td>0</td>\n",
       "      <td>112500.0</td>\n",
       "      <td>Commercial associate</td>\n",
       "      <td>Secondary / secondary special</td>\n",
       "      <td>Married</td>\n",
       "      <td>House / apartment</td>\n",
       "      <td>-19270</td>\n",
       "      <td>-2531</td>\n",
       "      <td>1</td>\n",
       "      <td>1</td>\n",
       "      <td>0</td>\n",
       "      <td>0</td>\n",
       "      <td>Drivers</td>\n",
       "      <td>2.0</td>\n",
       "      <td>-41.0</td>\n",
       "    </tr>\n",
       "    <tr>\n",
       "      <th>4</th>\n",
       "      <td>26461</td>\n",
       "      <td>F</td>\n",
       "      <td>Y</td>\n",
       "      <td>Y</td>\n",
       "      <td>0</td>\n",
       "      <td>225000.0</td>\n",
       "      <td>State servant</td>\n",
       "      <td>Higher education</td>\n",
       "      <td>Married</td>\n",
       "      <td>House / apartment</td>\n",
       "      <td>-17822</td>\n",
       "      <td>-9385</td>\n",
       "      <td>1</td>\n",
       "      <td>1</td>\n",
       "      <td>0</td>\n",
       "      <td>0</td>\n",
       "      <td>Managers</td>\n",
       "      <td>2.0</td>\n",
       "      <td>-8.0</td>\n",
       "    </tr>\n",
       "  </tbody>\n",
       "</table>\n",
       "</div>"
      ],
      "text/plain": [
       "   index gender car reality  child_num  income_total           income_type  \\\n",
       "0  26457      M   Y       N          0      112500.0             Pensioner   \n",
       "1  26458      F   N       Y          0      135000.0         State servant   \n",
       "2  26459      F   N       Y          0       69372.0               Working   \n",
       "3  26460      M   Y       N          0      112500.0  Commercial associate   \n",
       "4  26461      F   Y       Y          0      225000.0         State servant   \n",
       "\n",
       "                        edu_type     family_type         house_type  \\\n",
       "0  Secondary / secondary special  Civil marriage  House / apartment   \n",
       "1               Higher education         Married  House / apartment   \n",
       "2  Secondary / secondary special         Married  House / apartment   \n",
       "3  Secondary / secondary special         Married  House / apartment   \n",
       "4               Higher education         Married  House / apartment   \n",
       "\n",
       "   DAYS_BIRTH  DAYS_EMPLOYED  FLAG_MOBIL  work_phone  phone  email  \\\n",
       "0      -21990         365243           1           0      1      0   \n",
       "1      -18964          -8671           1           0      1      0   \n",
       "2      -15887           -217           1           1      1      0   \n",
       "3      -19270          -2531           1           1      0      0   \n",
       "4      -17822          -9385           1           1      0      0   \n",
       "\n",
       "   occyp_type  family_size  begin_month  \n",
       "0         NaN          2.0        -60.0  \n",
       "1  Core staff          2.0        -36.0  \n",
       "2    Laborers          2.0        -40.0  \n",
       "3     Drivers          2.0        -41.0  \n",
       "4    Managers          2.0         -8.0  "
      ]
     },
     "execution_count": 18,
     "metadata": {},
     "output_type": "execute_result"
    }
   ],
   "source": [
    "test.head()"
   ]
  },
  {
   "cell_type": "markdown",
   "metadata": {},
   "source": [
    "# Fill NaN"
   ]
  },
  {
   "cell_type": "code",
   "execution_count": 19,
   "metadata": {},
   "outputs": [
    {
     "data": {
      "text/plain": [
       "index               0\n",
       "gender              0\n",
       "car                 0\n",
       "reality             0\n",
       "child_num           0\n",
       "income_total        0\n",
       "income_type         0\n",
       "edu_type            0\n",
       "family_type         0\n",
       "house_type          0\n",
       "DAYS_BIRTH          0\n",
       "DAYS_EMPLOYED       0\n",
       "FLAG_MOBIL          0\n",
       "work_phone          0\n",
       "phone               0\n",
       "email               0\n",
       "occyp_type       8171\n",
       "family_size         0\n",
       "begin_month         0\n",
       "credit              0\n",
       "dtype: int64"
      ]
     },
     "execution_count": 19,
     "metadata": {},
     "output_type": "execute_result"
    }
   ],
   "source": [
    "train.isna().sum()"
   ]
  },
  {
   "cell_type": "code",
   "execution_count": 20,
   "metadata": {},
   "outputs": [
    {
     "data": {
      "text/plain": [
       "index               0\n",
       "gender              0\n",
       "car                 0\n",
       "reality             0\n",
       "child_num           0\n",
       "income_total        0\n",
       "income_type         0\n",
       "edu_type            0\n",
       "family_type         0\n",
       "house_type          0\n",
       "DAYS_BIRTH          0\n",
       "DAYS_EMPLOYED       0\n",
       "FLAG_MOBIL          0\n",
       "work_phone          0\n",
       "phone               0\n",
       "email               0\n",
       "occyp_type       3152\n",
       "family_size         0\n",
       "begin_month         0\n",
       "dtype: int64"
      ]
     },
     "execution_count": 20,
     "metadata": {},
     "output_type": "execute_result"
    }
   ],
   "source": [
    "test.isna().sum()"
   ]
  },
  {
   "cell_type": "code",
   "execution_count": 21,
   "metadata": {},
   "outputs": [
    {
     "data": {
      "text/plain": [
       "4438"
      ]
     },
     "execution_count": 21,
     "metadata": {},
     "output_type": "execute_result"
    }
   ],
   "source": [
    "sum(train['DAYS_EMPLOYED']>=0)"
   ]
  },
  {
   "cell_type": "code",
   "execution_count": 22,
   "metadata": {},
   "outputs": [
    {
     "data": {
      "text/plain": [
       " 365243    4438\n",
       "-401         57\n",
       "-1539        47\n",
       "-200         45\n",
       "-2087        44\n",
       "           ... \n",
       "-10475        1\n",
       "-2202         1\n",
       "-2552         1\n",
       "-680          1\n",
       "-4973         1\n",
       "Name: DAYS_EMPLOYED, Length: 3470, dtype: int64"
      ]
     },
     "execution_count": 22,
     "metadata": {},
     "output_type": "execute_result"
    }
   ],
   "source": [
    "train['DAYS_EMPLOYED'].value_counts()"
   ]
  },
  {
   "cell_type": "code",
   "execution_count": 23,
   "metadata": {},
   "outputs": [
    {
     "data": {
      "text/plain": [
       "1697"
      ]
     },
     "execution_count": 23,
     "metadata": {},
     "output_type": "execute_result"
    }
   ],
   "source": [
    "sum(test['DAYS_EMPLOYED']>=0)"
   ]
  },
  {
   "cell_type": "code",
   "execution_count": 24,
   "metadata": {},
   "outputs": [
    {
     "data": {
      "text/plain": [
       " 365243    1697\n",
       "-1678        22\n",
       "-1661        21\n",
       "-401         21\n",
       "-2057        20\n",
       "           ... \n",
       "-6359         1\n",
       "-3116         1\n",
       "-1623         1\n",
       "-1505         1\n",
       "-770          1\n",
       "Name: DAYS_EMPLOYED, Length: 2665, dtype: int64"
      ]
     },
     "execution_count": 24,
     "metadata": {},
     "output_type": "execute_result"
    }
   ],
   "source": [
    "test['DAYS_EMPLOYED'].value_counts()"
   ]
  },
  {
   "cell_type": "code",
   "execution_count": 25,
   "metadata": {},
   "outputs": [
    {
     "name": "stdout",
     "output_type": "stream",
     "text": [
      "Laborers                 4512\n",
      "No work experience       4438\n",
      "NAN                      3733\n",
      "Core staff               2646\n",
      "Sales staff              2539\n",
      "Managers                 2167\n",
      "Drivers                  1575\n",
      "High skill tech staff    1040\n",
      "Accountants               902\n",
      "Medicine staff            864\n",
      "Cooking staff             457\n",
      "Security staff            424\n",
      "Cleaning staff            403\n",
      "Private service staff     243\n",
      "Low-skill Laborers        127\n",
      "Waiters/barmen staff      124\n",
      "Secretaries                97\n",
      "Realty agents              63\n",
      "HR staff                   62\n",
      "IT staff                   41\n",
      "Name: occyp_type, dtype: int64 \n",
      "\n",
      "Laborers                 1699\n",
      "No work experience       1697\n",
      "NAN                      1455\n",
      "Sales staff               946\n",
      "Core staff                945\n",
      "Managers                  845\n",
      "Drivers                   563\n",
      "High skill tech staff     343\n",
      "Medicine staff            343\n",
      "Accountants               339\n",
      "Cooking staff             198\n",
      "Security staff            168\n",
      "Cleaning staff            148\n",
      "Private service staff     101\n",
      "Secretaries                54\n",
      "Waiters/barmen staff       50\n",
      "Low-skill Laborers         48\n",
      "HR staff                   23\n",
      "IT staff                   19\n",
      "Realty agents              16\n",
      "Name: occyp_type, dtype: int64 \n",
      "\n"
     ]
    }
   ],
   "source": [
    "def occyp_type(x):\n",
    "    x['occyp_type']=x['occyp_type'].fillna('NAN')\n",
    "    x.loc[x['DAYS_EMPLOYED'] >= 0, 'DAYS_EMPLOYED']=0\n",
    "    x.loc[(x['DAYS_EMPLOYED']==0)&(x['occyp_type']=='NAN'),'occyp_type']='No work experience'\n",
    "    print(x['occyp_type'].value_counts(),'\\n')\n",
    "\n",
    "occyp_type(train)\n",
    "occyp_type(test)\n"
   ]
  },
  {
   "cell_type": "markdown",
   "metadata": {},
   "source": [
    "# Drop columns 1"
   ]
  },
  {
   "cell_type": "code",
   "execution_count": 26,
   "metadata": {},
   "outputs": [],
   "source": [
    "# 의미없는 열 삭제 / index = index / FLAG_MOBIL = 전부 1\n",
    "\n",
    "train.drop(['index', 'FLAG_MOBIL'], axis=1, inplace=True)\n",
    "test.drop(['index', 'FLAG_MOBIL'], axis=1, inplace=True)"
   ]
  },
  {
   "cell_type": "code",
   "execution_count": 27,
   "metadata": {},
   "outputs": [
    {
     "data": {
      "text/html": [
       "<div>\n",
       "<style scoped>\n",
       "    .dataframe tbody tr th:only-of-type {\n",
       "        vertical-align: middle;\n",
       "    }\n",
       "\n",
       "    .dataframe tbody tr th {\n",
       "        vertical-align: top;\n",
       "    }\n",
       "\n",
       "    .dataframe thead th {\n",
       "        text-align: right;\n",
       "    }\n",
       "</style>\n",
       "<table border=\"1\" class=\"dataframe\">\n",
       "  <thead>\n",
       "    <tr style=\"text-align: right;\">\n",
       "      <th></th>\n",
       "      <th>gender</th>\n",
       "      <th>car</th>\n",
       "      <th>reality</th>\n",
       "      <th>child_num</th>\n",
       "      <th>income_total</th>\n",
       "      <th>income_type</th>\n",
       "      <th>edu_type</th>\n",
       "      <th>family_type</th>\n",
       "      <th>house_type</th>\n",
       "      <th>DAYS_BIRTH</th>\n",
       "      <th>DAYS_EMPLOYED</th>\n",
       "      <th>work_phone</th>\n",
       "      <th>phone</th>\n",
       "      <th>email</th>\n",
       "      <th>occyp_type</th>\n",
       "      <th>family_size</th>\n",
       "      <th>begin_month</th>\n",
       "      <th>credit</th>\n",
       "    </tr>\n",
       "  </thead>\n",
       "  <tbody>\n",
       "    <tr>\n",
       "      <th>0</th>\n",
       "      <td>F</td>\n",
       "      <td>N</td>\n",
       "      <td>N</td>\n",
       "      <td>0</td>\n",
       "      <td>202500.0</td>\n",
       "      <td>Commercial associate</td>\n",
       "      <td>Higher education</td>\n",
       "      <td>Married</td>\n",
       "      <td>Municipal apartment</td>\n",
       "      <td>-13899</td>\n",
       "      <td>-4709</td>\n",
       "      <td>0</td>\n",
       "      <td>0</td>\n",
       "      <td>0</td>\n",
       "      <td>NAN</td>\n",
       "      <td>2.0</td>\n",
       "      <td>-6.0</td>\n",
       "      <td>1.0</td>\n",
       "    </tr>\n",
       "    <tr>\n",
       "      <th>1</th>\n",
       "      <td>F</td>\n",
       "      <td>N</td>\n",
       "      <td>Y</td>\n",
       "      <td>1</td>\n",
       "      <td>247500.0</td>\n",
       "      <td>Commercial associate</td>\n",
       "      <td>Secondary / secondary special</td>\n",
       "      <td>Civil marriage</td>\n",
       "      <td>House / apartment</td>\n",
       "      <td>-11380</td>\n",
       "      <td>-1540</td>\n",
       "      <td>0</td>\n",
       "      <td>0</td>\n",
       "      <td>1</td>\n",
       "      <td>Laborers</td>\n",
       "      <td>3.0</td>\n",
       "      <td>-5.0</td>\n",
       "      <td>1.0</td>\n",
       "    </tr>\n",
       "    <tr>\n",
       "      <th>2</th>\n",
       "      <td>M</td>\n",
       "      <td>Y</td>\n",
       "      <td>Y</td>\n",
       "      <td>0</td>\n",
       "      <td>450000.0</td>\n",
       "      <td>Working</td>\n",
       "      <td>Higher education</td>\n",
       "      <td>Married</td>\n",
       "      <td>House / apartment</td>\n",
       "      <td>-19087</td>\n",
       "      <td>-4434</td>\n",
       "      <td>0</td>\n",
       "      <td>1</td>\n",
       "      <td>0</td>\n",
       "      <td>Managers</td>\n",
       "      <td>2.0</td>\n",
       "      <td>-22.0</td>\n",
       "      <td>2.0</td>\n",
       "    </tr>\n",
       "    <tr>\n",
       "      <th>3</th>\n",
       "      <td>F</td>\n",
       "      <td>N</td>\n",
       "      <td>Y</td>\n",
       "      <td>0</td>\n",
       "      <td>202500.0</td>\n",
       "      <td>Commercial associate</td>\n",
       "      <td>Secondary / secondary special</td>\n",
       "      <td>Married</td>\n",
       "      <td>House / apartment</td>\n",
       "      <td>-15088</td>\n",
       "      <td>-2092</td>\n",
       "      <td>0</td>\n",
       "      <td>1</td>\n",
       "      <td>0</td>\n",
       "      <td>Sales staff</td>\n",
       "      <td>2.0</td>\n",
       "      <td>-37.0</td>\n",
       "      <td>0.0</td>\n",
       "    </tr>\n",
       "    <tr>\n",
       "      <th>4</th>\n",
       "      <td>F</td>\n",
       "      <td>Y</td>\n",
       "      <td>Y</td>\n",
       "      <td>0</td>\n",
       "      <td>157500.0</td>\n",
       "      <td>State servant</td>\n",
       "      <td>Higher education</td>\n",
       "      <td>Married</td>\n",
       "      <td>House / apartment</td>\n",
       "      <td>-15037</td>\n",
       "      <td>-2105</td>\n",
       "      <td>0</td>\n",
       "      <td>0</td>\n",
       "      <td>0</td>\n",
       "      <td>Managers</td>\n",
       "      <td>2.0</td>\n",
       "      <td>-26.0</td>\n",
       "      <td>2.0</td>\n",
       "    </tr>\n",
       "  </tbody>\n",
       "</table>\n",
       "</div>"
      ],
      "text/plain": [
       "  gender car reality  child_num  income_total           income_type  \\\n",
       "0      F   N       N          0      202500.0  Commercial associate   \n",
       "1      F   N       Y          1      247500.0  Commercial associate   \n",
       "2      M   Y       Y          0      450000.0               Working   \n",
       "3      F   N       Y          0      202500.0  Commercial associate   \n",
       "4      F   Y       Y          0      157500.0         State servant   \n",
       "\n",
       "                        edu_type     family_type           house_type  \\\n",
       "0               Higher education         Married  Municipal apartment   \n",
       "1  Secondary / secondary special  Civil marriage    House / apartment   \n",
       "2               Higher education         Married    House / apartment   \n",
       "3  Secondary / secondary special         Married    House / apartment   \n",
       "4               Higher education         Married    House / apartment   \n",
       "\n",
       "   DAYS_BIRTH  DAYS_EMPLOYED  work_phone  phone  email   occyp_type  \\\n",
       "0      -13899          -4709           0      0      0          NAN   \n",
       "1      -11380          -1540           0      0      1     Laborers   \n",
       "2      -19087          -4434           0      1      0     Managers   \n",
       "3      -15088          -2092           0      1      0  Sales staff   \n",
       "4      -15037          -2105           0      0      0     Managers   \n",
       "\n",
       "   family_size  begin_month  credit  \n",
       "0          2.0         -6.0     1.0  \n",
       "1          3.0         -5.0     1.0  \n",
       "2          2.0        -22.0     2.0  \n",
       "3          2.0        -37.0     0.0  \n",
       "4          2.0        -26.0     2.0  "
      ]
     },
     "execution_count": 27,
     "metadata": {},
     "output_type": "execute_result"
    }
   ],
   "source": [
    "train.head(5)"
   ]
  },
  {
   "cell_type": "code",
   "execution_count": 28,
   "metadata": {},
   "outputs": [
    {
     "data": {
      "text/html": [
       "<div>\n",
       "<style scoped>\n",
       "    .dataframe tbody tr th:only-of-type {\n",
       "        vertical-align: middle;\n",
       "    }\n",
       "\n",
       "    .dataframe tbody tr th {\n",
       "        vertical-align: top;\n",
       "    }\n",
       "\n",
       "    .dataframe thead th {\n",
       "        text-align: right;\n",
       "    }\n",
       "</style>\n",
       "<table border=\"1\" class=\"dataframe\">\n",
       "  <thead>\n",
       "    <tr style=\"text-align: right;\">\n",
       "      <th></th>\n",
       "      <th>gender</th>\n",
       "      <th>car</th>\n",
       "      <th>reality</th>\n",
       "      <th>child_num</th>\n",
       "      <th>income_total</th>\n",
       "      <th>income_type</th>\n",
       "      <th>edu_type</th>\n",
       "      <th>family_type</th>\n",
       "      <th>house_type</th>\n",
       "      <th>DAYS_BIRTH</th>\n",
       "      <th>DAYS_EMPLOYED</th>\n",
       "      <th>work_phone</th>\n",
       "      <th>phone</th>\n",
       "      <th>email</th>\n",
       "      <th>occyp_type</th>\n",
       "      <th>family_size</th>\n",
       "      <th>begin_month</th>\n",
       "    </tr>\n",
       "  </thead>\n",
       "  <tbody>\n",
       "    <tr>\n",
       "      <th>0</th>\n",
       "      <td>M</td>\n",
       "      <td>Y</td>\n",
       "      <td>N</td>\n",
       "      <td>0</td>\n",
       "      <td>112500.0</td>\n",
       "      <td>Pensioner</td>\n",
       "      <td>Secondary / secondary special</td>\n",
       "      <td>Civil marriage</td>\n",
       "      <td>House / apartment</td>\n",
       "      <td>-21990</td>\n",
       "      <td>0</td>\n",
       "      <td>0</td>\n",
       "      <td>1</td>\n",
       "      <td>0</td>\n",
       "      <td>No work experience</td>\n",
       "      <td>2.0</td>\n",
       "      <td>-60.0</td>\n",
       "    </tr>\n",
       "    <tr>\n",
       "      <th>1</th>\n",
       "      <td>F</td>\n",
       "      <td>N</td>\n",
       "      <td>Y</td>\n",
       "      <td>0</td>\n",
       "      <td>135000.0</td>\n",
       "      <td>State servant</td>\n",
       "      <td>Higher education</td>\n",
       "      <td>Married</td>\n",
       "      <td>House / apartment</td>\n",
       "      <td>-18964</td>\n",
       "      <td>-8671</td>\n",
       "      <td>0</td>\n",
       "      <td>1</td>\n",
       "      <td>0</td>\n",
       "      <td>Core staff</td>\n",
       "      <td>2.0</td>\n",
       "      <td>-36.0</td>\n",
       "    </tr>\n",
       "    <tr>\n",
       "      <th>2</th>\n",
       "      <td>F</td>\n",
       "      <td>N</td>\n",
       "      <td>Y</td>\n",
       "      <td>0</td>\n",
       "      <td>69372.0</td>\n",
       "      <td>Working</td>\n",
       "      <td>Secondary / secondary special</td>\n",
       "      <td>Married</td>\n",
       "      <td>House / apartment</td>\n",
       "      <td>-15887</td>\n",
       "      <td>-217</td>\n",
       "      <td>1</td>\n",
       "      <td>1</td>\n",
       "      <td>0</td>\n",
       "      <td>Laborers</td>\n",
       "      <td>2.0</td>\n",
       "      <td>-40.0</td>\n",
       "    </tr>\n",
       "    <tr>\n",
       "      <th>3</th>\n",
       "      <td>M</td>\n",
       "      <td>Y</td>\n",
       "      <td>N</td>\n",
       "      <td>0</td>\n",
       "      <td>112500.0</td>\n",
       "      <td>Commercial associate</td>\n",
       "      <td>Secondary / secondary special</td>\n",
       "      <td>Married</td>\n",
       "      <td>House / apartment</td>\n",
       "      <td>-19270</td>\n",
       "      <td>-2531</td>\n",
       "      <td>1</td>\n",
       "      <td>0</td>\n",
       "      <td>0</td>\n",
       "      <td>Drivers</td>\n",
       "      <td>2.0</td>\n",
       "      <td>-41.0</td>\n",
       "    </tr>\n",
       "    <tr>\n",
       "      <th>4</th>\n",
       "      <td>F</td>\n",
       "      <td>Y</td>\n",
       "      <td>Y</td>\n",
       "      <td>0</td>\n",
       "      <td>225000.0</td>\n",
       "      <td>State servant</td>\n",
       "      <td>Higher education</td>\n",
       "      <td>Married</td>\n",
       "      <td>House / apartment</td>\n",
       "      <td>-17822</td>\n",
       "      <td>-9385</td>\n",
       "      <td>1</td>\n",
       "      <td>0</td>\n",
       "      <td>0</td>\n",
       "      <td>Managers</td>\n",
       "      <td>2.0</td>\n",
       "      <td>-8.0</td>\n",
       "    </tr>\n",
       "  </tbody>\n",
       "</table>\n",
       "</div>"
      ],
      "text/plain": [
       "  gender car reality  child_num  income_total           income_type  \\\n",
       "0      M   Y       N          0      112500.0             Pensioner   \n",
       "1      F   N       Y          0      135000.0         State servant   \n",
       "2      F   N       Y          0       69372.0               Working   \n",
       "3      M   Y       N          0      112500.0  Commercial associate   \n",
       "4      F   Y       Y          0      225000.0         State servant   \n",
       "\n",
       "                        edu_type     family_type         house_type  \\\n",
       "0  Secondary / secondary special  Civil marriage  House / apartment   \n",
       "1               Higher education         Married  House / apartment   \n",
       "2  Secondary / secondary special         Married  House / apartment   \n",
       "3  Secondary / secondary special         Married  House / apartment   \n",
       "4               Higher education         Married  House / apartment   \n",
       "\n",
       "   DAYS_BIRTH  DAYS_EMPLOYED  work_phone  phone  email          occyp_type  \\\n",
       "0      -21990              0           0      1      0  No work experience   \n",
       "1      -18964          -8671           0      1      0          Core staff   \n",
       "2      -15887           -217           1      1      0            Laborers   \n",
       "3      -19270          -2531           1      0      0             Drivers   \n",
       "4      -17822          -9385           1      0      0            Managers   \n",
       "\n",
       "   family_size  begin_month  \n",
       "0          2.0        -60.0  \n",
       "1          2.0        -36.0  \n",
       "2          2.0        -40.0  \n",
       "3          2.0        -41.0  \n",
       "4          2.0         -8.0  "
      ]
     },
     "execution_count": 28,
     "metadata": {},
     "output_type": "execute_result"
    }
   ],
   "source": [
    "test.head(5)"
   ]
  },
  {
   "cell_type": "markdown",
   "metadata": {},
   "source": [
    "# Check Outlier"
   ]
  },
  {
   "cell_type": "code",
   "execution_count": 29,
   "metadata": {},
   "outputs": [],
   "source": [
    "train_col=train.columns"
   ]
  },
  {
   "cell_type": "code",
   "execution_count": 30,
   "metadata": {},
   "outputs": [
    {
     "name": "stdout",
     "output_type": "stream",
     "text": [
      "gender\n",
      "F    17697\n",
      "M     8760\n",
      "Name: gender, dtype: int64\n",
      "\n",
      "\n",
      "car\n",
      "N    16410\n",
      "Y    10047\n",
      "Name: car, dtype: int64\n",
      "\n",
      "\n",
      "reality\n",
      "Y    17830\n",
      "N     8627\n",
      "Name: reality, dtype: int64\n",
      "\n",
      "\n",
      "child_num\n",
      "0     18340\n",
      "1      5386\n",
      "2      2362\n",
      "3       306\n",
      "4        47\n",
      "5        10\n",
      "14        3\n",
      "7         2\n",
      "19        1\n",
      "Name: child_num, dtype: int64\n",
      "\n",
      "\n",
      "income_total\n",
      "135000.0    3164\n",
      "157500.0    2233\n",
      "180000.0    2225\n",
      "112500.0    2178\n",
      "225000.0    2170\n",
      "            ... \n",
      "57150.0        1\n",
      "51750.0        1\n",
      "87448.5        1\n",
      "227250.0       1\n",
      "191700.0       1\n",
      "Name: income_total, Length: 249, dtype: int64\n",
      "\n",
      "\n",
      "income_type\n",
      "Working                 13645\n",
      "Commercial associate     6202\n",
      "Pensioner                4449\n",
      "State servant            2154\n",
      "Student                     7\n",
      "Name: income_type, dtype: int64\n",
      "\n",
      "\n",
      "edu_type\n",
      "Secondary / secondary special    17995\n",
      "Higher education                  7162\n",
      "Incomplete higher                 1020\n",
      "Lower secondary                    257\n",
      "Academic degree                     23\n",
      "Name: edu_type, dtype: int64\n",
      "\n",
      "\n",
      "family_type\n",
      "Married                 18196\n",
      "Single / not married     3496\n",
      "Civil marriage           2123\n",
      "Separated                1539\n",
      "Widow                    1103\n",
      "Name: family_type, dtype: int64\n",
      "\n",
      "\n",
      "house_type\n",
      "House / apartment      23653\n",
      "With parents            1257\n",
      "Municipal apartment      818\n",
      "Rented apartment         429\n",
      "Office apartment         190\n",
      "Co-op apartment          110\n",
      "Name: house_type, dtype: int64\n",
      "\n",
      "\n",
      "DAYS_BIRTH\n",
      "-12676    40\n",
      "-15519    38\n",
      "-14667    32\n",
      "-15140    26\n",
      "-16768    24\n",
      "          ..\n",
      "-18629     1\n",
      "-12786     1\n",
      "-13688     1\n",
      "-14543     1\n",
      "-19912     1\n",
      "Name: DAYS_BIRTH, Length: 6621, dtype: int64\n",
      "\n",
      "\n",
      "DAYS_EMPLOYED\n",
      " 0        4438\n",
      "-401        57\n",
      "-1539       47\n",
      "-200        45\n",
      "-2087       44\n",
      "          ... \n",
      "-10475       1\n",
      "-2202        1\n",
      "-2552        1\n",
      "-680         1\n",
      "-4973        1\n",
      "Name: DAYS_EMPLOYED, Length: 3470, dtype: int64\n",
      "\n",
      "\n",
      "work_phone\n",
      "0    20511\n",
      "1     5946\n",
      "Name: work_phone, dtype: int64\n",
      "\n",
      "\n",
      "phone\n",
      "0    18672\n",
      "1     7785\n",
      "Name: phone, dtype: int64\n",
      "\n",
      "\n",
      "email\n",
      "0    24042\n",
      "1     2415\n",
      "Name: email, dtype: int64\n",
      "\n",
      "\n",
      "occyp_type\n",
      "Laborers                 4512\n",
      "No work experience       4438\n",
      "NAN                      3733\n",
      "Core staff               2646\n",
      "Sales staff              2539\n",
      "Managers                 2167\n",
      "Drivers                  1575\n",
      "High skill tech staff    1040\n",
      "Accountants               902\n",
      "Medicine staff            864\n",
      "Cooking staff             457\n",
      "Security staff            424\n",
      "Cleaning staff            403\n",
      "Private service staff     243\n",
      "Low-skill Laborers        127\n",
      "Waiters/barmen staff      124\n",
      "Secretaries                97\n",
      "Realty agents              63\n",
      "HR staff                   62\n",
      "IT staff                   41\n",
      "Name: occyp_type, dtype: int64\n",
      "\n",
      "\n",
      "family_size\n",
      "2.0     14106\n",
      "1.0      5109\n",
      "3.0      4632\n",
      "4.0      2260\n",
      "5.0       291\n",
      "6.0        44\n",
      "7.0         9\n",
      "15.0        3\n",
      "9.0         2\n",
      "20.0        1\n",
      "Name: family_size, dtype: int64\n",
      "\n",
      "\n",
      "begin_month\n",
      "-7.0     662\n",
      "-11.0    617\n",
      "-8.0     612\n",
      "-3.0     593\n",
      "-6.0     591\n",
      "        ... \n",
      "-58.0    244\n",
      "-59.0    242\n",
      "-60.0    235\n",
      " 0.0     231\n",
      "-57.0    228\n",
      "Name: begin_month, Length: 61, dtype: int64\n",
      "\n",
      "\n"
     ]
    }
   ],
   "source": [
    "for i in train_col[:-1]:\n",
    "    print(i)\n",
    "    print(train[i].value_counts())\n",
    "    print('\\n')"
   ]
  },
  {
   "cell_type": "code",
   "execution_count": 31,
   "metadata": {},
   "outputs": [
    {
     "name": "stdout",
     "output_type": "stream",
     "text": [
      "child_num\n",
      "0     18340\n",
      "1      5386\n",
      "2      2362\n",
      "3       306\n",
      "4        47\n",
      "5        10\n",
      "14        3\n",
      "7         2\n",
      "19        1\n",
      "Name: child_num, dtype: int64\n",
      "\n",
      "\n",
      "income_type\n",
      "Working                 13645\n",
      "Commercial associate     6202\n",
      "Pensioner                4449\n",
      "State servant            2154\n",
      "Student                     7\n",
      "Name: income_type, dtype: int64\n",
      "\n",
      "\n",
      "family_size\n",
      "2.0     14106\n",
      "1.0      5109\n",
      "3.0      4632\n",
      "4.0      2260\n",
      "5.0       291\n",
      "6.0        44\n",
      "7.0         9\n",
      "15.0        3\n",
      "9.0         2\n",
      "20.0        1\n",
      "Name: family_size, dtype: int64\n",
      "\n",
      "\n"
     ]
    }
   ],
   "source": [
    "out_col=['child_num','income_type','family_size']\n",
    "\n",
    "for i in out_col:\n",
    "    print(i)\n",
    "    print(train[i].value_counts())\n",
    "    print('\\n')"
   ]
  },
  {
   "cell_type": "code",
   "execution_count": 32,
   "metadata": {},
   "outputs": [
    {
     "name": "stdout",
     "output_type": "stream",
     "text": [
      "child_num\n",
      "0    6861\n",
      "1    2106\n",
      "2     894\n",
      "3     113\n",
      "4      16\n",
      "5      10\n",
      "Name: child_num, dtype: int64\n",
      "\n",
      "\n",
      "income_type\n",
      "Working                 5174\n",
      "Commercial associate    2288\n",
      "Pensioner               1703\n",
      "State servant            831\n",
      "Student                    4\n",
      "Name: income_type, dtype: int64\n",
      "\n",
      "\n",
      "family_size\n",
      "2.0    5357\n",
      "1.0    1878\n",
      "3.0    1789\n",
      "4.0     846\n",
      "5.0     106\n",
      "6.0      14\n",
      "7.0      10\n",
      "Name: family_size, dtype: int64\n",
      "\n",
      "\n"
     ]
    }
   ],
   "source": [
    "for i in out_col:\n",
    "    print(i)\n",
    "    print(test[i].value_counts())\n",
    "    print('\\n')"
   ]
  },
  {
   "cell_type": "code",
   "execution_count": 33,
   "metadata": {},
   "outputs": [
    {
     "data": {
      "text/plain": [
       "Int64Index([8462, 9021, 10731, 25313, 25390, 25638], dtype='int64')"
      ]
     },
     "execution_count": 33,
     "metadata": {},
     "output_type": "execute_result"
    }
   ],
   "source": [
    "train[train['child_num']>5].index"
   ]
  },
  {
   "cell_type": "code",
   "execution_count": 34,
   "metadata": {},
   "outputs": [],
   "source": [
    "def drop_child(data,num):\n",
    "    row=data[data['child_num'] > num].index\n",
    "    data.drop(row,inplace=True)\n",
    "    data.reset_index(drop=True,inplace=True)\n",
    "drop_child(train,5)"
   ]
  },
  {
   "cell_type": "code",
   "execution_count": 35,
   "metadata": {},
   "outputs": [],
   "source": [
    "def drop_family(data,num):\n",
    "    row=data[data['family_size'] > num].index\n",
    "    data.drop(row,inplace=True)\n",
    "    data.reset_index(drop=True,inplace=True)\n",
    "\n",
    "drop_family(train,7)\n",
    "    "
   ]
  },
  {
   "cell_type": "markdown",
   "metadata": {},
   "source": [
    "# Change negative num to positive num"
   ]
  },
  {
   "cell_type": "code",
   "execution_count": 36,
   "metadata": {},
   "outputs": [
    {
     "data": {
      "text/html": [
       "<div>\n",
       "<style scoped>\n",
       "    .dataframe tbody tr th:only-of-type {\n",
       "        vertical-align: middle;\n",
       "    }\n",
       "\n",
       "    .dataframe tbody tr th {\n",
       "        vertical-align: top;\n",
       "    }\n",
       "\n",
       "    .dataframe thead th {\n",
       "        text-align: right;\n",
       "    }\n",
       "</style>\n",
       "<table border=\"1\" class=\"dataframe\">\n",
       "  <thead>\n",
       "    <tr style=\"text-align: right;\">\n",
       "      <th></th>\n",
       "      <th>gender</th>\n",
       "      <th>car</th>\n",
       "      <th>reality</th>\n",
       "      <th>child_num</th>\n",
       "      <th>income_total</th>\n",
       "      <th>income_type</th>\n",
       "      <th>edu_type</th>\n",
       "      <th>family_type</th>\n",
       "      <th>house_type</th>\n",
       "      <th>DAYS_BIRTH</th>\n",
       "      <th>DAYS_EMPLOYED</th>\n",
       "      <th>work_phone</th>\n",
       "      <th>phone</th>\n",
       "      <th>email</th>\n",
       "      <th>occyp_type</th>\n",
       "      <th>family_size</th>\n",
       "      <th>begin_month</th>\n",
       "      <th>credit</th>\n",
       "    </tr>\n",
       "  </thead>\n",
       "  <tbody>\n",
       "    <tr>\n",
       "      <th>0</th>\n",
       "      <td>F</td>\n",
       "      <td>N</td>\n",
       "      <td>N</td>\n",
       "      <td>0</td>\n",
       "      <td>202500.0</td>\n",
       "      <td>Commercial associate</td>\n",
       "      <td>Higher education</td>\n",
       "      <td>Married</td>\n",
       "      <td>Municipal apartment</td>\n",
       "      <td>-13899</td>\n",
       "      <td>-4709</td>\n",
       "      <td>0</td>\n",
       "      <td>0</td>\n",
       "      <td>0</td>\n",
       "      <td>NAN</td>\n",
       "      <td>2.0</td>\n",
       "      <td>-6.0</td>\n",
       "      <td>1.0</td>\n",
       "    </tr>\n",
       "    <tr>\n",
       "      <th>1</th>\n",
       "      <td>F</td>\n",
       "      <td>N</td>\n",
       "      <td>Y</td>\n",
       "      <td>1</td>\n",
       "      <td>247500.0</td>\n",
       "      <td>Commercial associate</td>\n",
       "      <td>Secondary / secondary special</td>\n",
       "      <td>Civil marriage</td>\n",
       "      <td>House / apartment</td>\n",
       "      <td>-11380</td>\n",
       "      <td>-1540</td>\n",
       "      <td>0</td>\n",
       "      <td>0</td>\n",
       "      <td>1</td>\n",
       "      <td>Laborers</td>\n",
       "      <td>3.0</td>\n",
       "      <td>-5.0</td>\n",
       "      <td>1.0</td>\n",
       "    </tr>\n",
       "    <tr>\n",
       "      <th>2</th>\n",
       "      <td>M</td>\n",
       "      <td>Y</td>\n",
       "      <td>Y</td>\n",
       "      <td>0</td>\n",
       "      <td>450000.0</td>\n",
       "      <td>Working</td>\n",
       "      <td>Higher education</td>\n",
       "      <td>Married</td>\n",
       "      <td>House / apartment</td>\n",
       "      <td>-19087</td>\n",
       "      <td>-4434</td>\n",
       "      <td>0</td>\n",
       "      <td>1</td>\n",
       "      <td>0</td>\n",
       "      <td>Managers</td>\n",
       "      <td>2.0</td>\n",
       "      <td>-22.0</td>\n",
       "      <td>2.0</td>\n",
       "    </tr>\n",
       "    <tr>\n",
       "      <th>3</th>\n",
       "      <td>F</td>\n",
       "      <td>N</td>\n",
       "      <td>Y</td>\n",
       "      <td>0</td>\n",
       "      <td>202500.0</td>\n",
       "      <td>Commercial associate</td>\n",
       "      <td>Secondary / secondary special</td>\n",
       "      <td>Married</td>\n",
       "      <td>House / apartment</td>\n",
       "      <td>-15088</td>\n",
       "      <td>-2092</td>\n",
       "      <td>0</td>\n",
       "      <td>1</td>\n",
       "      <td>0</td>\n",
       "      <td>Sales staff</td>\n",
       "      <td>2.0</td>\n",
       "      <td>-37.0</td>\n",
       "      <td>0.0</td>\n",
       "    </tr>\n",
       "    <tr>\n",
       "      <th>4</th>\n",
       "      <td>F</td>\n",
       "      <td>Y</td>\n",
       "      <td>Y</td>\n",
       "      <td>0</td>\n",
       "      <td>157500.0</td>\n",
       "      <td>State servant</td>\n",
       "      <td>Higher education</td>\n",
       "      <td>Married</td>\n",
       "      <td>House / apartment</td>\n",
       "      <td>-15037</td>\n",
       "      <td>-2105</td>\n",
       "      <td>0</td>\n",
       "      <td>0</td>\n",
       "      <td>0</td>\n",
       "      <td>Managers</td>\n",
       "      <td>2.0</td>\n",
       "      <td>-26.0</td>\n",
       "      <td>2.0</td>\n",
       "    </tr>\n",
       "  </tbody>\n",
       "</table>\n",
       "</div>"
      ],
      "text/plain": [
       "  gender car reality  child_num  income_total           income_type  \\\n",
       "0      F   N       N          0      202500.0  Commercial associate   \n",
       "1      F   N       Y          1      247500.0  Commercial associate   \n",
       "2      M   Y       Y          0      450000.0               Working   \n",
       "3      F   N       Y          0      202500.0  Commercial associate   \n",
       "4      F   Y       Y          0      157500.0         State servant   \n",
       "\n",
       "                        edu_type     family_type           house_type  \\\n",
       "0               Higher education         Married  Municipal apartment   \n",
       "1  Secondary / secondary special  Civil marriage    House / apartment   \n",
       "2               Higher education         Married    House / apartment   \n",
       "3  Secondary / secondary special         Married    House / apartment   \n",
       "4               Higher education         Married    House / apartment   \n",
       "\n",
       "   DAYS_BIRTH  DAYS_EMPLOYED  work_phone  phone  email   occyp_type  \\\n",
       "0      -13899          -4709           0      0      0          NAN   \n",
       "1      -11380          -1540           0      0      1     Laborers   \n",
       "2      -19087          -4434           0      1      0     Managers   \n",
       "3      -15088          -2092           0      1      0  Sales staff   \n",
       "4      -15037          -2105           0      0      0     Managers   \n",
       "\n",
       "   family_size  begin_month  credit  \n",
       "0          2.0         -6.0     1.0  \n",
       "1          3.0         -5.0     1.0  \n",
       "2          2.0        -22.0     2.0  \n",
       "3          2.0        -37.0     0.0  \n",
       "4          2.0        -26.0     2.0  "
      ]
     },
     "execution_count": 36,
     "metadata": {},
     "output_type": "execute_result"
    }
   ],
   "source": [
    "train.head()"
   ]
  },
  {
   "cell_type": "code",
   "execution_count": 37,
   "metadata": {},
   "outputs": [],
   "source": [
    "# 'DAYS_BIRTH','DAYS_EMPLOYED','begin_month'"
   ]
  },
  {
   "cell_type": "code",
   "execution_count": 38,
   "metadata": {},
   "outputs": [
    {
     "name": "stdout",
     "output_type": "stream",
     "text": [
      "-25152    1\n",
      "-25140    3\n",
      "-25099    1\n",
      "-25088    1\n",
      "-24970    2\n",
      "         ..\n",
      "-8041     2\n",
      "-7959     1\n",
      "-7757     3\n",
      "-7723     2\n",
      "-7705     1\n",
      "Name: DAYS_BIRTH, Length: 6620, dtype: int64\n",
      "\n",
      "\n",
      "-15713       1\n",
      "-15661       2\n",
      "-15072       3\n",
      "-15038      14\n",
      "-14887       5\n",
      "          ... \n",
      "-70          4\n",
      "-65          1\n",
      "-43          1\n",
      "-17          2\n",
      " 0        4438\n",
      "Name: DAYS_EMPLOYED, Length: 3469, dtype: int64\n",
      "\n",
      "\n",
      "-60.0    235\n",
      "-59.0    242\n",
      "-58.0    243\n",
      "-57.0    228\n",
      "-56.0    254\n",
      "        ... \n",
      "-4.0     557\n",
      "-3.0     593\n",
      "-2.0     478\n",
      "-1.0     415\n",
      " 0.0     231\n",
      "Name: begin_month, Length: 61, dtype: int64\n",
      "\n",
      "\n"
     ]
    }
   ],
   "source": [
    "neg=['DAYS_BIRTH','DAYS_EMPLOYED','begin_month']\n",
    "\n",
    "for i in neg:\n",
    "    print(train[i].value_counts().sort_index())\n",
    "    print('\\n')"
   ]
  },
  {
   "cell_type": "code",
   "execution_count": 39,
   "metadata": {},
   "outputs": [
    {
     "name": "stdout",
     "output_type": "stream",
     "text": [
      "-25152    1\n",
      "-25010    2\n",
      "-24963    1\n",
      "-24946    1\n",
      "-24932    3\n",
      "         ..\n",
      "-8041     2\n",
      "-7980     1\n",
      "-7959     1\n",
      "-7757     1\n",
      "-7489     1\n",
      "Name: DAYS_BIRTH, Length: 4675, dtype: int64\n",
      "\n",
      "\n",
      "-15661       2\n",
      "-15227       1\n",
      "-15038       2\n",
      "-14887       1\n",
      "-14810       2\n",
      "          ... \n",
      "-73          2\n",
      "-66          1\n",
      "-65          1\n",
      "-17          1\n",
      " 0        1697\n",
      "Name: DAYS_EMPLOYED, Length: 2665, dtype: int64\n",
      "\n",
      "\n",
      "-60.0     86\n",
      "-59.0     65\n",
      "-58.0     89\n",
      "-57.0     76\n",
      "-56.0     91\n",
      "        ... \n",
      "-4.0     208\n",
      "-3.0     207\n",
      "-2.0     165\n",
      "-1.0     136\n",
      " 0.0      84\n",
      "Name: begin_month, Length: 61, dtype: int64\n",
      "\n",
      "\n"
     ]
    }
   ],
   "source": [
    "for i in neg:\n",
    "    print(test[i].value_counts().sort_index())\n",
    "    print('\\n')"
   ]
  },
  {
   "cell_type": "code",
   "execution_count": 40,
   "metadata": {},
   "outputs": [],
   "source": [
    "for i in neg:\n",
    "    train[i]=train[i].apply(abs)\n",
    "    test[i]=test[i].apply(abs)"
   ]
  },
  {
   "cell_type": "code",
   "execution_count": 41,
   "metadata": {},
   "outputs": [],
   "source": [
    "def abs365(x):\n",
    "    return math.ceil(abs(x)/365)\n",
    "\n",
    "train['YEARS_BIRTH']=train['DAYS_BIRTH'].apply(abs365)\n",
    "test['YEARS_BIRTH']=test['DAYS_BIRTH'].apply(abs365)\n",
    "\n",
    "# train['YEARS_EMPLOYED']=train['DAYS_EMPLOYED'].apply(abs365)\n",
    "# test['YEARS_EMPLOYED']=test['DAYS_EMPLOYED'].apply(abs365)"
   ]
  },
  {
   "cell_type": "code",
   "execution_count": 42,
   "metadata": {},
   "outputs": [
    {
     "data": {
      "text/html": [
       "<div>\n",
       "<style scoped>\n",
       "    .dataframe tbody tr th:only-of-type {\n",
       "        vertical-align: middle;\n",
       "    }\n",
       "\n",
       "    .dataframe tbody tr th {\n",
       "        vertical-align: top;\n",
       "    }\n",
       "\n",
       "    .dataframe thead th {\n",
       "        text-align: right;\n",
       "    }\n",
       "</style>\n",
       "<table border=\"1\" class=\"dataframe\">\n",
       "  <thead>\n",
       "    <tr style=\"text-align: right;\">\n",
       "      <th></th>\n",
       "      <th>gender</th>\n",
       "      <th>car</th>\n",
       "      <th>reality</th>\n",
       "      <th>child_num</th>\n",
       "      <th>income_total</th>\n",
       "      <th>income_type</th>\n",
       "      <th>edu_type</th>\n",
       "      <th>family_type</th>\n",
       "      <th>house_type</th>\n",
       "      <th>DAYS_BIRTH</th>\n",
       "      <th>DAYS_EMPLOYED</th>\n",
       "      <th>work_phone</th>\n",
       "      <th>phone</th>\n",
       "      <th>email</th>\n",
       "      <th>occyp_type</th>\n",
       "      <th>family_size</th>\n",
       "      <th>begin_month</th>\n",
       "      <th>credit</th>\n",
       "      <th>YEARS_BIRTH</th>\n",
       "    </tr>\n",
       "  </thead>\n",
       "  <tbody>\n",
       "    <tr>\n",
       "      <th>0</th>\n",
       "      <td>F</td>\n",
       "      <td>N</td>\n",
       "      <td>N</td>\n",
       "      <td>0</td>\n",
       "      <td>202500.0</td>\n",
       "      <td>Commercial associate</td>\n",
       "      <td>Higher education</td>\n",
       "      <td>Married</td>\n",
       "      <td>Municipal apartment</td>\n",
       "      <td>13899</td>\n",
       "      <td>4709</td>\n",
       "      <td>0</td>\n",
       "      <td>0</td>\n",
       "      <td>0</td>\n",
       "      <td>NAN</td>\n",
       "      <td>2.0</td>\n",
       "      <td>6.0</td>\n",
       "      <td>1.0</td>\n",
       "      <td>39</td>\n",
       "    </tr>\n",
       "    <tr>\n",
       "      <th>1</th>\n",
       "      <td>F</td>\n",
       "      <td>N</td>\n",
       "      <td>Y</td>\n",
       "      <td>1</td>\n",
       "      <td>247500.0</td>\n",
       "      <td>Commercial associate</td>\n",
       "      <td>Secondary / secondary special</td>\n",
       "      <td>Civil marriage</td>\n",
       "      <td>House / apartment</td>\n",
       "      <td>11380</td>\n",
       "      <td>1540</td>\n",
       "      <td>0</td>\n",
       "      <td>0</td>\n",
       "      <td>1</td>\n",
       "      <td>Laborers</td>\n",
       "      <td>3.0</td>\n",
       "      <td>5.0</td>\n",
       "      <td>1.0</td>\n",
       "      <td>32</td>\n",
       "    </tr>\n",
       "    <tr>\n",
       "      <th>2</th>\n",
       "      <td>M</td>\n",
       "      <td>Y</td>\n",
       "      <td>Y</td>\n",
       "      <td>0</td>\n",
       "      <td>450000.0</td>\n",
       "      <td>Working</td>\n",
       "      <td>Higher education</td>\n",
       "      <td>Married</td>\n",
       "      <td>House / apartment</td>\n",
       "      <td>19087</td>\n",
       "      <td>4434</td>\n",
       "      <td>0</td>\n",
       "      <td>1</td>\n",
       "      <td>0</td>\n",
       "      <td>Managers</td>\n",
       "      <td>2.0</td>\n",
       "      <td>22.0</td>\n",
       "      <td>2.0</td>\n",
       "      <td>53</td>\n",
       "    </tr>\n",
       "    <tr>\n",
       "      <th>3</th>\n",
       "      <td>F</td>\n",
       "      <td>N</td>\n",
       "      <td>Y</td>\n",
       "      <td>0</td>\n",
       "      <td>202500.0</td>\n",
       "      <td>Commercial associate</td>\n",
       "      <td>Secondary / secondary special</td>\n",
       "      <td>Married</td>\n",
       "      <td>House / apartment</td>\n",
       "      <td>15088</td>\n",
       "      <td>2092</td>\n",
       "      <td>0</td>\n",
       "      <td>1</td>\n",
       "      <td>0</td>\n",
       "      <td>Sales staff</td>\n",
       "      <td>2.0</td>\n",
       "      <td>37.0</td>\n",
       "      <td>0.0</td>\n",
       "      <td>42</td>\n",
       "    </tr>\n",
       "    <tr>\n",
       "      <th>4</th>\n",
       "      <td>F</td>\n",
       "      <td>Y</td>\n",
       "      <td>Y</td>\n",
       "      <td>0</td>\n",
       "      <td>157500.0</td>\n",
       "      <td>State servant</td>\n",
       "      <td>Higher education</td>\n",
       "      <td>Married</td>\n",
       "      <td>House / apartment</td>\n",
       "      <td>15037</td>\n",
       "      <td>2105</td>\n",
       "      <td>0</td>\n",
       "      <td>0</td>\n",
       "      <td>0</td>\n",
       "      <td>Managers</td>\n",
       "      <td>2.0</td>\n",
       "      <td>26.0</td>\n",
       "      <td>2.0</td>\n",
       "      <td>42</td>\n",
       "    </tr>\n",
       "  </tbody>\n",
       "</table>\n",
       "</div>"
      ],
      "text/plain": [
       "  gender car reality  child_num  income_total           income_type  \\\n",
       "0      F   N       N          0      202500.0  Commercial associate   \n",
       "1      F   N       Y          1      247500.0  Commercial associate   \n",
       "2      M   Y       Y          0      450000.0               Working   \n",
       "3      F   N       Y          0      202500.0  Commercial associate   \n",
       "4      F   Y       Y          0      157500.0         State servant   \n",
       "\n",
       "                        edu_type     family_type           house_type  \\\n",
       "0               Higher education         Married  Municipal apartment   \n",
       "1  Secondary / secondary special  Civil marriage    House / apartment   \n",
       "2               Higher education         Married    House / apartment   \n",
       "3  Secondary / secondary special         Married    House / apartment   \n",
       "4               Higher education         Married    House / apartment   \n",
       "\n",
       "   DAYS_BIRTH  DAYS_EMPLOYED  work_phone  phone  email   occyp_type  \\\n",
       "0       13899           4709           0      0      0          NAN   \n",
       "1       11380           1540           0      0      1     Laborers   \n",
       "2       19087           4434           0      1      0     Managers   \n",
       "3       15088           2092           0      1      0  Sales staff   \n",
       "4       15037           2105           0      0      0     Managers   \n",
       "\n",
       "   family_size  begin_month  credit  YEARS_BIRTH  \n",
       "0          2.0          6.0     1.0           39  \n",
       "1          3.0          5.0     1.0           32  \n",
       "2          2.0         22.0     2.0           53  \n",
       "3          2.0         37.0     0.0           42  \n",
       "4          2.0         26.0     2.0           42  "
      ]
     },
     "execution_count": 42,
     "metadata": {},
     "output_type": "execute_result"
    }
   ],
   "source": [
    "train.head(5)"
   ]
  },
  {
   "cell_type": "code",
   "execution_count": 43,
   "metadata": {},
   "outputs": [],
   "source": [
    "def change_category(num):\n",
    "    return (math.trunc(num)//10)*10\n",
    "\n",
    "train['Age_group']=train['YEARS_BIRTH'].apply(change_category)\n",
    "test['Age_group']=test['YEARS_BIRTH'].apply(change_category)\n",
    "\n"
   ]
  },
  {
   "cell_type": "code",
   "execution_count": 44,
   "metadata": {},
   "outputs": [
    {
     "data": {
      "text/html": [
       "<div>\n",
       "<style scoped>\n",
       "    .dataframe tbody tr th:only-of-type {\n",
       "        vertical-align: middle;\n",
       "    }\n",
       "\n",
       "    .dataframe tbody tr th {\n",
       "        vertical-align: top;\n",
       "    }\n",
       "\n",
       "    .dataframe thead th {\n",
       "        text-align: right;\n",
       "    }\n",
       "</style>\n",
       "<table border=\"1\" class=\"dataframe\">\n",
       "  <thead>\n",
       "    <tr style=\"text-align: right;\">\n",
       "      <th></th>\n",
       "      <th>gender</th>\n",
       "      <th>car</th>\n",
       "      <th>reality</th>\n",
       "      <th>child_num</th>\n",
       "      <th>income_total</th>\n",
       "      <th>income_type</th>\n",
       "      <th>edu_type</th>\n",
       "      <th>family_type</th>\n",
       "      <th>house_type</th>\n",
       "      <th>DAYS_BIRTH</th>\n",
       "      <th>DAYS_EMPLOYED</th>\n",
       "      <th>work_phone</th>\n",
       "      <th>phone</th>\n",
       "      <th>email</th>\n",
       "      <th>occyp_type</th>\n",
       "      <th>family_size</th>\n",
       "      <th>begin_month</th>\n",
       "      <th>credit</th>\n",
       "      <th>YEARS_BIRTH</th>\n",
       "      <th>Age_group</th>\n",
       "    </tr>\n",
       "  </thead>\n",
       "  <tbody>\n",
       "    <tr>\n",
       "      <th>0</th>\n",
       "      <td>F</td>\n",
       "      <td>N</td>\n",
       "      <td>N</td>\n",
       "      <td>0</td>\n",
       "      <td>202500.0</td>\n",
       "      <td>Commercial associate</td>\n",
       "      <td>Higher education</td>\n",
       "      <td>Married</td>\n",
       "      <td>Municipal apartment</td>\n",
       "      <td>13899</td>\n",
       "      <td>4709</td>\n",
       "      <td>0</td>\n",
       "      <td>0</td>\n",
       "      <td>0</td>\n",
       "      <td>NAN</td>\n",
       "      <td>2.0</td>\n",
       "      <td>6.0</td>\n",
       "      <td>1.0</td>\n",
       "      <td>39</td>\n",
       "      <td>30</td>\n",
       "    </tr>\n",
       "    <tr>\n",
       "      <th>1</th>\n",
       "      <td>F</td>\n",
       "      <td>N</td>\n",
       "      <td>Y</td>\n",
       "      <td>1</td>\n",
       "      <td>247500.0</td>\n",
       "      <td>Commercial associate</td>\n",
       "      <td>Secondary / secondary special</td>\n",
       "      <td>Civil marriage</td>\n",
       "      <td>House / apartment</td>\n",
       "      <td>11380</td>\n",
       "      <td>1540</td>\n",
       "      <td>0</td>\n",
       "      <td>0</td>\n",
       "      <td>1</td>\n",
       "      <td>Laborers</td>\n",
       "      <td>3.0</td>\n",
       "      <td>5.0</td>\n",
       "      <td>1.0</td>\n",
       "      <td>32</td>\n",
       "      <td>30</td>\n",
       "    </tr>\n",
       "    <tr>\n",
       "      <th>2</th>\n",
       "      <td>M</td>\n",
       "      <td>Y</td>\n",
       "      <td>Y</td>\n",
       "      <td>0</td>\n",
       "      <td>450000.0</td>\n",
       "      <td>Working</td>\n",
       "      <td>Higher education</td>\n",
       "      <td>Married</td>\n",
       "      <td>House / apartment</td>\n",
       "      <td>19087</td>\n",
       "      <td>4434</td>\n",
       "      <td>0</td>\n",
       "      <td>1</td>\n",
       "      <td>0</td>\n",
       "      <td>Managers</td>\n",
       "      <td>2.0</td>\n",
       "      <td>22.0</td>\n",
       "      <td>2.0</td>\n",
       "      <td>53</td>\n",
       "      <td>50</td>\n",
       "    </tr>\n",
       "    <tr>\n",
       "      <th>3</th>\n",
       "      <td>F</td>\n",
       "      <td>N</td>\n",
       "      <td>Y</td>\n",
       "      <td>0</td>\n",
       "      <td>202500.0</td>\n",
       "      <td>Commercial associate</td>\n",
       "      <td>Secondary / secondary special</td>\n",
       "      <td>Married</td>\n",
       "      <td>House / apartment</td>\n",
       "      <td>15088</td>\n",
       "      <td>2092</td>\n",
       "      <td>0</td>\n",
       "      <td>1</td>\n",
       "      <td>0</td>\n",
       "      <td>Sales staff</td>\n",
       "      <td>2.0</td>\n",
       "      <td>37.0</td>\n",
       "      <td>0.0</td>\n",
       "      <td>42</td>\n",
       "      <td>40</td>\n",
       "    </tr>\n",
       "    <tr>\n",
       "      <th>4</th>\n",
       "      <td>F</td>\n",
       "      <td>Y</td>\n",
       "      <td>Y</td>\n",
       "      <td>0</td>\n",
       "      <td>157500.0</td>\n",
       "      <td>State servant</td>\n",
       "      <td>Higher education</td>\n",
       "      <td>Married</td>\n",
       "      <td>House / apartment</td>\n",
       "      <td>15037</td>\n",
       "      <td>2105</td>\n",
       "      <td>0</td>\n",
       "      <td>0</td>\n",
       "      <td>0</td>\n",
       "      <td>Managers</td>\n",
       "      <td>2.0</td>\n",
       "      <td>26.0</td>\n",
       "      <td>2.0</td>\n",
       "      <td>42</td>\n",
       "      <td>40</td>\n",
       "    </tr>\n",
       "  </tbody>\n",
       "</table>\n",
       "</div>"
      ],
      "text/plain": [
       "  gender car reality  child_num  income_total           income_type  \\\n",
       "0      F   N       N          0      202500.0  Commercial associate   \n",
       "1      F   N       Y          1      247500.0  Commercial associate   \n",
       "2      M   Y       Y          0      450000.0               Working   \n",
       "3      F   N       Y          0      202500.0  Commercial associate   \n",
       "4      F   Y       Y          0      157500.0         State servant   \n",
       "\n",
       "                        edu_type     family_type           house_type  \\\n",
       "0               Higher education         Married  Municipal apartment   \n",
       "1  Secondary / secondary special  Civil marriage    House / apartment   \n",
       "2               Higher education         Married    House / apartment   \n",
       "3  Secondary / secondary special         Married    House / apartment   \n",
       "4               Higher education         Married    House / apartment   \n",
       "\n",
       "   DAYS_BIRTH  DAYS_EMPLOYED  work_phone  phone  email   occyp_type  \\\n",
       "0       13899           4709           0      0      0          NAN   \n",
       "1       11380           1540           0      0      1     Laborers   \n",
       "2       19087           4434           0      1      0     Managers   \n",
       "3       15088           2092           0      1      0  Sales staff   \n",
       "4       15037           2105           0      0      0     Managers   \n",
       "\n",
       "   family_size  begin_month  credit  YEARS_BIRTH  Age_group  \n",
       "0          2.0          6.0     1.0           39         30  \n",
       "1          3.0          5.0     1.0           32         30  \n",
       "2          2.0         22.0     2.0           53         50  \n",
       "3          2.0         37.0     0.0           42         40  \n",
       "4          2.0         26.0     2.0           42         40  "
      ]
     },
     "execution_count": 44,
     "metadata": {},
     "output_type": "execute_result"
    }
   ],
   "source": [
    "train.head(5)"
   ]
  },
  {
   "cell_type": "code",
   "execution_count": 45,
   "metadata": {},
   "outputs": [
    {
     "data": {
      "text/plain": [
       "26451"
      ]
     },
     "execution_count": 45,
     "metadata": {},
     "output_type": "execute_result"
    }
   ],
   "source": [
    "len(train)"
   ]
  },
  {
   "cell_type": "code",
   "execution_count": 46,
   "metadata": {},
   "outputs": [],
   "source": [
    "def employed_year(data):\n",
    "    return abs(data)//365"
   ]
  },
  {
   "cell_type": "code",
   "execution_count": 47,
   "metadata": {},
   "outputs": [],
   "source": [
    "train['YEARS_EMPLOYED']=train['DAYS_EMPLOYED'].apply(employed_year)\n",
    "test['YEARS_EMPLOYED']=test['DAYS_EMPLOYED'].apply(employed_year)"
   ]
  },
  {
   "cell_type": "code",
   "execution_count": 48,
   "metadata": {},
   "outputs": [],
   "source": [
    "def employed_category(x):\n",
    "    \n",
    "    #x.loc[(x['DAYS_EMPLOYED'] == 0)&(x['YEARS_EMPLOYED']==0), 'EMPLOYED_group']='No work experience'\n",
    "    #x.loc[(x['DAYS_EMPLOYED'] != 0)&(x['YEARS_EMPLOYED']<1), 'EMPLOYED_group']='~1'\n",
    "    x.loc[(x['YEARS_EMPLOYED']<5), 'EMPLOYED_group']='0~5'\n",
    "    x.loc[(x['YEARS_EMPLOYED']>=5)&(x['YEARS_EMPLOYED']<10), 'EMPLOYED_group']='5~10'\n",
    "    x.loc[(x['YEARS_EMPLOYED']>=10)&(x['YEARS_EMPLOYED']<15), 'EMPLOYED_group']='10~15'\n",
    "    x.loc[(x['YEARS_EMPLOYED']>=15)&(x['YEARS_EMPLOYED']<20), 'EMPLOYED_group']='15~20'\n",
    "    x.loc[(x['YEARS_EMPLOYED']>=20)&(x['YEARS_EMPLOYED']<25), 'EMPLOYED_group']='20~25'\n",
    "    x.loc[(x['YEARS_EMPLOYED']>=25)&(x['YEARS_EMPLOYED']<30), 'EMPLOYED_group']='25~30'\n",
    "    x.loc[(x['YEARS_EMPLOYED']>=30)&(x['YEARS_EMPLOYED']<35), 'EMPLOYED_group']='30~35'\n",
    "    x.loc[(x['YEARS_EMPLOYED']>=35)&(x['YEARS_EMPLOYED']<40), 'EMPLOYED_group']='35~40'\n",
    "    x.loc[(x['YEARS_EMPLOYED']>=40), 'EMPLOYED_group']='40~'\n",
    "    #x.loc[(x['DAYS_EMPLOYED']==0)&(x['occyp_type']=='NaN'),'occyp_type']='No work experience'"
   ]
  },
  {
   "cell_type": "code",
   "execution_count": 49,
   "metadata": {},
   "outputs": [],
   "source": [
    "employed_category(train)\n",
    "employed_category(test)"
   ]
  },
  {
   "cell_type": "code",
   "execution_count": 50,
   "metadata": {},
   "outputs": [
    {
     "data": {
      "text/html": [
       "<div>\n",
       "<style scoped>\n",
       "    .dataframe tbody tr th:only-of-type {\n",
       "        vertical-align: middle;\n",
       "    }\n",
       "\n",
       "    .dataframe tbody tr th {\n",
       "        vertical-align: top;\n",
       "    }\n",
       "\n",
       "    .dataframe thead th {\n",
       "        text-align: right;\n",
       "    }\n",
       "</style>\n",
       "<table border=\"1\" class=\"dataframe\">\n",
       "  <thead>\n",
       "    <tr style=\"text-align: right;\">\n",
       "      <th></th>\n",
       "      <th>gender</th>\n",
       "      <th>car</th>\n",
       "      <th>reality</th>\n",
       "      <th>child_num</th>\n",
       "      <th>income_total</th>\n",
       "      <th>income_type</th>\n",
       "      <th>edu_type</th>\n",
       "      <th>family_type</th>\n",
       "      <th>house_type</th>\n",
       "      <th>DAYS_BIRTH</th>\n",
       "      <th>...</th>\n",
       "      <th>phone</th>\n",
       "      <th>email</th>\n",
       "      <th>occyp_type</th>\n",
       "      <th>family_size</th>\n",
       "      <th>begin_month</th>\n",
       "      <th>credit</th>\n",
       "      <th>YEARS_BIRTH</th>\n",
       "      <th>Age_group</th>\n",
       "      <th>YEARS_EMPLOYED</th>\n",
       "      <th>EMPLOYED_group</th>\n",
       "    </tr>\n",
       "  </thead>\n",
       "  <tbody>\n",
       "    <tr>\n",
       "      <th>0</th>\n",
       "      <td>F</td>\n",
       "      <td>N</td>\n",
       "      <td>N</td>\n",
       "      <td>0</td>\n",
       "      <td>202500.0</td>\n",
       "      <td>Commercial associate</td>\n",
       "      <td>Higher education</td>\n",
       "      <td>Married</td>\n",
       "      <td>Municipal apartment</td>\n",
       "      <td>13899</td>\n",
       "      <td>...</td>\n",
       "      <td>0</td>\n",
       "      <td>0</td>\n",
       "      <td>NAN</td>\n",
       "      <td>2.0</td>\n",
       "      <td>6.0</td>\n",
       "      <td>1.0</td>\n",
       "      <td>39</td>\n",
       "      <td>30</td>\n",
       "      <td>12</td>\n",
       "      <td>10~15</td>\n",
       "    </tr>\n",
       "    <tr>\n",
       "      <th>1</th>\n",
       "      <td>F</td>\n",
       "      <td>N</td>\n",
       "      <td>Y</td>\n",
       "      <td>1</td>\n",
       "      <td>247500.0</td>\n",
       "      <td>Commercial associate</td>\n",
       "      <td>Secondary / secondary special</td>\n",
       "      <td>Civil marriage</td>\n",
       "      <td>House / apartment</td>\n",
       "      <td>11380</td>\n",
       "      <td>...</td>\n",
       "      <td>0</td>\n",
       "      <td>1</td>\n",
       "      <td>Laborers</td>\n",
       "      <td>3.0</td>\n",
       "      <td>5.0</td>\n",
       "      <td>1.0</td>\n",
       "      <td>32</td>\n",
       "      <td>30</td>\n",
       "      <td>4</td>\n",
       "      <td>0~5</td>\n",
       "    </tr>\n",
       "    <tr>\n",
       "      <th>2</th>\n",
       "      <td>M</td>\n",
       "      <td>Y</td>\n",
       "      <td>Y</td>\n",
       "      <td>0</td>\n",
       "      <td>450000.0</td>\n",
       "      <td>Working</td>\n",
       "      <td>Higher education</td>\n",
       "      <td>Married</td>\n",
       "      <td>House / apartment</td>\n",
       "      <td>19087</td>\n",
       "      <td>...</td>\n",
       "      <td>1</td>\n",
       "      <td>0</td>\n",
       "      <td>Managers</td>\n",
       "      <td>2.0</td>\n",
       "      <td>22.0</td>\n",
       "      <td>2.0</td>\n",
       "      <td>53</td>\n",
       "      <td>50</td>\n",
       "      <td>12</td>\n",
       "      <td>10~15</td>\n",
       "    </tr>\n",
       "    <tr>\n",
       "      <th>3</th>\n",
       "      <td>F</td>\n",
       "      <td>N</td>\n",
       "      <td>Y</td>\n",
       "      <td>0</td>\n",
       "      <td>202500.0</td>\n",
       "      <td>Commercial associate</td>\n",
       "      <td>Secondary / secondary special</td>\n",
       "      <td>Married</td>\n",
       "      <td>House / apartment</td>\n",
       "      <td>15088</td>\n",
       "      <td>...</td>\n",
       "      <td>1</td>\n",
       "      <td>0</td>\n",
       "      <td>Sales staff</td>\n",
       "      <td>2.0</td>\n",
       "      <td>37.0</td>\n",
       "      <td>0.0</td>\n",
       "      <td>42</td>\n",
       "      <td>40</td>\n",
       "      <td>5</td>\n",
       "      <td>5~10</td>\n",
       "    </tr>\n",
       "    <tr>\n",
       "      <th>4</th>\n",
       "      <td>F</td>\n",
       "      <td>Y</td>\n",
       "      <td>Y</td>\n",
       "      <td>0</td>\n",
       "      <td>157500.0</td>\n",
       "      <td>State servant</td>\n",
       "      <td>Higher education</td>\n",
       "      <td>Married</td>\n",
       "      <td>House / apartment</td>\n",
       "      <td>15037</td>\n",
       "      <td>...</td>\n",
       "      <td>0</td>\n",
       "      <td>0</td>\n",
       "      <td>Managers</td>\n",
       "      <td>2.0</td>\n",
       "      <td>26.0</td>\n",
       "      <td>2.0</td>\n",
       "      <td>42</td>\n",
       "      <td>40</td>\n",
       "      <td>5</td>\n",
       "      <td>5~10</td>\n",
       "    </tr>\n",
       "  </tbody>\n",
       "</table>\n",
       "<p>5 rows × 22 columns</p>\n",
       "</div>"
      ],
      "text/plain": [
       "  gender car reality  child_num  income_total           income_type  \\\n",
       "0      F   N       N          0      202500.0  Commercial associate   \n",
       "1      F   N       Y          1      247500.0  Commercial associate   \n",
       "2      M   Y       Y          0      450000.0               Working   \n",
       "3      F   N       Y          0      202500.0  Commercial associate   \n",
       "4      F   Y       Y          0      157500.0         State servant   \n",
       "\n",
       "                        edu_type     family_type           house_type  \\\n",
       "0               Higher education         Married  Municipal apartment   \n",
       "1  Secondary / secondary special  Civil marriage    House / apartment   \n",
       "2               Higher education         Married    House / apartment   \n",
       "3  Secondary / secondary special         Married    House / apartment   \n",
       "4               Higher education         Married    House / apartment   \n",
       "\n",
       "   DAYS_BIRTH  ...  phone  email   occyp_type  family_size begin_month  \\\n",
       "0       13899  ...      0      0          NAN          2.0         6.0   \n",
       "1       11380  ...      0      1     Laborers          3.0         5.0   \n",
       "2       19087  ...      1      0     Managers          2.0        22.0   \n",
       "3       15088  ...      1      0  Sales staff          2.0        37.0   \n",
       "4       15037  ...      0      0     Managers          2.0        26.0   \n",
       "\n",
       "   credit  YEARS_BIRTH  Age_group  YEARS_EMPLOYED  EMPLOYED_group  \n",
       "0     1.0           39         30              12           10~15  \n",
       "1     1.0           32         30               4             0~5  \n",
       "2     2.0           53         50              12           10~15  \n",
       "3     0.0           42         40               5            5~10  \n",
       "4     2.0           42         40               5            5~10  \n",
       "\n",
       "[5 rows x 22 columns]"
      ]
     },
     "execution_count": 50,
     "metadata": {},
     "output_type": "execute_result"
    }
   ],
   "source": [
    "train.head(5)"
   ]
  },
  {
   "cell_type": "code",
   "execution_count": 51,
   "metadata": {},
   "outputs": [],
   "source": [
    "train.loc[(train['DAYS_EMPLOYED'] == 0), 'YEARS_EMPLOYED']='No work experience'\n",
    "test.loc[(test['DAYS_EMPLOYED'] == 0), 'YEARS_EMPLOYED']='No work experience'"
   ]
  },
  {
   "cell_type": "markdown",
   "metadata": {},
   "source": [
    "# Creative id columns"
   ]
  },
  {
   "cell_type": "code",
   "execution_count": 52,
   "metadata": {},
   "outputs": [],
   "source": [
    "def id(data):\n",
    "    data['id']=data['gender']+data['DAYS_BIRTH'].astype(str)+data['DAYS_EMPLOYED'].astype(str)+data['income_total'].astype(int).astype(str)\n",
    "    return data"
   ]
  },
  {
   "cell_type": "code",
   "execution_count": 53,
   "metadata": {},
   "outputs": [],
   "source": [
    "train=id(train)\n",
    "test=id(test)"
   ]
  },
  {
   "cell_type": "code",
   "execution_count": 54,
   "metadata": {},
   "outputs": [
    {
     "data": {
      "text/html": [
       "<div>\n",
       "<style scoped>\n",
       "    .dataframe tbody tr th:only-of-type {\n",
       "        vertical-align: middle;\n",
       "    }\n",
       "\n",
       "    .dataframe tbody tr th {\n",
       "        vertical-align: top;\n",
       "    }\n",
       "\n",
       "    .dataframe thead th {\n",
       "        text-align: right;\n",
       "    }\n",
       "</style>\n",
       "<table border=\"1\" class=\"dataframe\">\n",
       "  <thead>\n",
       "    <tr style=\"text-align: right;\">\n",
       "      <th></th>\n",
       "      <th>gender</th>\n",
       "      <th>car</th>\n",
       "      <th>reality</th>\n",
       "      <th>child_num</th>\n",
       "      <th>income_total</th>\n",
       "      <th>income_type</th>\n",
       "      <th>edu_type</th>\n",
       "      <th>family_type</th>\n",
       "      <th>house_type</th>\n",
       "      <th>DAYS_BIRTH</th>\n",
       "      <th>...</th>\n",
       "      <th>email</th>\n",
       "      <th>occyp_type</th>\n",
       "      <th>family_size</th>\n",
       "      <th>begin_month</th>\n",
       "      <th>credit</th>\n",
       "      <th>YEARS_BIRTH</th>\n",
       "      <th>Age_group</th>\n",
       "      <th>YEARS_EMPLOYED</th>\n",
       "      <th>EMPLOYED_group</th>\n",
       "      <th>id</th>\n",
       "    </tr>\n",
       "  </thead>\n",
       "  <tbody>\n",
       "    <tr>\n",
       "      <th>0</th>\n",
       "      <td>F</td>\n",
       "      <td>N</td>\n",
       "      <td>N</td>\n",
       "      <td>0</td>\n",
       "      <td>202500.0</td>\n",
       "      <td>Commercial associate</td>\n",
       "      <td>Higher education</td>\n",
       "      <td>Married</td>\n",
       "      <td>Municipal apartment</td>\n",
       "      <td>13899</td>\n",
       "      <td>...</td>\n",
       "      <td>0</td>\n",
       "      <td>NAN</td>\n",
       "      <td>2.0</td>\n",
       "      <td>6.0</td>\n",
       "      <td>1.0</td>\n",
       "      <td>39</td>\n",
       "      <td>30</td>\n",
       "      <td>12</td>\n",
       "      <td>10~15</td>\n",
       "      <td>F138994709202500</td>\n",
       "    </tr>\n",
       "    <tr>\n",
       "      <th>1</th>\n",
       "      <td>F</td>\n",
       "      <td>N</td>\n",
       "      <td>Y</td>\n",
       "      <td>1</td>\n",
       "      <td>247500.0</td>\n",
       "      <td>Commercial associate</td>\n",
       "      <td>Secondary / secondary special</td>\n",
       "      <td>Civil marriage</td>\n",
       "      <td>House / apartment</td>\n",
       "      <td>11380</td>\n",
       "      <td>...</td>\n",
       "      <td>1</td>\n",
       "      <td>Laborers</td>\n",
       "      <td>3.0</td>\n",
       "      <td>5.0</td>\n",
       "      <td>1.0</td>\n",
       "      <td>32</td>\n",
       "      <td>30</td>\n",
       "      <td>4</td>\n",
       "      <td>0~5</td>\n",
       "      <td>F113801540247500</td>\n",
       "    </tr>\n",
       "    <tr>\n",
       "      <th>2</th>\n",
       "      <td>M</td>\n",
       "      <td>Y</td>\n",
       "      <td>Y</td>\n",
       "      <td>0</td>\n",
       "      <td>450000.0</td>\n",
       "      <td>Working</td>\n",
       "      <td>Higher education</td>\n",
       "      <td>Married</td>\n",
       "      <td>House / apartment</td>\n",
       "      <td>19087</td>\n",
       "      <td>...</td>\n",
       "      <td>0</td>\n",
       "      <td>Managers</td>\n",
       "      <td>2.0</td>\n",
       "      <td>22.0</td>\n",
       "      <td>2.0</td>\n",
       "      <td>53</td>\n",
       "      <td>50</td>\n",
       "      <td>12</td>\n",
       "      <td>10~15</td>\n",
       "      <td>M190874434450000</td>\n",
       "    </tr>\n",
       "    <tr>\n",
       "      <th>3</th>\n",
       "      <td>F</td>\n",
       "      <td>N</td>\n",
       "      <td>Y</td>\n",
       "      <td>0</td>\n",
       "      <td>202500.0</td>\n",
       "      <td>Commercial associate</td>\n",
       "      <td>Secondary / secondary special</td>\n",
       "      <td>Married</td>\n",
       "      <td>House / apartment</td>\n",
       "      <td>15088</td>\n",
       "      <td>...</td>\n",
       "      <td>0</td>\n",
       "      <td>Sales staff</td>\n",
       "      <td>2.0</td>\n",
       "      <td>37.0</td>\n",
       "      <td>0.0</td>\n",
       "      <td>42</td>\n",
       "      <td>40</td>\n",
       "      <td>5</td>\n",
       "      <td>5~10</td>\n",
       "      <td>F150882092202500</td>\n",
       "    </tr>\n",
       "    <tr>\n",
       "      <th>4</th>\n",
       "      <td>F</td>\n",
       "      <td>Y</td>\n",
       "      <td>Y</td>\n",
       "      <td>0</td>\n",
       "      <td>157500.0</td>\n",
       "      <td>State servant</td>\n",
       "      <td>Higher education</td>\n",
       "      <td>Married</td>\n",
       "      <td>House / apartment</td>\n",
       "      <td>15037</td>\n",
       "      <td>...</td>\n",
       "      <td>0</td>\n",
       "      <td>Managers</td>\n",
       "      <td>2.0</td>\n",
       "      <td>26.0</td>\n",
       "      <td>2.0</td>\n",
       "      <td>42</td>\n",
       "      <td>40</td>\n",
       "      <td>5</td>\n",
       "      <td>5~10</td>\n",
       "      <td>F150372105157500</td>\n",
       "    </tr>\n",
       "  </tbody>\n",
       "</table>\n",
       "<p>5 rows × 23 columns</p>\n",
       "</div>"
      ],
      "text/plain": [
       "  gender car reality  child_num  income_total           income_type  \\\n",
       "0      F   N       N          0      202500.0  Commercial associate   \n",
       "1      F   N       Y          1      247500.0  Commercial associate   \n",
       "2      M   Y       Y          0      450000.0               Working   \n",
       "3      F   N       Y          0      202500.0  Commercial associate   \n",
       "4      F   Y       Y          0      157500.0         State servant   \n",
       "\n",
       "                        edu_type     family_type           house_type  \\\n",
       "0               Higher education         Married  Municipal apartment   \n",
       "1  Secondary / secondary special  Civil marriage    House / apartment   \n",
       "2               Higher education         Married    House / apartment   \n",
       "3  Secondary / secondary special         Married    House / apartment   \n",
       "4               Higher education         Married    House / apartment   \n",
       "\n",
       "   DAYS_BIRTH  ...  email   occyp_type  family_size  begin_month credit  \\\n",
       "0       13899  ...      0          NAN          2.0          6.0    1.0   \n",
       "1       11380  ...      1     Laborers          3.0          5.0    1.0   \n",
       "2       19087  ...      0     Managers          2.0         22.0    2.0   \n",
       "3       15088  ...      0  Sales staff          2.0         37.0    0.0   \n",
       "4       15037  ...      0     Managers          2.0         26.0    2.0   \n",
       "\n",
       "   YEARS_BIRTH  Age_group  YEARS_EMPLOYED  EMPLOYED_group                id  \n",
       "0           39         30              12           10~15  F138994709202500  \n",
       "1           32         30               4             0~5  F113801540247500  \n",
       "2           53         50              12           10~15  M190874434450000  \n",
       "3           42         40               5            5~10  F150882092202500  \n",
       "4           42         40               5            5~10  F150372105157500  \n",
       "\n",
       "[5 rows x 23 columns]"
      ]
     },
     "execution_count": 54,
     "metadata": {},
     "output_type": "execute_result"
    }
   ],
   "source": [
    "train.head()"
   ]
  },
  {
   "cell_type": "code",
   "execution_count": 55,
   "metadata": {},
   "outputs": [
    {
     "data": {
      "text/html": [
       "<div>\n",
       "<style scoped>\n",
       "    .dataframe tbody tr th:only-of-type {\n",
       "        vertical-align: middle;\n",
       "    }\n",
       "\n",
       "    .dataframe tbody tr th {\n",
       "        vertical-align: top;\n",
       "    }\n",
       "\n",
       "    .dataframe thead th {\n",
       "        text-align: right;\n",
       "    }\n",
       "</style>\n",
       "<table border=\"1\" class=\"dataframe\">\n",
       "  <thead>\n",
       "    <tr style=\"text-align: right;\">\n",
       "      <th></th>\n",
       "      <th>id</th>\n",
       "      <th>gender</th>\n",
       "      <th>car</th>\n",
       "      <th>reality</th>\n",
       "      <th>child_num</th>\n",
       "      <th>income_total</th>\n",
       "      <th>income_type</th>\n",
       "      <th>edu_type</th>\n",
       "      <th>family_type</th>\n",
       "      <th>house_type</th>\n",
       "      <th>...</th>\n",
       "      <th>phone</th>\n",
       "      <th>email</th>\n",
       "      <th>occyp_type</th>\n",
       "      <th>family_size</th>\n",
       "      <th>begin_month</th>\n",
       "      <th>credit</th>\n",
       "      <th>YEARS_BIRTH</th>\n",
       "      <th>Age_group</th>\n",
       "      <th>YEARS_EMPLOYED</th>\n",
       "      <th>EMPLOYED_group</th>\n",
       "    </tr>\n",
       "  </thead>\n",
       "  <tbody>\n",
       "    <tr>\n",
       "      <th>0</th>\n",
       "      <td>F138994709202500</td>\n",
       "      <td>F</td>\n",
       "      <td>N</td>\n",
       "      <td>N</td>\n",
       "      <td>0</td>\n",
       "      <td>202500.0</td>\n",
       "      <td>Commercial associate</td>\n",
       "      <td>Higher education</td>\n",
       "      <td>Married</td>\n",
       "      <td>Municipal apartment</td>\n",
       "      <td>...</td>\n",
       "      <td>0</td>\n",
       "      <td>0</td>\n",
       "      <td>NAN</td>\n",
       "      <td>2.0</td>\n",
       "      <td>6.0</td>\n",
       "      <td>1.0</td>\n",
       "      <td>39</td>\n",
       "      <td>30</td>\n",
       "      <td>12</td>\n",
       "      <td>10~15</td>\n",
       "    </tr>\n",
       "    <tr>\n",
       "      <th>1</th>\n",
       "      <td>F113801540247500</td>\n",
       "      <td>F</td>\n",
       "      <td>N</td>\n",
       "      <td>Y</td>\n",
       "      <td>1</td>\n",
       "      <td>247500.0</td>\n",
       "      <td>Commercial associate</td>\n",
       "      <td>Secondary / secondary special</td>\n",
       "      <td>Civil marriage</td>\n",
       "      <td>House / apartment</td>\n",
       "      <td>...</td>\n",
       "      <td>0</td>\n",
       "      <td>1</td>\n",
       "      <td>Laborers</td>\n",
       "      <td>3.0</td>\n",
       "      <td>5.0</td>\n",
       "      <td>1.0</td>\n",
       "      <td>32</td>\n",
       "      <td>30</td>\n",
       "      <td>4</td>\n",
       "      <td>0~5</td>\n",
       "    </tr>\n",
       "    <tr>\n",
       "      <th>2</th>\n",
       "      <td>M190874434450000</td>\n",
       "      <td>M</td>\n",
       "      <td>Y</td>\n",
       "      <td>Y</td>\n",
       "      <td>0</td>\n",
       "      <td>450000.0</td>\n",
       "      <td>Working</td>\n",
       "      <td>Higher education</td>\n",
       "      <td>Married</td>\n",
       "      <td>House / apartment</td>\n",
       "      <td>...</td>\n",
       "      <td>1</td>\n",
       "      <td>0</td>\n",
       "      <td>Managers</td>\n",
       "      <td>2.0</td>\n",
       "      <td>22.0</td>\n",
       "      <td>2.0</td>\n",
       "      <td>53</td>\n",
       "      <td>50</td>\n",
       "      <td>12</td>\n",
       "      <td>10~15</td>\n",
       "    </tr>\n",
       "    <tr>\n",
       "      <th>3</th>\n",
       "      <td>F150882092202500</td>\n",
       "      <td>F</td>\n",
       "      <td>N</td>\n",
       "      <td>Y</td>\n",
       "      <td>0</td>\n",
       "      <td>202500.0</td>\n",
       "      <td>Commercial associate</td>\n",
       "      <td>Secondary / secondary special</td>\n",
       "      <td>Married</td>\n",
       "      <td>House / apartment</td>\n",
       "      <td>...</td>\n",
       "      <td>1</td>\n",
       "      <td>0</td>\n",
       "      <td>Sales staff</td>\n",
       "      <td>2.0</td>\n",
       "      <td>37.0</td>\n",
       "      <td>0.0</td>\n",
       "      <td>42</td>\n",
       "      <td>40</td>\n",
       "      <td>5</td>\n",
       "      <td>5~10</td>\n",
       "    </tr>\n",
       "    <tr>\n",
       "      <th>4</th>\n",
       "      <td>F150372105157500</td>\n",
       "      <td>F</td>\n",
       "      <td>Y</td>\n",
       "      <td>Y</td>\n",
       "      <td>0</td>\n",
       "      <td>157500.0</td>\n",
       "      <td>State servant</td>\n",
       "      <td>Higher education</td>\n",
       "      <td>Married</td>\n",
       "      <td>House / apartment</td>\n",
       "      <td>...</td>\n",
       "      <td>0</td>\n",
       "      <td>0</td>\n",
       "      <td>Managers</td>\n",
       "      <td>2.0</td>\n",
       "      <td>26.0</td>\n",
       "      <td>2.0</td>\n",
       "      <td>42</td>\n",
       "      <td>40</td>\n",
       "      <td>5</td>\n",
       "      <td>5~10</td>\n",
       "    </tr>\n",
       "  </tbody>\n",
       "</table>\n",
       "<p>5 rows × 23 columns</p>\n",
       "</div>"
      ],
      "text/plain": [
       "                 id gender car reality  child_num  income_total  \\\n",
       "0  F138994709202500      F   N       N          0      202500.0   \n",
       "1  F113801540247500      F   N       Y          1      247500.0   \n",
       "2  M190874434450000      M   Y       Y          0      450000.0   \n",
       "3  F150882092202500      F   N       Y          0      202500.0   \n",
       "4  F150372105157500      F   Y       Y          0      157500.0   \n",
       "\n",
       "            income_type                       edu_type     family_type  \\\n",
       "0  Commercial associate               Higher education         Married   \n",
       "1  Commercial associate  Secondary / secondary special  Civil marriage   \n",
       "2               Working               Higher education         Married   \n",
       "3  Commercial associate  Secondary / secondary special         Married   \n",
       "4         State servant               Higher education         Married   \n",
       "\n",
       "            house_type  ...  phone  email   occyp_type  family_size  \\\n",
       "0  Municipal apartment  ...      0      0          NAN          2.0   \n",
       "1    House / apartment  ...      0      1     Laborers          3.0   \n",
       "2    House / apartment  ...      1      0     Managers          2.0   \n",
       "3    House / apartment  ...      1      0  Sales staff          2.0   \n",
       "4    House / apartment  ...      0      0     Managers          2.0   \n",
       "\n",
       "   begin_month credit  YEARS_BIRTH  Age_group  YEARS_EMPLOYED  EMPLOYED_group  \n",
       "0          6.0    1.0           39         30              12           10~15  \n",
       "1          5.0    1.0           32         30               4             0~5  \n",
       "2         22.0    2.0           53         50              12           10~15  \n",
       "3         37.0    0.0           42         40               5            5~10  \n",
       "4         26.0    2.0           42         40               5            5~10  \n",
       "\n",
       "[5 rows x 23 columns]"
      ]
     },
     "execution_count": 55,
     "metadata": {},
     "output_type": "execute_result"
    }
   ],
   "source": [
    "train=train.set_index('id')\n",
    "test=test.set_index('id')\n",
    "# train.drop_duplicates(train.columns,keep='first',inplace=True)\n",
    "# test.drop_duplicates(test.columns,keep='first',inplace=True)\n",
    "train.reset_index(inplace=True)\n",
    "test.reset_index(inplace=True)\n",
    "train.head()"
   ]
  },
  {
   "cell_type": "code",
   "execution_count": 56,
   "metadata": {},
   "outputs": [
    {
     "data": {
      "text/plain": [
       "((26451, 23), (10000, 22))"
      ]
     },
     "execution_count": 56,
     "metadata": {},
     "output_type": "execute_result"
    }
   ],
   "source": [
    "train.shape,test.shape"
   ]
  },
  {
   "cell_type": "markdown",
   "metadata": {},
   "source": [
    "# Drop columns 2"
   ]
  },
  {
   "cell_type": "code",
   "execution_count": 57,
   "metadata": {},
   "outputs": [
    {
     "data": {
      "text/plain": [
       "Index(['id', 'gender', 'car', 'reality', 'child_num', 'income_total',\n",
       "       'income_type', 'edu_type', 'family_type', 'house_type', 'DAYS_BIRTH',\n",
       "       'DAYS_EMPLOYED', 'work_phone', 'phone', 'email', 'occyp_type',\n",
       "       'family_size', 'begin_month', 'credit', 'YEARS_BIRTH', 'Age_group',\n",
       "       'YEARS_EMPLOYED', 'EMPLOYED_group'],\n",
       "      dtype='object')"
      ]
     },
     "execution_count": 57,
     "metadata": {},
     "output_type": "execute_result"
    }
   ],
   "source": [
    "train.columns"
   ]
  },
  {
   "cell_type": "code",
   "execution_count": 58,
   "metadata": {},
   "outputs": [
    {
     "data": {
      "text/html": [
       "<div>\n",
       "<style scoped>\n",
       "    .dataframe tbody tr th:only-of-type {\n",
       "        vertical-align: middle;\n",
       "    }\n",
       "\n",
       "    .dataframe tbody tr th {\n",
       "        vertical-align: top;\n",
       "    }\n",
       "\n",
       "    .dataframe thead th {\n",
       "        text-align: right;\n",
       "    }\n",
       "</style>\n",
       "<table border=\"1\" class=\"dataframe\">\n",
       "  <thead>\n",
       "    <tr style=\"text-align: right;\">\n",
       "      <th></th>\n",
       "      <th>id</th>\n",
       "      <th>gender</th>\n",
       "      <th>car</th>\n",
       "      <th>reality</th>\n",
       "      <th>child_num</th>\n",
       "      <th>income_total</th>\n",
       "      <th>income_type</th>\n",
       "      <th>edu_type</th>\n",
       "      <th>family_type</th>\n",
       "      <th>house_type</th>\n",
       "      <th>...</th>\n",
       "      <th>phone</th>\n",
       "      <th>email</th>\n",
       "      <th>occyp_type</th>\n",
       "      <th>family_size</th>\n",
       "      <th>begin_month</th>\n",
       "      <th>credit</th>\n",
       "      <th>YEARS_BIRTH</th>\n",
       "      <th>Age_group</th>\n",
       "      <th>YEARS_EMPLOYED</th>\n",
       "      <th>EMPLOYED_group</th>\n",
       "    </tr>\n",
       "  </thead>\n",
       "  <tbody>\n",
       "    <tr>\n",
       "      <th>0</th>\n",
       "      <td>F138994709202500</td>\n",
       "      <td>F</td>\n",
       "      <td>N</td>\n",
       "      <td>N</td>\n",
       "      <td>0</td>\n",
       "      <td>202500.0</td>\n",
       "      <td>Commercial associate</td>\n",
       "      <td>Higher education</td>\n",
       "      <td>Married</td>\n",
       "      <td>Municipal apartment</td>\n",
       "      <td>...</td>\n",
       "      <td>0</td>\n",
       "      <td>0</td>\n",
       "      <td>NAN</td>\n",
       "      <td>2.0</td>\n",
       "      <td>6.0</td>\n",
       "      <td>1.0</td>\n",
       "      <td>39</td>\n",
       "      <td>30</td>\n",
       "      <td>12</td>\n",
       "      <td>10~15</td>\n",
       "    </tr>\n",
       "    <tr>\n",
       "      <th>1</th>\n",
       "      <td>F113801540247500</td>\n",
       "      <td>F</td>\n",
       "      <td>N</td>\n",
       "      <td>Y</td>\n",
       "      <td>1</td>\n",
       "      <td>247500.0</td>\n",
       "      <td>Commercial associate</td>\n",
       "      <td>Secondary / secondary special</td>\n",
       "      <td>Civil marriage</td>\n",
       "      <td>House / apartment</td>\n",
       "      <td>...</td>\n",
       "      <td>0</td>\n",
       "      <td>1</td>\n",
       "      <td>Laborers</td>\n",
       "      <td>3.0</td>\n",
       "      <td>5.0</td>\n",
       "      <td>1.0</td>\n",
       "      <td>32</td>\n",
       "      <td>30</td>\n",
       "      <td>4</td>\n",
       "      <td>0~5</td>\n",
       "    </tr>\n",
       "    <tr>\n",
       "      <th>2</th>\n",
       "      <td>M190874434450000</td>\n",
       "      <td>M</td>\n",
       "      <td>Y</td>\n",
       "      <td>Y</td>\n",
       "      <td>0</td>\n",
       "      <td>450000.0</td>\n",
       "      <td>Working</td>\n",
       "      <td>Higher education</td>\n",
       "      <td>Married</td>\n",
       "      <td>House / apartment</td>\n",
       "      <td>...</td>\n",
       "      <td>1</td>\n",
       "      <td>0</td>\n",
       "      <td>Managers</td>\n",
       "      <td>2.0</td>\n",
       "      <td>22.0</td>\n",
       "      <td>2.0</td>\n",
       "      <td>53</td>\n",
       "      <td>50</td>\n",
       "      <td>12</td>\n",
       "      <td>10~15</td>\n",
       "    </tr>\n",
       "    <tr>\n",
       "      <th>3</th>\n",
       "      <td>F150882092202500</td>\n",
       "      <td>F</td>\n",
       "      <td>N</td>\n",
       "      <td>Y</td>\n",
       "      <td>0</td>\n",
       "      <td>202500.0</td>\n",
       "      <td>Commercial associate</td>\n",
       "      <td>Secondary / secondary special</td>\n",
       "      <td>Married</td>\n",
       "      <td>House / apartment</td>\n",
       "      <td>...</td>\n",
       "      <td>1</td>\n",
       "      <td>0</td>\n",
       "      <td>Sales staff</td>\n",
       "      <td>2.0</td>\n",
       "      <td>37.0</td>\n",
       "      <td>0.0</td>\n",
       "      <td>42</td>\n",
       "      <td>40</td>\n",
       "      <td>5</td>\n",
       "      <td>5~10</td>\n",
       "    </tr>\n",
       "    <tr>\n",
       "      <th>4</th>\n",
       "      <td>F150372105157500</td>\n",
       "      <td>F</td>\n",
       "      <td>Y</td>\n",
       "      <td>Y</td>\n",
       "      <td>0</td>\n",
       "      <td>157500.0</td>\n",
       "      <td>State servant</td>\n",
       "      <td>Higher education</td>\n",
       "      <td>Married</td>\n",
       "      <td>House / apartment</td>\n",
       "      <td>...</td>\n",
       "      <td>0</td>\n",
       "      <td>0</td>\n",
       "      <td>Managers</td>\n",
       "      <td>2.0</td>\n",
       "      <td>26.0</td>\n",
       "      <td>2.0</td>\n",
       "      <td>42</td>\n",
       "      <td>40</td>\n",
       "      <td>5</td>\n",
       "      <td>5~10</td>\n",
       "    </tr>\n",
       "  </tbody>\n",
       "</table>\n",
       "<p>5 rows × 21 columns</p>\n",
       "</div>"
      ],
      "text/plain": [
       "                 id gender car reality  child_num  income_total  \\\n",
       "0  F138994709202500      F   N       N          0      202500.0   \n",
       "1  F113801540247500      F   N       Y          1      247500.0   \n",
       "2  M190874434450000      M   Y       Y          0      450000.0   \n",
       "3  F150882092202500      F   N       Y          0      202500.0   \n",
       "4  F150372105157500      F   Y       Y          0      157500.0   \n",
       "\n",
       "            income_type                       edu_type     family_type  \\\n",
       "0  Commercial associate               Higher education         Married   \n",
       "1  Commercial associate  Secondary / secondary special  Civil marriage   \n",
       "2               Working               Higher education         Married   \n",
       "3  Commercial associate  Secondary / secondary special         Married   \n",
       "4         State servant               Higher education         Married   \n",
       "\n",
       "            house_type  ...  phone  email   occyp_type family_size  \\\n",
       "0  Municipal apartment  ...      0      0          NAN         2.0   \n",
       "1    House / apartment  ...      0      1     Laborers         3.0   \n",
       "2    House / apartment  ...      1      0     Managers         2.0   \n",
       "3    House / apartment  ...      1      0  Sales staff         2.0   \n",
       "4    House / apartment  ...      0      0     Managers         2.0   \n",
       "\n",
       "   begin_month  credit  YEARS_BIRTH  Age_group  YEARS_EMPLOYED EMPLOYED_group  \n",
       "0          6.0     1.0           39         30              12          10~15  \n",
       "1          5.0     1.0           32         30               4            0~5  \n",
       "2         22.0     2.0           53         50              12          10~15  \n",
       "3         37.0     0.0           42         40               5           5~10  \n",
       "4         26.0     2.0           42         40               5           5~10  \n",
       "\n",
       "[5 rows x 21 columns]"
      ]
     },
     "execution_count": 58,
     "metadata": {},
     "output_type": "execute_result"
    }
   ],
   "source": [
    "train.drop(['DAYS_BIRTH', 'DAYS_EMPLOYED'], axis=1, inplace=True)\n",
    "test.drop(['DAYS_BIRTH', 'DAYS_EMPLOYED'], axis=1, inplace=True)\n",
    "\n",
    "train.head()"
   ]
  },
  {
   "cell_type": "markdown",
   "metadata": {},
   "source": [
    "# Creative income_avg columns and Exchange Rate kor won"
   ]
  },
  {
   "cell_type": "code",
   "execution_count": 59,
   "metadata": {},
   "outputs": [],
   "source": [
    "train['income_total']=train['income_total']*195/10000\n",
    "test['income_total']=test['income_total']*195/10000\n",
    "\n",
    "train['income_avg']=train['income_total']/train['family_size']\n",
    "test['income_avg']=test['income_total']/test['family_size']"
   ]
  },
  {
   "cell_type": "markdown",
   "metadata": {},
   "source": [
    "# Check ratio, remove outlier2"
   ]
  },
  {
   "cell_type": "code",
   "execution_count": 60,
   "metadata": {},
   "outputs": [
    {
     "data": {
      "text/plain": [
       "0~5      14805\n",
       "5~10      6475\n",
       "10~15     2712\n",
       "15~20     1193\n",
       "20~25      672\n",
       "25~30      371\n",
       "30~35      137\n",
       "35~40       54\n",
       "40~         32\n",
       "Name: EMPLOYED_group, dtype: int64"
      ]
     },
     "execution_count": 60,
     "metadata": {},
     "output_type": "execute_result"
    }
   ],
   "source": [
    "train['EMPLOYED_group'].value_counts()"
   ]
  },
  {
   "cell_type": "code",
   "execution_count": 61,
   "metadata": {},
   "outputs": [
    {
     "data": {
      "text/plain": [
       "count    26451.000000\n",
       "mean      3652.492959\n",
       "std       1986.811395\n",
       "min        526.500000\n",
       "25%       2369.250000\n",
       "50%       3071.250000\n",
       "75%       4387.500000\n",
       "max      30712.500000\n",
       "Name: income_total, dtype: float64"
      ]
     },
     "execution_count": 61,
     "metadata": {},
     "output_type": "execute_result"
    }
   ],
   "source": [
    "(train['income_total']).describe()"
   ]
  },
  {
   "cell_type": "code",
   "execution_count": 62,
   "metadata": {},
   "outputs": [],
   "source": [
    "def outlier(data,columns):\n",
    "    q1=data[columns].quantile(0.25)\n",
    "    q3=data[columns].quantile(0.75)\n",
    "    iqr=q3-q1\n",
    "    \n",
    "    out=data[columns]>q3+1.5*iqr\n",
    "    a=data[out].index\n",
    "    data.drop(a,inplace=True)\n",
    "    train.reset_index(inplace=True,drop=True)"
   ]
  },
  {
   "cell_type": "markdown",
   "metadata": {},
   "source": [
    "## Income outlier"
   ]
  },
  {
   "cell_type": "code",
   "execution_count": 63,
   "metadata": {},
   "outputs": [],
   "source": [
    "def outlier2(data,columns):\n",
    "    \n",
    "    out=data[columns]>20000\n",
    "    a=data[out].index\n",
    "    data.drop(a,inplace=True)\n",
    "    train.reset_index(inplace=True,drop=True)"
   ]
  },
  {
   "cell_type": "code",
   "execution_count": 64,
   "metadata": {},
   "outputs": [
    {
     "data": {
      "image/png": "[encoded data removed]",
      "text/plain": [
       "<Figure size 432x288 with 1 Axes>"
      ]
     },
     "metadata": {
      "needs_background": "light"
     },
     "output_type": "display_data"
    }
   ],
   "source": [
    "#plt.figure(figsize=(8,5))\n",
    "ax=sns.scatterplot(x=train['id'],y=train['income_total'],data=train)\n",
    "ax.set(xticklabels=[])\n",
    "ax.set(xlabel=None)\n",
    "ax.tick_params(bottom=False)"
   ]
  },
  {
   "cell_type": "code",
   "execution_count": 65,
   "metadata": {},
   "outputs": [
    {
     "data": {
      "image/png": "[encoded data removed]",
      "text/plain": [
       "<Figure size 432x288 with 1 Axes>"
      ]
     },
     "metadata": {
      "needs_background": "light"
     },
     "output_type": "display_data"
    }
   ],
   "source": [
    "outlier2(train,'income_total')\n",
    "ax=sns.scatterplot(x=train['id'],y=train['income_total'],data=train)\n",
    "ax.set(xticklabels=[])\n",
    "ax.set(xlabel=None)\n",
    "ax.tick_params(bottom=False)"
   ]
  },
  {
   "cell_type": "code",
   "execution_count": 66,
   "metadata": {},
   "outputs": [
    {
     "data": {
      "image/png": "[encoded data removed]",
      "text/plain": [
       "<Figure size 432x288 with 1 Axes>"
      ]
     },
     "metadata": {
      "needs_background": "light"
     },
     "output_type": "display_data"
    }
   ],
   "source": [
    "#plt.figure(figsize=(8,5))\n",
    "ax=sns.scatterplot(x=test['id'],y=test['income_avg'],data=test)\n",
    "ax.set(xticklabels=[])\n",
    "ax.set(xlabel=None)\n",
    "ax.tick_params(bottom=False)"
   ]
  },
  {
   "cell_type": "code",
   "execution_count": 67,
   "metadata": {},
   "outputs": [],
   "source": [
    "# def outlier3(data,columns):\n",
    "    \n",
    "#     out=data[columns]>8e5\n",
    "#     a=data[out].index\n",
    "#     data.drop(a,inplace=True)\n",
    "#     train.reset_index(inplace=True,drop=True)"
   ]
  },
  {
   "cell_type": "code",
   "execution_count": 68,
   "metadata": {},
   "outputs": [],
   "source": [
    "# outlier3(test,'income_total')\n",
    "# ax=sns.scatterplot(x=test['id'],y=test['income_avg'],data=test)\n",
    "# ax.set(xticklabels=[])\n",
    "# ax.set(xlabel=None)\n",
    "# ax.tick_params(bottom=False)"
   ]
  },
  {
   "cell_type": "code",
   "execution_count": 69,
   "metadata": {},
   "outputs": [],
   "source": [
    "# # outlier(train,'income_avg')\n",
    "# outlier(test,'income_avg')\n",
    "# ax=sns.scatterplot(x=test['id'],y=test['income_avg'],data=test)\n",
    "# ax.set(xticklabels=[])\n",
    "# ax.set(xlabel=None)\n",
    "# ax.tick_params(bottom=False)"
   ]
  },
  {
   "cell_type": "code",
   "execution_count": 70,
   "metadata": {},
   "outputs": [
    {
     "data": {
      "text/plain": [
       "Index(['id', 'gender', 'car', 'reality', 'child_num', 'income_total',\n",
       "       'income_type', 'edu_type', 'family_type', 'house_type', 'work_phone',\n",
       "       'phone', 'email', 'occyp_type', 'family_size', 'begin_month', 'credit',\n",
       "       'YEARS_BIRTH', 'Age_group', 'YEARS_EMPLOYED', 'EMPLOYED_group',\n",
       "       'income_avg'],\n",
       "      dtype='object')"
      ]
     },
     "execution_count": 70,
     "metadata": {},
     "output_type": "execute_result"
    }
   ],
   "source": [
    "train.columns"
   ]
  },
  {
   "cell_type": "code",
   "execution_count": 71,
   "metadata": {},
   "outputs": [],
   "source": [
    "dis=['car','reality','child_num','income_type', 'edu_type', 'family_type', 'house_type', 'work_phone',\n",
    "    'phone', 'email', 'family_size', 'credit', 'Age_group', 'EMPLOYED_group']"
   ]
  },
  {
   "cell_type": "code",
   "execution_count": 72,
   "metadata": {},
   "outputs": [],
   "source": [
    "def disp(data,columns):\n",
    "    if columns == 'EMPLOYED_group':\n",
    "        grid = sns.catplot(x=columns, kind='count', data=data,order=['0~5','5~10','10~15','15~20','20~25','25~30','30~35','35~40','40~'])\n",
    "    else:\n",
    "        grid = sns.catplot(x=columns, kind='count', data=data,order=list(data[columns].value_counts().index).sort())\n",
    "    ax = grid.axes[0, 0]\n",
    "    ax.bar_label(ax.containers[0])\n",
    "    plt.xticks(fontsize=10, rotation=-45)\n",
    "    plt.show()\n",
    "    #ax.set(title=columns)\n",
    "    "
   ]
  },
  {
   "cell_type": "code",
   "execution_count": 73,
   "metadata": {},
   "outputs": [
    {
     "data": {
      "image/png": "[encoded data removed]",
      "text/plain": [
       "<Figure size 360x360 with 1 Axes>"
      ]
     },
     "metadata": {
      "needs_background": "light"
     },
     "output_type": "display_data"
    },
    {
     "data": {
      "image/png": "[encoded data removed]",
      "text/plain": [
       "<Figure size 360x360 with 1 Axes>"
      ]
     },
     "metadata": {
      "needs_background": "light"
     },
     "output_type": "display_data"
    },
    {
     "data": {
      "image/png": "[encoded data removed]",
      "text/plain": [
       "<Figure size 360x360 with 1 Axes>"
      ]
     },
     "metadata": {
      "needs_background": "light"
     },
     "output_type": "display_data"
    },
    {
     "data": {
      "image/png": "[encoded data removed]",
      "text/plain": [
       "<Figure size 360x360 with 1 Axes>"
      ]
     },
     "metadata": {
      "needs_background": "light"
     },
     "output_type": "display_data"
    },
    {
     "data": {
      "image/png": "[encoded data removed]",
      "text/plain": [
       "<Figure size 360x360 with 1 Axes>"
      ]
     },
     "metadata": {
      "needs_background": "light"
     },
     "output_type": "display_data"
    },
    {
     "data": {
      "image/png": "[encoded data removed]",
      "text/plain": [
       "<Figure size 360x360 with 1 Axes>"
      ]
     },
     "metadata": {
      "needs_background": "light"
     },
     "output_type": "display_data"
    },
    {
     "data": {
      "image/png": "[encoded data removed]",
      "text/plain": [
       "<Figure size 360x360 with 1 Axes>"
      ]
     },
     "metadata": {
      "needs_background": "light"
     },
     "output_type": "display_data"
    },
    {
     "data": {
      "image/png": "[encoded data removed]",
      "text/plain": [
       "<Figure size 360x360 with 1 Axes>"
      ]
     },
     "metadata": {
      "needs_background": "light"
     },
     "output_type": "display_data"
    },
    {
     "data": {
      "image/png": "[encoded data removed]",
      "text/plain": [
       "<Figure size 360x360 with 1 Axes>"
      ]
     },
     "metadata": {
      "needs_background": "light"
     },
     "output_type": "display_data"
    },
    {
     "data": {
      "image/png": "[encoded data removed]",
      "text/plain": [
       "<Figure size 360x360 with 1 Axes>"
      ]
     },
     "metadata": {
      "needs_background": "light"
     },
     "output_type": "display_data"
    },
    {
     "data": {
      "image/png": "[encoded data removed]",
      "text/plain": [
       "<Figure size 360x360 with 1 Axes>"
      ]
     },
     "metadata": {
      "needs_background": "light"
     },
     "output_type": "display_data"
    },
    {
     "data": {
      "image/png": "[encoded data removed]",
      "text/plain": [
       "<Figure size 360x360 with 1 Axes>"
      ]
     },
     "metadata": {
      "needs_background": "light"
     },
     "output_type": "display_data"
    },
    {
     "data": {
      "image/png": "[encoded data removed]",
      "text/plain": [
       "<Figure size 360x360 with 1 Axes>"
      ]
     },
     "metadata": {
      "needs_background": "light"
     },
     "output_type": "display_data"
    },
    {
     "data": {
      "image/png": "[encoded data removed]",
      "text/plain": [
       "<Figure size 360x360 with 1 Axes>"
      ]
     },
     "metadata": {
      "needs_background": "light"
     },
     "output_type": "display_data"
    }
   ],
   "source": [
    "for i in dis:\n",
    "    disp(train,i)"
   ]
  },
  {
   "cell_type": "code",
   "execution_count": 74,
   "metadata": {},
   "outputs": [
    {
     "data": {
      "image/png": "[encoded data removed]",
      "text/plain": [
       "<Figure size 360x360 with 1 Axes>"
      ]
     },
     "metadata": {
      "needs_background": "light"
     },
     "output_type": "display_data"
    },
    {
     "data": {
      "image/png": "[encoded data removed]",
      "text/plain": [
       "<Figure size 360x360 with 1 Axes>"
      ]
     },
     "metadata": {
      "needs_background": "light"
     },
     "output_type": "display_data"
    },
    {
     "data": {
      "image/png": "[encoded data removed]",
      "text/plain": [
       "<Figure size 360x360 with 1 Axes>"
      ]
     },
     "metadata": {
      "needs_background": "light"
     },
     "output_type": "display_data"
    },
    {
     "data": {
      "image/png": "[encoded data removed]",
      "text/plain": [
       "<Figure size 360x360 with 1 Axes>"
      ]
     },
     "metadata": {
      "needs_background": "light"
     },
     "output_type": "display_data"
    },
    {
     "data": {
      "image/png": "[encoded data removed]",
      "text/plain": [
       "<Figure size 360x360 with 1 Axes>"
      ]
     },
     "metadata": {
      "needs_background": "light"
     },
     "output_type": "display_data"
    },
    {
     "data": {
      "image/png": "[encoded data removed]",
      "text/plain": [
       "<Figure size 360x360 with 1 Axes>"
      ]
     },
     "metadata": {
      "needs_background": "light"
     },
     "output_type": "display_data"
    },
    {
     "data": {
      "image/png": "[encoded data removed]",
      "text/plain": [
       "<Figure size 360x360 with 1 Axes>"
      ]
     },
     "metadata": {
      "needs_background": "light"
     },
     "output_type": "display_data"
    },
    {
     "data": {
      "image/png": "[encoded data removed]",
      "text/plain": [
       "<Figure size 360x360 with 1 Axes>"
      ]
     },
     "metadata": {
      "needs_background": "light"
     },
     "output_type": "display_data"
    },
    {
     "data": {
      "image/png": "[encoded data removed]",
      "text/plain": [
       "<Figure size 360x360 with 1 Axes>"
      ]
     },
     "metadata": {
      "needs_background": "light"
     },
     "output_type": "display_data"
    },
    {
     "data": {
      "image/png": "[encoded data removed]",
      "text/plain": [
       "<Figure size 360x360 with 1 Axes>"
      ]
     },
     "metadata": {
      "needs_background": "light"
     },
     "output_type": "display_data"
    },
    {
     "data": {
      "image/png": "[encoded data removed]",
      "text/plain": [
       "<Figure size 360x360 with 1 Axes>"
      ]
     },
     "metadata": {
      "needs_background": "light"
     },
     "output_type": "display_data"
    },
    {
     "data": {
      "image/png": "[encoded data removed]",
      "text/plain": [
       "<Figure size 360x360 with 1 Axes>"
      ]
     },
     "metadata": {
      "needs_background": "light"
     },
     "output_type": "display_data"
    },
    {
     "data": {
      "image/png": "[encoded data removed]",
      "text/plain": [
       "<Figure size 360x360 with 1 Axes>"
      ]
     },
     "metadata": {
      "needs_background": "light"
     },
     "output_type": "display_data"
    }
   ],
   "source": [
    "dis2=['car','reality','child_num','income_type', 'edu_type', 'family_type', 'house_type', 'work_phone',\n",
    "    'phone', 'email', 'family_size',  'Age_group', 'EMPLOYED_group']\n",
    "\n",
    "for i in dis2:\n",
    "    disp(test,i)"
   ]
  },
  {
   "cell_type": "code",
   "execution_count": 75,
   "metadata": {},
   "outputs": [],
   "source": [
    "train.to_csv('train2.csv')\n",
    "test.to_csv('test2.csv')"
   ]
  },
  {
   "cell_type": "code",
   "execution_count": 76,
   "metadata": {},
   "outputs": [
    {
     "data": {
      "text/plain": [
       "(10000, 21)"
      ]
     },
     "execution_count": 76,
     "metadata": {},
     "output_type": "execute_result"
    }
   ],
   "source": [
    "test.shape"
   ]
  },
  {
   "cell_type": "code",
   "execution_count": null,
   "metadata": {},
   "outputs": [],
   "source": []
  }
 ],
 "metadata": {
  "kernelspec": {
   "display_name": "Python 3.8.13 ('cp1')",
   "language": "python",
   "name": "python3"
  },
  "language_info": {
   "codemirror_mode": {
    "name": "ipython",
    "version": 3
   },
   "file_extension": ".py",
   "mimetype": "text/x-python",
   "name": "python",
   "nbconvert_exporter": "python",
   "pygments_lexer": "ipython3",
   "version": "3.8.13"
  },
  "orig_nbformat": 4,
  "vscode": {
   "interpreter": {
    "hash": "4e20cae8c02cdbfab86f340bcf03db6c207aa5d0f73c59fd22468510bba19095"
   }
  }
 },
 "nbformat": 4,
 "nbformat_minor": 2
}
